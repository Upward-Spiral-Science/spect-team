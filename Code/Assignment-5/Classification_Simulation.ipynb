{
 "cells": [
  {
   "cell_type": "markdown",
   "metadata": {},
   "source": [
    "## Depression Identification Simulation"
   ]
  },
  {
   "cell_type": "markdown",
   "metadata": {},
   "source": [
    "Note: The features are generated using PCA.ipynb."
   ]
  },
  {
   "cell_type": "code",
   "execution_count": 1,
   "metadata": {
    "collapsed": true
   },
   "outputs": [],
   "source": [
    "import pandas as pd\n",
    "import numpy as np\n",
    "\n",
    "df_feats = pd.read_csv('reduced_data.csv')\n",
    "df_labels = pd.read_csv('disorders.csv')['Depressed']"
   ]
  },
  {
   "cell_type": "markdown",
   "metadata": {},
   "source": [
    "## 1. State assumptions about your data\n",
    "\n",
    "- X are i.i.d. random variables.\n",
    "- y ~ Bern(p)"
   ]
  },
  {
   "cell_type": "markdown",
   "metadata": {},
   "source": [
    "## 2. Formally define classification problem\n",
    "\n",
    "Feature matrix X: R<sup>n x m</sup>\n",
    "\n",
    "Each sample X<sub>i</sub> ∈ R<sup>m</sup>, i ∈ [1, n]\n",
    "\n",
    "Label y<sub>i</sub> ∈ {0, 1}, i ∈ [1, n]\n",
    "\n",
    "g(X) → y\n",
    "\n",
    "G := { g: R → {0, 1} }\n",
    "\n",
    "Goal: g<sup>*</sup> = argmin<sub>g ∈ G</sub> E[L(g(X), y)], where L denotes loss function.\n",
    "\n",
    "\n",
    "The loss function L differs for different classifiers and is speficied in the classfication context below:\n",
    "\n",
    "- Multinomial Naive Bayes: negative joint likelihood\n",
    "\n",
    "    - L = -log p(X, y)\n",
    "    \n",
    "    \n",
    "- Logistic Regression:  logistic loss (cross-entropy loss)\n",
    "\n",
    "    - L = -log P(y|g(X)) = -(y · log(g(X)) + (1 - y) · log(1 - g(X))\n",
    "\n",
    "\n",
    "- K Nearest Neighbors\n",
    "\n",
    "    - L = ∑<sub>i</sub> D(X<sub>i</sub>|y<sub>i</sub>=1, X|y=1) + ∑<sub>i</sub> D(X<sub>i</sub>|y<sub>i</sub>=0, X|y=0)\n",
    "    \n",
    "    - D(a, b) = (a - b)<sup>2</sup>\n",
    "\n",
    "\n",
    "- Support Vector Machine: squared hinge loss\n",
    "\n",
    "    - L = (max{0, 1 − y · g(x)})<sup>2</sup>\n",
    "\n",
    "\n",
    "- Random Forest\n",
    "\n",
    "    - L = ∑<sub>i</sub> (g(X<sub>i</sub>) - y<sub>i</sub>)<sup>2</sup>\n",
    "    "
   ]
  },
  {
   "cell_type": "markdown",
   "metadata": {},
   "source": [
    "## 3. Provide algorithm for solving problem (including choosing hyperparameters as appropriate)\n",
    "\n",
    "- Multinomial Naive Bayes\n",
    "\n",
    "    - alpha: default =1.0 (Laplace smoothing parameter)\n",
    "    \n",
    "    - fit_prior: default = True (learn class prior probabilities)\n",
    "    \n",
    "    \n",
    "- Logistic Regression\n",
    "\n",
    "    - penalty = 'l1' (l1 norm for penalization)\n",
    "\n",
    "\n",
    "- K Nearest Neighbors\n",
    "\n",
    "    - n_neighbors = 10\n",
    "\n",
    "\n",
    "- Support Vector Machine (Linear Kernel)\n",
    "    \n",
    "    - C: default = 1.0 (penalty parameter of the error term)\n",
    "    \n",
    "\n",
    "- Random Forest\n",
    "    \n",
    "    - n_estimators = 20 (number of trees)\n",
    "    \n",
    "    - criterion: default = 'gini'"
   ]
  },
  {
   "cell_type": "markdown",
   "metadata": {},
   "source": [
    "### Simulation Setup"
   ]
  },
  {
   "cell_type": "code",
   "execution_count": 2,
   "metadata": {
    "collapsed": false
   },
   "outputs": [],
   "source": [
    "np.random.seed(12345678) # for reproducibility, set random seed\n",
    "r = 20  # define number of rois\n",
    "N = 100 # number of samples at each iteration\n",
    "p0 = 0.10\n",
    "p1 = 0.15\n",
    "\n",
    "# define number of subjects per class\n",
    "S = np.array((8, 16, 20, 32, 40, 64, 80, 100, 120, 200, 320, 400, 800, 1000))"
   ]
  },
  {
   "cell_type": "markdown",
   "metadata": {},
   "source": [
    "### Training & Test Utilities"
   ]
  },
  {
   "cell_type": "code",
   "execution_count": 3,
   "metadata": {
    "collapsed": true
   },
   "outputs": [],
   "source": [
    "# Train the given classifier\n",
    "def train_clf(clf, train_feats, train_labels):\n",
    "    # Supervised training\n",
    "    clf.fit(train_feats, train_labels)\n",
    "    \n",
    "# Test the given classifier anc calculate accuracy\n",
    "def test_clf(clf, test_feats, test_labels):\n",
    "    # Predict using test set\n",
    "    predicted = clf.predict(test_feats)\n",
    "    # Compute accuracy\n",
    "    acc = np.mean(predicted == test_labels)\n",
    "    return predicted, acc\n",
    "\n",
    "# Compute accuracy of a model trained with a specific number of samples\n",
    "def compute_acc(clf, n):\n",
    "    train_clf(clf, train_X[:n], train_y[:n])\n",
    "    predict_y, acc = test_clf(clf, test_X, test_y)\n",
    "    return acc"
   ]
  },
  {
   "cell_type": "markdown",
   "metadata": {},
   "source": [
    "## 4 & 5. Sample data from a simulation setting & Compute Accuracy "
   ]
  },
  {
   "cell_type": "code",
   "execution_count": 4,
   "metadata": {
    "collapsed": false
   },
   "outputs": [],
   "source": [
    "from sklearn.cross_validation import train_test_split\n",
    "from sklearn.naive_bayes import MultinomialNB\n",
    "from sklearn.linear_model import LogisticRegression\n",
    "from sklearn.neighbors import KNeighborsClassifier\n",
    "from sklearn.svm import LinearSVC\n",
    "from sklearn.ensemble import RandomForestClassifier\n",
    "\n",
    "[acc_NB, acc_LG, acc_KNN, acc_SVM, acc_RF] = [[]  for i in xrange(5)] \n",
    "\n",
    "for idx1, s in enumerate(S):\n",
    "    s0=s/2\n",
    "    s1=s/2\n",
    "\n",
    "    g0 = 1 * (np.random.rand( r, r, s0) > 1-p0)\n",
    "    g1 = 1 * (np.random.rand( r, r, s1) > 1-p1)\n",
    "    mbar0 = 1.0*np.sum(g0, axis=(0,1))\n",
    "    mbar1 = 1.0*np.sum(g1, axis=(0,1))\n",
    "\n",
    "    X = np.array((np.append(mbar0, mbar1), np.append(mbar0/( r**2), mbar1/( r**2 )))).T\n",
    "    y = np.append(np.zeros(s0), np.ones(s1))\n",
    "    \n",
    "    # Split the simulated data into training set and test set\n",
    "    # Randomly sample 20% data as the test set\n",
    "    train_X, test_X, train_y, test_y = train_test_split(X, y, test_size=0.2, random_state=42)\n",
    "    max_n = len(train_X)\n",
    "    \n",
    "    [acc_NB, acc_LG, acc_KNN, acc_SVM, acc_RF] = [[]  for i in xrange(5)] \n",
    "\n",
    "    for n in xrange(100, max_n, 100):\n",
    "        # Multinomial Naive Bayes\n",
    "        multiNB = MultinomialNB()\n",
    "        acc_NB.append(compute_acc(multiNB, n))\n",
    "\n",
    "        # Logistic Regression\n",
    "        lg = LogisticRegression(penalty='l1')\n",
    "        acc_LG.append(compute_acc(lg, n))\n",
    "\n",
    "        # K Nearest Neighbors\n",
    "        knn = KNeighborsClassifier(n_neighbors=10)\n",
    "        acc_KNN.append(compute_acc(knn, n))\n",
    "\n",
    "        # Support Vector Machine\n",
    "        svc = LinearSVC()\n",
    "        acc_SVM.append(compute_acc(svc, n)) \n",
    "\n",
    "        # Random Forest\n",
    "        rf = RandomForestClassifier(n_estimators=20) \n",
    "        acc_RF.append(compute_acc(rf, n))"
   ]
  },
  {
   "cell_type": "markdown",
   "metadata": {},
   "source": [
    "## 6. Plot accuracy vs. sample size in simulation"
   ]
  },
  {
   "cell_type": "code",
   "execution_count": 5,
   "metadata": {
    "collapsed": false
   },
   "outputs": [
    {
     "data": {
      "text/plain": [
       "<matplotlib.text.Text at 0x10e8c87d0>"
      ]
     },
     "execution_count": 5,
     "metadata": {},
     "output_type": "execute_result"
    },
    {
     "data": {
      "image/png": "[encoded data removed]",
      "text/plain": [
       "<matplotlib.figure.Figure at 0x10bad88d0>"
      ]
     },
     "metadata": {},
     "output_type": "display_data"
    }
   ],
   "source": [
    "%matplotlib inline\n",
    "import matplotlib.pyplot as plt\n",
    "\n",
    "sizes = range(100, max_n, 100)\n",
    "\n",
    "fig = plt.figure(1)\n",
    "fig.set_size_inches(9, 6.5)\n",
    "\n",
    "plt.plot(sizes, acc_NB, label='Multinomial NB')\n",
    "plt.plot(sizes, acc_LG, label='Logistic Regression')\n",
    "plt.plot(sizes, acc_KNN, label='K Nearest Neighbors')\n",
    "plt.plot(sizes, acc_SVM, label='Support Vector Machine')\n",
    "plt.plot(sizes, acc_RF, label='Random Forest')\n",
    "\n",
    "plt.legend(loc='best')\n",
    "plt.xlabel('sample size')\n",
    "plt.ylabel('Simulation Accuracy')"
   ]
  },
  {
   "cell_type": "markdown",
   "metadata": {},
   "source": [
    "## 7. Apply method directly on real data"
   ]
  },
  {
   "cell_type": "code",
   "execution_count": 6,
   "metadata": {
    "collapsed": false
   },
   "outputs": [],
   "source": [
    "real_y = df_labels.get_values()\n",
    "real_X = df_feats.get_values()\n",
    "\n",
    "def clean_negs(X):\n",
    "    # Get indices of columns that contain negative values\n",
    "    neg_col_inds = np.unique(np.where(X<0)[1])\n",
    "    # Subtract minimum negative for each column\n",
    "    for neg_i in neg_col_inds:\n",
    "        neg_col = X[:, neg_i]\n",
    "        min_neg = np.min(neg_col)\n",
    "        new_col = [c - min_neg for c in neg_col] \n",
    "        X[:, neg_i] = new_col\n",
    "    return X\n",
    "\n",
    "real_X = clean_negs(real_X)"
   ]
  },
  {
   "cell_type": "code",
   "execution_count": 7,
   "metadata": {
    "collapsed": false
   },
   "outputs": [
    {
     "name": "stdout",
     "output_type": "stream",
     "text": [
      "Training set size is (2236, 27)\n",
      "Testing set size is (560, 27)\n"
     ]
    }
   ],
   "source": [
    "'''\n",
    "Data Preparation\n",
    "'''\n",
    "from sklearn.cross_validation import train_test_split\n",
    "\n",
    "# Split the simulated data into training set and test set\n",
    "# Randomly sample 20% data as the test set\n",
    "train_X, test_X, train_y, test_y = train_test_split(real_X, real_y, test_size=0.2, random_state=42)\n",
    "\n",
    "print 'Training set size is', train_X.shape\n",
    "print 'Testing set size is', test_X.shape\n",
    "\n",
    "max_n = len(train_X)"
   ]
  },
  {
   "cell_type": "code",
   "execution_count": 8,
   "metadata": {
    "collapsed": true
   },
   "outputs": [],
   "source": [
    "# Multinomial Naive Bayes\n",
    "multiNB = MultinomialNB()\n",
    "train_clf(multiNB, train_X, train_y)\n",
    "predict_y, acc_nb = test_clf(multiNB, test_X, test_y)\n",
    "\n",
    "# Logistic Regression\n",
    "lg = LogisticRegression(penalty='l1')\n",
    "train_clf(lg, train_X, train_y)\n",
    "predict_y, acc_lg = test_clf(lg, test_X, test_y)\n",
    "\n",
    "# K Nearest Neighbors\n",
    "knn = KNeighborsClassifier(n_neighbors=10)\n",
    "train_clf(knn, train_X, train_y)\n",
    "predict_y, acc_knn = test_clf(knn, test_X, test_y)\n",
    "\n",
    "# Support Vector Machine\n",
    "svc = LinearSVC()\n",
    "train_clf(svc, train_X, train_y)\n",
    "predict_y, acc_svc = test_clf(svc, test_X, test_y)\n",
    "\n",
    "# Random Forest\n",
    "rf = RandomForestClassifier(n_estimators=20)\n",
    "train_clf(rf, train_X, train_y)\n",
    "predict_y, acc_rf = test_clf(rf, test_X, test_y)"
   ]
  },
  {
   "cell_type": "code",
   "execution_count": 9,
   "metadata": {
    "collapsed": false
   },
   "outputs": [
    {
     "name": "stdout",
     "output_type": "stream",
     "text": [
      "Multinomial Naive Bayes accuracy is 0.553571428571\n",
      "Logistic Regression accuracy is 0.966071428571\n",
      "K Nearest Neighbors accuracy is 0.560714285714\n",
      "Support Vector Machine (Linear Kernel) accuracy is 0.439285714286\n",
      "Random Forest accuracy is 0.967857142857\n"
     ]
    }
   ],
   "source": [
    "print 'Multinomial Naive Bayes accuracy is', acc_nb\n",
    "print 'Logistic Regression accuracy is', acc_lg\n",
    "print 'K Nearest Neighbors accuracy is', acc_knn\n",
    "print 'Support Vector Machine (Linear Kernel) accuracy is', acc_svc\n",
    "print 'Random Forest accuracy is', acc_rf"
   ]
  },
  {
   "cell_type": "code",
   "execution_count": 10,
   "metadata": {
    "collapsed": false
   },
   "outputs": [
    {
     "data": {
      "text/plain": [
       "<matplotlib.text.Text at 0x10ec67d90>"
      ]
     },
     "execution_count": 10,
     "metadata": {},
     "output_type": "execute_result"
    },
    {
     "data": {
      "image/png": "[encoded data removed]",
      "text/plain": [
       "<matplotlib.figure.Figure at 0x10bad83d0>"
      ]
     },
     "metadata": {},
     "output_type": "display_data"
    }
   ],
   "source": [
    "# Visualize classifier performance\n",
    "x = range(5)\n",
    "y = [acc_nb, acc_lg, acc_knn, acc_svc, acc_rf]\n",
    "clf_names = ['Multinomial Naive Bayes', 'Logistic Regression', \\\n",
    "             'K Nearest Neighbors', 'Support Vector Machine', 'Random Forest']\n",
    "\n",
    "width = 0.6/1.2\n",
    "plt.bar(x, y, width)\n",
    "\n",
    "plt.title('Classifier Performance')\n",
    "plt.xticks(x, clf_names, rotation=25)\n",
    "plt.ylabel('Accuracy')"
   ]
  },
  {
   "cell_type": "markdown",
   "metadata": {},
   "source": [
    "## 8. Explain the degree to which you believe the result and why"
   ]
  },
  {
   "cell_type": "markdown",
   "metadata": {
    "collapsed": true
   },
   "source": [
    "The best classification accuracy on the test set is 96.8%, yielded by the random forest classifier. Both logistic regression and random forest gave satisfying results on our real data.\n",
    "\n",
    "In the simulation setting, all classifiers except for Naive Bayes yielded high test accuracy, while on real data, KNN and SVM performed poorly.\n",
    "\n",
    "Note that for this notebook, we preprocessed features using PCA and Sparse PCA, to eliminate the dimensionality curse for SVM, but its performance is still intolerable. The analysis of the other four classifiers are conducted in Classification.ipynb Step 8, and is also applicable in this setting (reduced features).\n",
    "\n",
    "Next Steps:\n",
    " - Think about our assumptions.\n",
    " - Look into the reduced features, try finding out why SVM performed even more poorly.\n",
    " - Explore other machine learning techniques."
   ]
  }
 ],
 "metadata": {
  "kernelspec": {
   "display_name": "Python 2",
   "language": "python",
   "name": "python2"
  },
  "language_info": {
   "codemirror_mode": {
    "name": "ipython",
    "version": 2
   },
   "file_extension": ".py",
   "mimetype": "text/x-python",
   "name": "python",
   "nbconvert_exporter": "python",
   "pygments_lexer": "ipython2",
   "version": "2.7.11"
  }
 },
 "nbformat": 4,
 "nbformat_minor": 0
}
