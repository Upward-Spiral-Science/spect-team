{
 "cells": [
  {
   "cell_type": "markdown",
   "metadata": {},
   "source": [
    "## Depression Identification Simulation"
   ]
  },
  {
   "cell_type": "markdown",
   "metadata": {},
   "source": [
    "Note: The features are generated using PCA.ipynb."
   ]
  },
  {
   "cell_type": "code",
   "execution_count": 1,
   "metadata": {
    "collapsed": true
   },
   "outputs": [],
   "source": [
    "import pandas as pd\n",
    "import numpy as np\n",
    "\n",
    "df_feats = pd.read_csv('reduced_data.csv')\n",
    "df_labels = pd.read_csv('disorders.csv')['Depressed']"
   ]
  },
  {
   "cell_type": "markdown",
   "metadata": {},
   "source": [
    "## 1. State assumptions about your data\n",
    "\n",
    "- X has size: n samples by m features.\n",
    "\n",
    "- X are i.i.d. random variables.\n",
    "\n",
    "- X_j (j = 1,...,m) are identically distributed."
   ]
  },
  {
   "cell_type": "markdown",
   "metadata": {},
   "source": [
    "## 2. Formally define classification problem\n",
    "\n",
    "Feature matrix X: R<sup>n x m</sup>\n",
    "\n",
    "Each sample X<sub>i</sub> ∈ R<sup>m</sup>, i ∈ [1, n]\n",
    "\n",
    "Label y<sub>i</sub> ∈ {0, 1}, i ∈ [1, n]\n",
    "\n",
    "g(X) → y\n",
    "\n",
    "G := { g: R → {0, 1} }\n",
    "\n",
    "Goal: g<sup>*</sup> = argmin<sub>g ∈ G</sub> E[L(g(X), y)], where L denotes loss function.\n",
    "\n",
    "\n",
    "The loss function L differs for different classifiers and is speficied in the classfication context below:\n",
    "\n",
    "- Multinomial Naive Bayes: negative joint likelihood\n",
    "\n",
    "    - L = -log p(X, y)\n",
    "    \n",
    "    \n",
    "- Logistic Regression:  logistic loss (cross-entropy loss)\n",
    "\n",
    "    - L = -log P(y|g(X)) = -(y · log(g(X)) + (1 - y) · log(1 - g(X))\n",
    "\n",
    "\n",
    "- K Nearest Neighbors\n",
    "\n",
    "    - L = ∑<sub>i</sub> D(X<sub>i</sub>|y<sub>i</sub>=1, X|y=1) + ∑<sub>i</sub> D(X<sub>i</sub>|y<sub>i</sub>=0, X|y=0)\n",
    "    \n",
    "    - D(a, b) = (a - b)<sup>2</sup>\n",
    "\n",
    "\n",
    "- Support Vector Machine: squared hinge loss\n",
    "\n",
    "    - L = (max{0, 1 − y · g(x)})<sup>2</sup>\n",
    "\n",
    "\n",
    "- Random Forest\n",
    "\n",
    "    - L = ∑<sub>i</sub> (g(X<sub>i</sub>) - y<sub>i</sub>)<sup>2</sup>\n",
    "    \n",
    "    \n",
    "- Quadratic Discriminant Analysis\n",
    "\n",
    "    - L = max{0, 1 − y · g(x)}"
   ]
  },
  {
   "cell_type": "markdown",
   "metadata": {},
   "source": [
    "## 3. Provide algorithm for solving problem (including choosing hyperparameters as appropriate)\n",
    "\n",
    "    \n",
    "- Logistic Regression\n",
    "\n",
    "    - penalty = 'l1' (l1 norm for penalization)\n",
    "\n",
    "\n",
    "- K Nearest Neighbors\n",
    "\n",
    "    - n_neighbors = 7\n",
    "\n",
    "\n",
    "- Support Vector Machine (Linear Kernel)\n",
    "    \n",
    "    - C: default = 1.0 (penalty parameter of the error term)\n",
    "    \n",
    "\n",
    "- Random Forest\n",
    "    \n",
    "    - n_estimators = 20 (number of trees)\n",
    "    \n",
    "    - criterion: default = 'gini'\n",
    "\n",
    "\n",
    "- Quadratic Discriminant Analysis\n",
    "\n",
    "    - None"
   ]
  },
  {
   "cell_type": "markdown",
   "metadata": {},
   "source": [
    "#### Note: Generate random samples and plot accuracies based on Greg's code.\n",
    "\n",
    "### Simulation Setup"
   ]
  },
  {
   "cell_type": "code",
   "execution_count": 2,
   "metadata": {
    "collapsed": false
   },
   "outputs": [],
   "source": [
    "np.random.seed(12345678) # for reproducibility, set random seed\n",
    "r = 27  # define number of rois\n",
    "N = 100 # number of samples at each iteration\n",
    "p0 = 0.10\n",
    "p1 = 0.15\n",
    "\n",
    "# define number of subjects per class\n",
    "S = np.array((8, 16, 20, 32, 40, 64, 80, 100, 120, 200, 320, 400, 800, 1000))"
   ]
  },
  {
   "cell_type": "markdown",
   "metadata": {},
   "source": [
    "### Training & Test Utilities"
   ]
  },
  {
   "cell_type": "code",
   "execution_count": 3,
   "metadata": {
    "collapsed": false
   },
   "outputs": [],
   "source": [
    "from sklearn import cross_validation\n",
    "from sklearn.cross_validation import LeaveOneOut\n",
    "\n",
    "# Train the given classifier\n",
    "def train_clf(clf, train_feats, train_labels):\n",
    "    # Supervised training\n",
    "    clf.fit(train_feats, train_labels)\n",
    "    \n",
    "# Test the given classifier anc calculate accuracy\n",
    "def test_clf(clf, test_feats, test_labels):\n",
    "    # Predict using test set\n",
    "    predicted = clf.predict(test_feats)\n",
    "    # Compute accuracy\n",
    "    acc = np.mean(predicted == test_labels)\n",
    "    return predicted, acc\n",
    "\n",
    "# Compute accuracy of a model trained with a specific number (n) of samples \n",
    "def compute_acc(clf, n):\n",
    "    train_clf(clf, train_X[:n], train_y[:n])\n",
    "    predict_y, acc = test_clf(clf, test_X, test_y)\n",
    "    return acc\n",
    "\n",
    "# Leave one out cross validation\n",
    "def loo_cv(clf, X, y):\n",
    "    loo = LeaveOneOut(len(X))\n",
    "    scores = cross_validation.cross_val_score(clf, X, y, cv=loo)\n",
    "    return scores.mean(), scores.std()"
   ]
  },
  {
   "cell_type": "markdown",
   "metadata": {},
   "source": [
    "## 4 & 5. Sample data from a simulation setting & Compute Accuracy "
   ]
  },
  {
   "cell_type": "code",
   "execution_count": 4,
   "metadata": {
    "collapsed": false
   },
   "outputs": [
    {
     "name": "stderr",
     "output_type": "stream",
     "text": [
      "/Library/Python/2.7/site-packages/sklearn/qda.py:124: UserWarning: Variables are collinear\n",
      "  warnings.warn(\"Variables are collinear\")\n"
     ]
    }
   ],
   "source": [
    "from sklearn.cross_validation import train_test_split\n",
    "from sklearn.naive_bayes import MultinomialNB\n",
    "from sklearn.linear_model import LinearRegression, LogisticRegression\n",
    "from sklearn.neighbors import KNeighborsClassifier\n",
    "from sklearn.svm import LinearSVC\n",
    "from sklearn.ensemble import RandomForestClassifier\n",
    "from sklearn.qda import QDA\n",
    "\n",
    "[acc_LG, acc_KNN, acc_SVM, acc_RF, acc_QDA] = [[]  for i in xrange(5)] \n",
    "[err_LG, err_KNN, err_SVM, err_RF, err_QDA] = [[]  for i in xrange(5)] # accuracy standard deviation\n",
    "\n",
    "for idx1, s in enumerate(S):\n",
    "    s0=s/2\n",
    "    s1=s/2\n",
    "\n",
    "    g0 = 1 * (np.random.rand(r, r, s0) > 1-p0)\n",
    "    g1 = 1 * (np.random.rand(r, r, s1) > 1-p1)\n",
    "    mbar0 = 1.0 * np.sum(g0, axis=(0,1))\n",
    "    mbar1 = 1.0 * np.sum(g1, axis=(0,1))\n",
    "\n",
    "    X = np.array((np.append(mbar0, mbar1), np.append(mbar0/(r**2), mbar1/(r**2)))).T\n",
    "    y = np.append(np.zeros(s0), np.ones(s1))\n",
    "    \n",
    "    # Split the simulated data into training set and test set\n",
    "    # Randomly sample 20% data as the test set\n",
    "    train_X, test_X, train_y, test_y = cross_validation.train_test_split(X, y, test_size=0.2, random_state=42)\n",
    "    \n",
    "    # Logistic Regression\n",
    "    lg = LogisticRegression(penalty='l1')\n",
    "    acc, acc_std = loo_cv(lg, X, y)\n",
    "    acc_LG.append(acc)\n",
    "    err_LG.append(acc_std)\n",
    "\n",
    "    # K Nearest Neighbors\n",
    "    knn = KNeighborsClassifier(n_neighbors=7)\n",
    "    acc, acc_std = loo_cv(knn, X, y)\n",
    "    acc_KNN.append(acc)\n",
    "    err_KNN.append(acc_std)\n",
    "\n",
    "    # Support Vector Machine\n",
    "    svc = LinearSVC()\n",
    "    acc, acc_std = loo_cv(svc, X, y)\n",
    "    acc_SVM.append(acc)\n",
    "    err_SVM.append(acc_std) \n",
    "\n",
    "    # Random Forest\n",
    "    rf = RandomForestClassifier(n_estimators=20) \n",
    "    acc, acc_std = loo_cv(rf, X, y)\n",
    "    acc_RF.append(acc)\n",
    "    err_RF.append(acc_std) \n",
    "\n",
    "    # Quadratic Discriminant Analysis\n",
    "    qda = QDA()\n",
    "    acc, acc_std = loo_cv(qda, X, y)\n",
    "    acc_QDA.append(acc)\n",
    "    err_QDA.append(acc_std)"
   ]
  },
  {
   "cell_type": "markdown",
   "metadata": {},
   "source": [
    "## 6. Plot accuracy vs. sample size in simulation"
   ]
  },
  {
   "cell_type": "code",
   "execution_count": 5,
   "metadata": {
    "collapsed": false
   },
   "outputs": [
    {
     "data": {
      "image/png": "[encoded data removed]",
      "text/plain": [
       "<matplotlib.figure.Figure at 0x10a205950>"
      ]
     },
     "metadata": {},
     "output_type": "display_data"
    }
   ],
   "source": [
    "%matplotlib inline\n",
    "import matplotlib.pyplot as plt\n",
    "\n",
    "fig = plt.figure(1)\n",
    "fig.set_size_inches(9, 6.5)\n",
    "\n",
    "plt.errorbar(S, acc_LG, yerr=err_LG, label='Logistic Regression')\n",
    "plt.errorbar(S, acc_KNN, yerr=err_KNN, label='K Nearest Neighbors')\n",
    "plt.errorbar(S, acc_SVM, yerr=err_SVM, label='Support Vector Machine')\n",
    "plt.errorbar(S, acc_RF, yerr=err_RF, label='Random Forest')\n",
    "plt.errorbar(S, acc_QDA, yerr=err_QDA, label='Quadratic Discriminant Analysis')\n",
    "\n",
    "plt.xscale('log')\n",
    "plt.xlabel('number of samples')\n",
    "plt.ylabel('accuracy')\n",
    "plt.title('Accuracty of gender classification under simulated data')\n",
    "plt.axhline(1, color='red', linestyle='--')\n",
    "plt.legend(loc='center left', bbox_to_anchor=(1, 0.5))\n",
    "plt.show()"
   ]
  },
  {
   "cell_type": "markdown",
   "metadata": {},
   "source": [
    "## 7. Apply method directly on real data"
   ]
  },
  {
   "cell_type": "code",
   "execution_count": 6,
   "metadata": {
    "collapsed": false
   },
   "outputs": [],
   "source": [
    "# Not needed in this notebook, only used in an ealier verion, kept in case\n",
    "def clean_negs(X):\n",
    "    # Get indices of columns that contain negative values\n",
    "    neg_col_inds = np.unique(np.where(X<0)[1])\n",
    "    # Subtract minimum negative for each column\n",
    "    for neg_i in neg_col_inds:\n",
    "        neg_col = X[:, neg_i]\n",
    "        min_neg = np.min(neg_col)\n",
    "        new_col = [c - min_neg for c in neg_col] \n",
    "        X[:, neg_i] = new_col\n",
    "    return X"
   ]
  },
  {
   "cell_type": "code",
   "execution_count": 7,
   "metadata": {
    "collapsed": false
   },
   "outputs": [
    {
     "name": "stdout",
     "output_type": "stream",
     "text": [
      "Dataset size is (2796, 27)\n"
     ]
    }
   ],
   "source": [
    "'''\n",
    "Data Preparation\n",
    "'''\n",
    "from sklearn.cross_validation import train_test_split\n",
    "\n",
    "real_X = df_feats.get_values()\n",
    "real_y = df_labels.get_values()\n",
    "\n",
    "print 'Dataset size is', real_X.shape"
   ]
  },
  {
   "cell_type": "code",
   "execution_count": 8,
   "metadata": {
    "collapsed": false
   },
   "outputs": [],
   "source": [
    "# Logistic Regression\n",
    "lg = LogisticRegression(penalty='l1')\n",
    "acc_lg, acc_std_lg = loo_cv(lg, real_X, real_y)\n",
    "\n",
    "# K Nearest Neighbors\n",
    "knn = KNeighborsClassifier(n_neighbors=7)\n",
    "acc_knn, acc_std_knn = loo_cv(knn, real_X, real_y)\n",
    "\n",
    "# Support Vector Machine\n",
    "svc = LinearSVC()\n",
    "acc_svm, acc_std_svm = loo_cv(svc, real_X, real_y)\n",
    "\n",
    "# Random Forest\n",
    "rf = RandomForestClassifier(n_estimators=20) \n",
    "acc_rf, acc_std_rf = loo_cv(rf, real_X, real_y) \n",
    "\n",
    "# Quadratic Discriminant Analysis\n",
    "qda = QDA()\n",
    "acc_qda, acc_std_qda = loo_cv(qda, real_X, real_y)"
   ]
  },
  {
   "cell_type": "code",
   "execution_count": 9,
   "metadata": {
    "collapsed": false
   },
   "outputs": [
    {
     "name": "stdout",
     "output_type": "stream",
     "text": [
      "Logistic Regression accuracy is 0.9653 (+/- 0.183)\n",
      "K Nearest Neighbors accuracy is 0.5594 (+/- 0.496)\n",
      "Support Vector Machine (Linear Kernel) accuracy is 0.4882 (+/- 0.500)\n",
      "Random Forest accuracy is 0.9649 (+/- 0.184)\n",
      "Quadratic Discriminant Analysis accuracy is 0.9624 (+/- 0.190)\n"
     ]
    }
   ],
   "source": [
    "print 'Logistic Regression accuracy is %0.4f (+/- %0.3f)' % (acc_lg, acc_std_lg)\n",
    "print 'K Nearest Neighbors accuracy is %0.4f (+/- %0.3f)' % (acc_knn, acc_std_knn)\n",
    "print 'Support Vector Machine (Linear Kernel) accuracy is %0.4f (+/- %0.3f)' % (acc_svm, acc_std_svm)\n",
    "print 'Random Forest accuracy is %0.4f (+/- %0.3f)' % (acc_rf, acc_std_rf)\n",
    "print 'Quadratic Discriminant Analysis accuracy is %0.4f (+/- %0.3f)' % (acc_qda, acc_std_qda)"
   ]
  },
  {
   "cell_type": "code",
   "execution_count": 10,
   "metadata": {
    "collapsed": false
   },
   "outputs": [
    {
     "data": {
      "text/plain": [
       "<matplotlib.text.Text at 0x109c1f1d0>"
      ]
     },
     "execution_count": 10,
     "metadata": {},
     "output_type": "execute_result"
    },
    {
     "data": {
      "image/png": "[encoded data removed]",
      "text/plain": [
       "<matplotlib.figure.Figure at 0x10b4b8c90>"
      ]
     },
     "metadata": {},
     "output_type": "display_data"
    }
   ],
   "source": [
    "# Visualize classifier performance\n",
    "x = range(5)\n",
    "y = [acc_lg, acc_knn, acc_svm, acc_rf, acc_qda]\n",
    "clf_names = ['Logistic Regression', 'K Nearest Neighbors', \\\n",
    "             'Support Vector Machine', 'Random Forest', 'Quadratic Discriminant Analysis']\n",
    "\n",
    "width = 0.6/1.2\n",
    "plt.bar(x, y, width)\n",
    "\n",
    "plt.title('Classifier Performance')\n",
    "plt.xticks(x, clf_names, rotation=25)\n",
    "plt.ylabel('Accuracy')"
   ]
  },
  {
   "cell_type": "markdown",
   "metadata": {},
   "source": [
    "## 8. Explain the degree to which you believe the result and why"
   ]
  },
  {
   "cell_type": "markdown",
   "metadata": {
    "collapsed": true
   },
   "source": [
    "The best classification accuracy on the test set is about 96.53%, yielded by the logistic regression classifier. Random forest and quadratic discriminant analysis classifier also give satisfying results on our real data.\n",
    "\n",
    "Logistic regression is intuitively simple while reasonably complex compared to some other naive or linear models (e.g. naive bayes and linear regression). It is also prune to overfitting. \n",
    "\n",
    "KNN computes distances between samples to determine which class a sample belongs to. It does not capture the importance of each feature. It is simple and elegant but not semantically powerful enough. From the result of KNN we can conclude that we should not use a non-parametric method to analyze our data.\n",
    "\n",
    "Random forest deals well with skewed data, but it can overfit the training data. If we can remove more noise from the training data, theoretically random forest would perform even better.\n",
    "\n",
    "Note that for this notebook, we preprocessed features using PCA and Sparse PCA, to eliminate the dimensionality curse for SVM, but its performance is still intolerable. This is because our data might be skewed, since it contains so much information, and can be divided into subsets and trained in parallel (e.g. individual information, disorder diagnosis, questionare data, RBF data), SVM is inefficient in such senario.\n",
    "\n",
    "QDA has quadratic decision boundary and works very well on small dataset. But it might not be ideal for larger and noiser dataset, since its non-linearity leads to complexity in many senses. \n",
    "\n",
    "Next Steps:\n",
    " - Think about our assumptions.\n",
    " - Explore other machine learning techniques.\n",
    " - Explore other interesting properties of our data."
   ]
  }
 ],
 "metadata": {
  "kernelspec": {
   "display_name": "Python 2",
   "language": "python",
   "name": "python2"
  },
  "language_info": {
   "codemirror_mode": {
    "name": "ipython",
    "version": 2
   },
   "file_extension": ".py",
   "mimetype": "text/x-python",
   "name": "python",
   "nbconvert_exporter": "python",
   "pygments_lexer": "ipython2",
   "version": "2.7.11"
  }
 },
 "nbformat": 4,
 "nbformat_minor": 0
}
