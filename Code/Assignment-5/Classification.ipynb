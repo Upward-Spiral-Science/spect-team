{
 "cells": [
  {
   "cell_type": "markdown",
   "metadata": {},
   "source": [
    "## Depression Identification"
   ]
  },
  {
   "cell_type": "code",
   "execution_count": 1,
   "metadata": {
    "collapsed": false
   },
   "outputs": [],
   "source": [
    "import pandas as pd\n",
    "import numpy as np\n",
    "\n",
    "# Our data is cleaned by cleaning utility code\n",
    "df = pd.read_csv('Clean_Data_Adults_1.csv')"
   ]
  },
  {
   "cell_type": "code",
   "execution_count": 2,
   "metadata": {
    "collapsed": false
   },
   "outputs": [],
   "source": [
    "# Separate labels and Features\n",
    "df_labels = df['Depressed']\n",
    "df_feats = df.drop(['Depressed', 'Unnamed: 0'], axis=1, inplace=False)\n",
    "\n",
    "X = df_feats.get_values()  # features\n",
    "y = df_labels.get_values() # labels"
   ]
  },
  {
   "cell_type": "code",
   "execution_count": 3,
   "metadata": {
    "collapsed": false
   },
   "outputs": [],
   "source": [
    "'''\n",
    "Get rid of the negative values of the race_id columns\n",
    "W.L.O.G., subtract the minimum negative from the entire column \n",
    "'''\n",
    "def clean_negs(X):\n",
    "    # Get indices of columns that contain negative values\n",
    "    neg_col_inds = np.unique(np.where(X<0)[1])\n",
    "\n",
    "    # Subtract minimum negative for each column\n",
    "    for neg_i in neg_col_inds:\n",
    "        neg_col = X[:, neg_i]\n",
    "        min_neg = np.min(neg_col)\n",
    "        new_col = [c - min_neg for c in neg_col] \n",
    "        X[:, neg_i] = new_col\n",
    "        \n",
    "    return X"
   ]
  },
  {
   "cell_type": "code",
   "execution_count": 4,
   "metadata": {
    "collapsed": false
   },
   "outputs": [],
   "source": [
    "# Preprocess training features\n",
    "X = clean_negs(X)"
   ]
  },
  {
   "cell_type": "markdown",
   "metadata": {},
   "source": [
    "## 1. State assumptions about your data"
   ]
  },
  {
   "cell_type": "markdown",
   "metadata": {},
   "source": [
    "- X are i.i.d. random variables.\n",
    "- y ~ Bern(p)"
   ]
  },
  {
   "cell_type": "markdown",
   "metadata": {},
   "source": [
    "## 2. Formally define classification problem"
   ]
  },
  {
   "cell_type": "markdown",
   "metadata": {},
   "source": [
    "Feature matrix X: R<sup>n x m</sup>\n",
    "\n",
    "Each sample X<sub>i</sub> ∈ R<sup>m</sup>, i ∈ [1, n]\n",
    "\n",
    "Label y<sub>i</sub> ∈ {0, 1}, i ∈ [1, n]\n",
    "\n",
    "g(X) → y\n",
    "\n",
    "G := { g: R → {0, 1} }\n",
    "\n",
    "Goal: g<sup>*</sup> = argmin<sub>g ∈ G</sub> E[L(g(X), y)], where L denotes loss function.\n",
    "\n",
    "\n",
    "The loss function L differs for different classifiers and is speficied in the classfication context below:\n",
    "\n",
    "- Multinomial Naive Bayes: negative joint likelihood\n",
    "\n",
    "    - L = -log p(X, y)\n",
    "    \n",
    "    \n",
    "- Logistic Regression:  logistic loss (cross-entropy loss)\n",
    "\n",
    "    - L = -log P(y|g(X)) = -(y · log(g(X)) + (1 - y) · log(1 - g(X))\n",
    "\n",
    "\n",
    "- K Nearest Neighbors\n",
    "\n",
    "    - L = ∑<sub>i</sub> D(X<sub>i</sub>|y<sub>i</sub>=1, X|y=1) + ∑<sub>i</sub> D(X<sub>i</sub>|y<sub>i</sub>=0, X|y=0)\n",
    "    \n",
    "    - D(a, b) = (a - b)<sup>2</sup>\n",
    "\n",
    "\n",
    "- Support Vector Machine: squared hinge loss\n",
    "\n",
    "    - L = (max{0, 1 − y · g(x)})<sup>2</sup>\n",
    "\n",
    "\n",
    "- Random Forest\n",
    "\n",
    "    - L = ∑<sub>i</sub> (g(X<sub>i</sub>) - y<sub>i</sub>)<sup>2</sup>\n",
    "    \n"
   ]
  },
  {
   "cell_type": "markdown",
   "metadata": {},
   "source": [
    "## 3. Provide algorithm for solving problem (including choosing hyperparameters as appropriate)\n",
    "\n",
    "- Multinomial Naive Bayes\n",
    "\n",
    "    - alpha: default =1.0 (Laplace smoothing parameter)\n",
    "    \n",
    "    - fit_prior: default = True (learn class prior probabilities)\n",
    "    \n",
    "    \n",
    "- Logistic Regression\n",
    "\n",
    "    - penalty = 'l1' (l1 norm for penalization)\n",
    "\n",
    "\n",
    "- K Nearest Neighbors\n",
    "\n",
    "    - n_neighbors = 10\n",
    "\n",
    "\n",
    "- Support Vector Machine (Linear Kernel)\n",
    "    \n",
    "    - C: default = 1.0 (penalty parameter of the error term)\n",
    "    \n",
    "\n",
    "- Random Forest\n",
    "    \n",
    "    - n_estimators = 60 (number of trees)\n",
    "    \n",
    "    - criterion: default = 'gini'\n"
   ]
  },
  {
   "cell_type": "markdown",
   "metadata": {},
   "source": [
    "## 4. Sample data from a simulation setting inspired by your data "
   ]
  },
  {
   "cell_type": "code",
   "execution_count": 5,
   "metadata": {
    "collapsed": false
   },
   "outputs": [
    {
     "name": "stdout",
     "output_type": "stream",
     "text": [
      "Training set size is (2236, 735)\n",
      "Testing set size is (560, 735)\n"
     ]
    }
   ],
   "source": [
    "'''\n",
    "Data Preparation\n",
    "'''\n",
    "from sklearn.cross_validation import train_test_split\n",
    "\n",
    "# Split the simulated data into training set and test set\n",
    "# Randomly sample 20% data as the test set\n",
    "train_X, test_X, train_y, test_y = train_test_split(X, y, test_size=0.2, random_state=42)\n",
    "\n",
    "print 'Training set size is', train_X.shape\n",
    "print 'Testing set size is', test_X.shape\n",
    "\n",
    "max_n = len(train_X)"
   ]
  },
  {
   "cell_type": "code",
   "execution_count": 6,
   "metadata": {
    "collapsed": false
   },
   "outputs": [],
   "source": [
    "# Train the given classifier\n",
    "def train_clf(clf, train_feats, train_labels):\n",
    "    # Supervised training\n",
    "    clf.fit(train_feats, train_labels)\n",
    "    \n",
    "# Test the given classifier anc calculate accuracy\n",
    "def test_clf(clf, test_feats, test_labels):\n",
    "    # Predict using test set\n",
    "    predicted = clf.predict(test_feats)\n",
    "    # Compute accuracy\n",
    "    acc = np.mean(predicted == test_labels)\n",
    "    return predicted, acc"
   ]
  },
  {
   "cell_type": "markdown",
   "metadata": {},
   "source": [
    "## 5. Compute accuracy"
   ]
  },
  {
   "cell_type": "code",
   "execution_count": 8,
   "metadata": {
    "collapsed": true
   },
   "outputs": [],
   "source": [
    "# Compute accuracy of a model trained with a specific number of samples\n",
    "def compute_acc(clf, n):\n",
    "    train_clf(clf, train_X[:n], train_y[:n])\n",
    "    predict_y, acc = test_clf(clf, test_X, test_y)\n",
    "    return acc"
   ]
  },
  {
   "cell_type": "code",
   "execution_count": 9,
   "metadata": {
    "collapsed": false
   },
   "outputs": [],
   "source": [
    "from sklearn.naive_bayes import MultinomialNB\n",
    "from sklearn.linear_model import LogisticRegression\n",
    "from sklearn.neighbors import KNeighborsClassifier\n",
    "from sklearn.svm import LinearSVC\n",
    "from sklearn.ensemble import RandomForestClassifier\n",
    "\n",
    "[acc_NB, acc_LG, acc_KNN, acc_SVM, acc_RF] = [[]  for i in xrange(5)] \n",
    "\n",
    "for n in xrange(100, max_n, 100):\n",
    "    # Multinomial Naive Bayes\n",
    "    multiNB = MultinomialNB()\n",
    "    acc_NB.append(compute_acc(multiNB, n))\n",
    "    \n",
    "    # Logistic Regression\n",
    "    lg = LogisticRegression(penalty='l1')\n",
    "    acc_LG.append(compute_acc(lg, n))\n",
    "    \n",
    "    # K Nearest Neighbors\n",
    "    knn = KNeighborsClassifier(n_neighbors=10)\n",
    "    acc_KNN.append(compute_acc(knn, n))\n",
    "    \n",
    "    # Support Vector Machine\n",
    "    svc = LinearSVC()\n",
    "    acc_SVM.append(compute_acc(svc, n)) \n",
    "    \n",
    "    # Random Forest\n",
    "    rf = RandomForestClassifier(n_estimators=60) \n",
    "    acc_RF.append(compute_acc(rf, n))"
   ]
  },
  {
   "cell_type": "markdown",
   "metadata": {},
   "source": [
    "## 6. Plot accuracy vs. sample size in simulation"
   ]
  },
  {
   "cell_type": "code",
   "execution_count": 10,
   "metadata": {
    "collapsed": false
   },
   "outputs": [
    {
     "data": {
      "text/plain": [
       "<matplotlib.text.Text at 0x1133bff90>"
      ]
     },
     "execution_count": 10,
     "metadata": {},
     "output_type": "execute_result"
    },
    {
     "data": {
      "image/png": "[encoded data removed]",
      "text/plain": [
       "<matplotlib.figure.Figure at 0x11929ee90>"
      ]
     },
     "metadata": {},
     "output_type": "display_data"
    }
   ],
   "source": [
    "%matplotlib inline\n",
    "import matplotlib.pyplot as plt\n",
    "\n",
    "sizes = range(100, max_n, 100)\n",
    "\n",
    "fig = plt.figure(1)\n",
    "fig.set_size_inches(9, 6.5)\n",
    "\n",
    "plt.plot(sizes, acc_NB, label='Multinomial NB')\n",
    "plt.plot(sizes, acc_LG, label='Logistic Regression')\n",
    "plt.plot(sizes, acc_KNN, label='K Nearest Neighbors')\n",
    "plt.plot(sizes, acc_SVM, label='Support Vector Machine')\n",
    "plt.plot(sizes, acc_RF, label='Random Forest')\n",
    "\n",
    "plt.legend(loc='best')\n",
    "plt.xlabel('sample size')\n",
    "plt.ylabel('Simulation Accuracy')"
   ]
  },
  {
   "cell_type": "markdown",
   "metadata": {},
   "source": [
    "## 7. Apply method directly on real data "
   ]
  },
  {
   "cell_type": "code",
   "execution_count": 13,
   "metadata": {
    "collapsed": false
   },
   "outputs": [
    {
     "name": "stdout",
     "output_type": "stream",
     "text": [
      "\n"
     ]
    }
   ],
   "source": [
    "'''\n",
    "Train models with all the training data\n",
    "Evaluate using the test data\n",
    "'''\n",
    "# Multinomial Naive Bayes\n",
    "multiNB = MultinomialNB()\n",
    "train_clf(multiNB, train_X, train_y)\n",
    "predict_y, acc_nb = test_clf(multiNB, test_X, test_y)\n",
    "\n",
    "# Logistic Regression\n",
    "lg = LogisticRegression(penalty='l1')\n",
    "train_clf(lg, train_X, train_y)\n",
    "predict_y, acc_lg = test_clf(lg, test_X, test_y)\n",
    "\n",
    "# K Nearest Neighbors\n",
    "knn = KNeighborsClassifier(n_neighbors=10)\n",
    "train_clf(knn, train_X, train_y)\n",
    "predict_y, acc_knn = test_clf(knn, test_X, test_y)\n",
    "\n",
    "# Support Vector Machine\n",
    "svc = LinearSVC()\n",
    "train_clf(svc, train_X, train_y)\n",
    "predict_y, acc_svc = test_clf(svc, test_X, test_y)\n",
    "\n",
    "# Random Forest\n",
    "rf = RandomForestClassifier(n_estimators=60)\n",
    "train_clf(rf, train_X, train_y)\n",
    "predict_y, acc_rf = test_clf(rf, test_X, test_y)"
   ]
  },
  {
   "cell_type": "code",
   "execution_count": 14,
   "metadata": {
    "collapsed": false
   },
   "outputs": [
    {
     "name": "stdout",
     "output_type": "stream",
     "text": [
      "Multinomial Naive Bayes accuracy is 0.582142857143\n",
      "Logistic Regression accuracy is 0.946428571429\n",
      "K Nearest Neighbors accuracy is 0.5125\n",
      "Support Vector Machine (Linear Kernel) accuracy is 0.564285714286\n",
      "Random Forest accuracy is 0.832142857143\n"
     ]
    }
   ],
   "source": [
    "print 'Multinomial Naive Bayes accuracy is', acc_nb\n",
    "print 'Logistic Regression accuracy is', acc_lg\n",
    "print 'K Nearest Neighbors accuracy is', acc_knn\n",
    "print 'Support Vector Machine (Linear Kernel) accuracy is', acc_svc\n",
    "print 'Random Forest accuracy is', acc_rf"
   ]
  },
  {
   "cell_type": "code",
   "execution_count": 16,
   "metadata": {
    "collapsed": false
   },
   "outputs": [
    {
     "data": {
      "text/plain": [
       "<matplotlib.text.Text at 0x1138eab90>"
      ]
     },
     "execution_count": 16,
     "metadata": {},
     "output_type": "execute_result"
    },
    {
     "data": {
      "image/png": "[encoded data removed]",
      "text/plain": [
       "<matplotlib.figure.Figure at 0x117fbabd0>"
      ]
     },
     "metadata": {},
     "output_type": "display_data"
    }
   ],
   "source": [
    "# Visualize classifier performance\n",
    "x = range(5)\n",
    "y = [acc_nb, acc_lg, acc_knn, acc_svc, acc_rf]\n",
    "clf_names = ['Multinomial Naive Bayes', 'Logistic Regression', \\\n",
    "             'K Nearest Neighbors', 'Support Vector Machine', 'Random Forest']\n",
    "\n",
    "width = 0.6/1.2\n",
    "plt.bar(x, y, width)\n",
    "\n",
    "plt.title('Classifier Performance')\n",
    "plt.xticks(x, clf_names, rotation=25)\n",
    "plt.ylabel('Accuracy')"
   ]
  },
  {
   "cell_type": "markdown",
   "metadata": {},
   "source": [
    "## 8. Explain the degree to which you believe the result and why"
   ]
  },
  {
   "cell_type": "markdown",
   "metadata": {
    "collapsed": true
   },
   "source": [
    "Since this experiment is conducted on the real data, and the data size is relatively large, I think we can trust the result to a certain extent. We use random splitting instead of k-fold cross-validation because we have enough samples and cross-validation is computationally expensive.\n",
    "\n",
    "The best classification accuracy on the test set is 94.6%, yielded by the logistic regression classifier. Both logistic regression and random forest yielded fair results. In particular, logistic regression converges really fast, as shown in the accuracy curve. \n",
    "\n",
    "Logistic regression has low variance and less prone to overfit the data. Its high predication accuracy indicates that we might be able to find a single linear boundary that correctly separate the majority of our data.\n",
    "\n",
    "Random forest deals well with skewed data, but it can overfit the training data. If we can remove more noise from the training data, theoretically random forest would perform better.\n",
    "\n",
    "Naive Bayes makes conditional independence assumption, it failed to capture the correlation between our features, whereas a lot of disorder or symptom features are concurrent.\n",
    "\n",
    "KNN computes distances between samples to determine which class a sample belongs to. It does not capture the importance of each feature. From the result of KNN we can conclude that we should not use a non-parametric method to analyze our data.\n",
    "\n",
    "The performance of SVM is really poor, because our data might be skewed, since it contains so much information, and can be divided into subsets and trained in parallel (e.g. individual information, questionare data, RBF data). Also our dataset has a large number of features compared to the number of samples, SVM is inefficient in such senario.\n",
    "\n",
    "Next, we want to look into the correlation of the features and figure out how to properly simulate the distribution of the real data."
   ]
  }
 ],
 "metadata": {
  "kernelspec": {
   "display_name": "Python 2",
   "language": "python",
   "name": "python2"
  },
  "language_info": {
   "codemirror_mode": {
    "name": "ipython",
    "version": 2
   },
   "file_extension": ".py",
   "mimetype": "text/x-python",
   "name": "python",
   "nbconvert_exporter": "python",
   "pygments_lexer": "ipython2",
   "version": "2.7.11"
  }
 },
 "nbformat": 4,
 "nbformat_minor": 0
}
