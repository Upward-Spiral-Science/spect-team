{
 "cells": [
  {
   "cell_type": "code",
   "execution_count": 87,
   "metadata": {
    "collapsed": false
   },
   "outputs": [],
   "source": [
    "import pandas as pd\n",
    "import numpy as np\n",
    "\n",
    "# Our data is cleaned by cleaning utility code\n",
    "df = pd.read_csv('Clean_Data_Adults_1.csv')"
   ]
  },
  {
   "cell_type": "code",
   "execution_count": 97,
   "metadata": {
    "collapsed": false
   },
   "outputs": [],
   "source": [
    "# Separate labels and Features\n",
    "df_labels = df['Depressed']\n",
    "df_feats = df.drop(['Depressed'], axis=1, inplace=False)\n",
    "\n",
    "X = df_feats.get_values()  # features\n",
    "y = df_labels.get_values() # labels"
   ]
  },
  {
   "cell_type": "code",
   "execution_count": 100,
   "metadata": {
    "collapsed": false
   },
   "outputs": [],
   "source": [
    "'''\n",
    "Get rid of the negative values of the race_id columns\n",
    "W.L.O.G., subtract the minimum negative from the entire column \n",
    "'''\n",
    "\n",
    "# Get indices of column that contains negative values\n",
    "neg_col_inds = np.unique(np.where(X<0)[1])\n",
    "\n",
    "# Subtract minimum negative for each column\n",
    "for neg_i in neg_col_inds:\n",
    "    neg_col = X[:, neg_i]\n",
    "    min_neg = np.min(neg_col)\n",
    "    new_col = [c - min_neg for c in neg_col] \n",
    "    X[:, neg_i] = new_col"
   ]
  },
  {
   "cell_type": "markdown",
   "metadata": {},
   "source": [
    "## 1. State assumptions about your data"
   ]
  },
  {
   "cell_type": "markdown",
   "metadata": {},
   "source": [
    "- X are i.i.d. random variables.\n",
    "- y ~ Bern(p)"
   ]
  },
  {
   "cell_type": "markdown",
   "metadata": {},
   "source": [
    "## 2. Formally define classification problem"
   ]
  },
  {
   "cell_type": "markdown",
   "metadata": {},
   "source": [
    "X: R<sup>n x m</sup>\n",
    "\n",
    "X<sub>i</sub> ∈ R<sup>m</sup>, i ∈ [1, n]\n",
    "\n",
    "y<sub>i</sub> ∈ {0, 1}, i ∈ [1, n]\n",
    "\n",
    "g(X) → y\n",
    "\n",
    "G := { g: R → {0, 1} }\n",
    "\n",
    "g<sub>*</sub> = argmin<sub>g ∈ G</sub> E[ l(g(X), y) ]\n",
    "\n",
    "loss function l differs for different classifiers and is speficied in the classfication context below."
   ]
  },
  {
   "cell_type": "markdown",
   "metadata": {},
   "source": [
    "## 3. Provide algorithm for solving problem (including choosing hyperparameters as appropriate)\n",
    "\n",
    "- Multinomial Naive Bayes\n",
    "    - fit_prior = True (learn class prior probabilities)\n",
    "    - alpha = 1.0 (Laplace smoothing parameter)"
   ]
  },
  {
   "cell_type": "code",
   "execution_count": 134,
   "metadata": {
    "collapsed": false
   },
   "outputs": [
    {
     "name": "stdout",
     "output_type": "stream",
     "text": [
      "Training set size is (2236, 736)\n",
      "Testing set size is (560, 736)\n"
     ]
    }
   ],
   "source": [
    "'''\n",
    "Data Preparation\n",
    "'''\n",
    "from sklearn.cross_validation import train_test_split\n",
    "\n",
    "# Split the data into training set and test set\n",
    "# Randomly sample 20% data for test\n",
    "train_X, test_X, train_y, test_y = train_test_split(X, y, test_size=0.2, random_state=42)\n",
    "\n",
    "print 'Training set size is', train_X.shape\n",
    "print 'Testing set size is', test_X.shape\n",
    "\n",
    "max_n = len(train_X)"
   ]
  },
  {
   "cell_type": "code",
   "execution_count": 184,
   "metadata": {
    "collapsed": false
   },
   "outputs": [],
   "source": [
    "# Train the given classifier\n",
    "def train_clf(clf, feats, labels):\n",
    "    # Supervised training\n",
    "    clf.fit(feats, labels)\n",
    "    \n",
    "# Test the given classifier  \n",
    "def test_clf(clf, feats):\n",
    "    # Predict using test set\n",
    "    predicted = multiNB.predict(feats)\n",
    "    return predicted"
   ]
  },
  {
   "cell_type": "markdown",
   "metadata": {},
   "source": [
    "### Multinomial Naive Bayes"
   ]
  },
  {
   "cell_type": "code",
   "execution_count": 185,
   "metadata": {
    "collapsed": false
   },
   "outputs": [],
   "source": [
    "from sklearn.naive_bayes import MultinomialNB\n",
    "\n",
    "NB_predictions = list()\n",
    "\n",
    "for n in xrange(100, max_n, 100):\n",
    "    multiNB = MultinomialNB()\n",
    "    train_clf(multiNB, train_X[:n], train_y[:n])\n",
    "    predict_y = test_clf(multiNB, test_X)\n",
    "    NB_predictions.append(predict_y)"
   ]
  },
  {
   "cell_type": "markdown",
   "metadata": {},
   "source": [
    "## 4. Sample data from a simulation setting inspired by your data (both null and alternate models)"
   ]
  },
  {
   "cell_type": "code",
   "execution_count": null,
   "metadata": {
    "collapsed": true
   },
   "outputs": [],
   "source": []
  },
  {
   "cell_type": "markdown",
   "metadata": {},
   "source": [
    "## 5. Compute accuracy"
   ]
  },
  {
   "cell_type": "code",
   "execution_count": 186,
   "metadata": {
    "collapsed": false
   },
   "outputs": [],
   "source": [
    "def compute_acc(y_list):\n",
    "    acc_list = list()\n",
    "    for y in y_list:\n",
    "        acc = np.mean(y == test_y)\n",
    "        acc_list.append(acc)\n",
    "    return acc_list"
   ]
  },
  {
   "cell_type": "markdown",
   "metadata": {},
   "source": [
    "## 6. Plot accuracy vs. sample size in simulation"
   ]
  },
  {
   "cell_type": "code",
   "execution_count": 190,
   "metadata": {
    "collapsed": false
   },
   "outputs": [
    {
     "data": {
      "text/plain": [
       "<matplotlib.text.Text at 0x10e69a810>"
      ]
     },
     "execution_count": 190,
     "metadata": {},
     "output_type": "execute_result"
    },
    {
     "data": {
      "image/png": "[encoded data removed]",
      "text/plain": [
       "<matplotlib.figure.Figure at 0x10e607210>"
      ]
     },
     "metadata": {},
     "output_type": "display_data"
    }
   ],
   "source": [
    "%matplotlib inline\n",
    "import matplotlib.pyplot as plt\n",
    "\n",
    "sizes = [n for n in xrange(100, max_n, 100)]\n",
    "\n",
    "acc_NB = compute_acc(NB_predictions)\n",
    "plt.plot(sizes, acc_NB, label='Multinomial NB')\n",
    "\n",
    "plt.legend()\n",
    "plt.xlabel('sample size')\n",
    "plt.ylabel('accuracy')"
   ]
  },
  {
   "cell_type": "markdown",
   "metadata": {},
   "source": [
    "## 7. Apply method directly on real data "
   ]
  },
  {
   "cell_type": "code",
   "execution_count": 133,
   "metadata": {
    "collapsed": false
   },
   "outputs": [
    {
     "name": "stdout",
     "output_type": "stream",
     "text": [
      "0.505357142857\n"
     ]
    }
   ],
   "source": [
    "'''\n",
    "Multinomial Naive Bayes\n",
    "'''\n",
    "multiNB = MultinomialNB()\n",
    "train_clf(multiNB, train_X, train_y)\n",
    "predict_y, acc = test_clf(multiNB, test_X, test_y)\n",
    "\n",
    "print acc "
   ]
  },
  {
   "cell_type": "markdown",
   "metadata": {},
   "source": [
    "## 8. Explain the degree to which you believe the result and why"
   ]
  },
  {
   "cell_type": "code",
   "execution_count": null,
   "metadata": {
    "collapsed": true
   },
   "outputs": [],
   "source": []
  }
 ],
 "metadata": {
  "kernelspec": {
   "display_name": "Python 2",
   "language": "python",
   "name": "python2"
  },
  "language_info": {
   "codemirror_mode": {
    "name": "ipython",
    "version": 2
   },
   "file_extension": ".py",
   "mimetype": "text/x-python",
   "name": "python",
   "nbconvert_exporter": "python",
   "pygments_lexer": "ipython2",
   "version": "2.7.11"
  }
 },
 "nbformat": 4,
 "nbformat_minor": 0
}
