{
 "cells": [
  {
   "cell_type": "markdown",
   "metadata": {},
   "source": [
    "## Subject Selection Experiments - Srinivas (handle: thewickedaxe)\n",
    "** PLEASE SCROLL TO THE BOTTOM OF THE NOTEBOOK TO FIND THE QUESTIONS AND THEIR ANSWERS**"
   ]
  },
  {
   "cell_type": "markdown",
   "metadata": {},
   "source": [
    "It is now clear that without exploring feature selection and engineering the classifiers cannot process all the individuals as there is just too much noise. Therefor I am going to experiment with 2 approaches.\n",
    "\n",
    "1. Throw out more samples till the classifiers make sense\n",
    "2. Throw out more features and selct them in accordance with feature selection techniques till the classifiers make sense\n",
    "\n",
    "This notebook will outline approach 1.\n",
    "\n",
    "I propose 2 segregations\n",
    "\n",
    "1. Gender: Male ADHD patients vs Male bipolar. This we already have reason to believe works by virtue of existing studies on Amen dataset\n",
    "2. Race: Caucasians ADHD patients vs Caucasian Bipolar patients\n",
    "\n",
    "Also I feel running a full gamut of classifiers is time consuming. Therefore I am limiting it to\n",
    "\n",
    "1. LDA: Quick and Simple\n",
    "2. QDA: Can handle data conditions that LDA cannot\n",
    "3. Random forests: A good ensemble technique\n",
    "4. Gaussian Naive bayes: A really simple and effective technique"
   ]
  },
  {
   "cell_type": "markdown",
   "metadata": {},
   "source": [
    "### Initial Data Cleaning"
   ]
  },
  {
   "cell_type": "code",
   "execution_count": 125,
   "metadata": {
    "collapsed": false,
    "scrolled": true
   },
   "outputs": [
    {
     "name": "stdout",
     "output_type": "stream",
     "text": [
      "(4383, 200)\n"
     ]
    }
   ],
   "source": [
    "# Standard\n",
    "import pandas as pd\n",
    "import numpy as np\n",
    "%matplotlib inline\n",
    "import matplotlib.pyplot as plt\n",
    "\n",
    "# Dimensionality reduction and Clustering\n",
    "from sklearn.decomposition import PCA\n",
    "from sklearn.cluster import KMeans\n",
    "from sklearn.cluster import MeanShift, estimate_bandwidth\n",
    "from sklearn import manifold, datasets\n",
    "from itertools import cycle\n",
    "\n",
    "# Plotting tools and classifiers\n",
    "from matplotlib.colors import ListedColormap\n",
    "from sklearn.linear_model import LogisticRegression\n",
    "from sklearn.cross_validation import train_test_split\n",
    "from sklearn import preprocessing\n",
    "from sklearn.datasets import make_moons, make_circles, make_classification\n",
    "from sklearn.tree import DecisionTreeClassifier\n",
    "from sklearn.ensemble import RandomForestClassifier\n",
    "from sklearn.naive_bayes import GaussianNB\n",
    "from sklearn.discriminant_analysis import LinearDiscriminantAnalysis as LDA\n",
    "from sklearn.discriminant_analysis import QuadraticDiscriminantAnalysis as QDA\n",
    "from sklearn import cross_validation\n",
    "from sklearn.cross_validation import LeaveOneOut\n",
    "\n",
    "\n",
    "# Let's read the data in and clean it\n",
    "\n",
    "def get_NaNs(df):\n",
    "    columns = list(df.columns.get_values()) \n",
    "    row_metrics = df.isnull().sum(axis=1)\n",
    "    rows_with_na = []\n",
    "    for i, x in enumerate(row_metrics):\n",
    "        if x > 0: rows_with_na.append(i)\n",
    "    return rows_with_na\n",
    "\n",
    "def remove_NaNs(df):\n",
    "    rows_with_na = get_NaNs(df)\n",
    "    cleansed_df = df.drop(df.index[rows_with_na], inplace=False)     \n",
    "    return cleansed_df\n",
    "\n",
    "initial_data = pd.DataFrame.from_csv('Data_Adults_1_reduced.csv')\n",
    "cleansed_df = remove_NaNs(initial_data)\n",
    "\n",
    "# Let's also get rid of nominal data\n",
    "numerics = ['int16', 'int32', 'int64', 'float16', 'float32', 'float64']\n",
    "X = cleansed_df.select_dtypes(include=numerics)\n",
    "print X.shape"
   ]
  },
  {
   "cell_type": "markdown",
   "metadata": {},
   "source": [
    "The change from last week was that we also threw out "
   ]
  },
  {
   "cell_type": "code",
   "execution_count": 126,
   "metadata": {
    "collapsed": false
   },
   "outputs": [
    {
     "name": "stdout",
     "output_type": "stream",
     "text": [
      "(4383, 194)\n",
      "(2624, 194)\n",
      "(2981, 194)\n"
     ]
    }
   ],
   "source": [
    "# Let's now clean columns getting rid of certain columns that might not be important to our analysis\n",
    "\n",
    "cols2drop = ['GROUP_ID', 'doa', 'Baseline_header_id', 'Concentration_header_id',\n",
    "             'Baseline_Reading_id', 'Concentration_Reading_id']\n",
    "X = X.drop(cols2drop, axis=1, inplace=False)\n",
    "print X.shape\n",
    "\n",
    "# For our studies children skew the data, it would be cleaner to just analyse adults\n",
    "X = X.loc[X['Age'] >= 18]\n",
    "Y = X.loc[X['race_id'] == 1]\n",
    "X  = X.loc[X['Gender_id'] == 1]\n",
    "\n",
    "print X.shape\n",
    "print Y.shape"
   ]
  },
  {
   "cell_type": "markdown",
   "metadata": {},
   "source": [
    "we've now dropped the last of the discrete numerical inexplicable data, and removed children from the mix"
   ]
  },
  {
   "cell_type": "markdown",
   "metadata": {},
   "source": [
    "### Extracting the samples we are interested in"
   ]
  },
  {
   "cell_type": "code",
   "execution_count": 127,
   "metadata": {
    "collapsed": false
   },
   "outputs": [
    {
     "name": "stdout",
     "output_type": "stream",
     "text": [
      "(1056, 194)\n",
      "(257, 194)\n",
      "(1110, 194)\n",
      "(323, 194)\n"
     ]
    }
   ],
   "source": [
    "# Let's extract ADHd and Bipolar patients (mutually exclusive)\n",
    "\n",
    "ADHD_men = X.loc[X['ADHD'] == 1]\n",
    "ADHD_men = ADHD_men.loc[ADHD_men['Bipolar'] == 0]\n",
    "\n",
    "BP_men = X.loc[X['Bipolar'] == 1]\n",
    "BP_men = BP_men.loc[BP_men['ADHD'] == 0]\n",
    "\n",
    "ADHD_cauc = Y.loc[Y['ADHD'] == 1]\n",
    "ADHD_cauc = ADHD_cauc.loc[ADHD_cauc['Bipolar'] == 0]\n",
    "\n",
    "BP_cauc = Y.loc[Y['Bipolar'] == 1]\n",
    "BP_cauc = BP_cauc.loc[BP_cauc['ADHD'] == 0]\n",
    "\n",
    "print ADHD_men.shape\n",
    "print BP_men.shape\n",
    "\n",
    "print ADHD_cauc.shape\n",
    "print BP_cauc.shape\n",
    "\n",
    "# Keeping a backup of the data frame object because numpy arrays don't play well with certain scikit functions\n",
    "ADHD_men = pd.DataFrame(ADHD_men.drop(['Patient_ID', 'Gender_id', 'ADHD', 'Bipolar'], axis = 1, inplace = False))\n",
    "BP_men = pd.DataFrame(BP_men.drop(['Patient_ID', 'Gender_id', 'ADHD', 'Bipolar'], axis = 1, inplace = False))\n",
    "\n",
    "ADHD_cauc = pd.DataFrame(ADHD_cauc.drop(['Patient_ID', 'race_id', 'ADHD', 'Bipolar'], axis = 1, inplace = False))\n",
    "BP_cauc = pd.DataFrame(BP_cauc.drop(['Patient_ID', 'race_id', 'ADHD', 'Bipolar'], axis = 1, inplace = False))"
   ]
  },
  {
   "cell_type": "markdown",
   "metadata": {},
   "source": [
    "we see here that there 1383 people who have ADHD but are not Bipolar and 440 people who are Bipolar but do not have ADHD"
   ]
  },
  {
   "cell_type": "markdown",
   "metadata": {},
   "source": [
    "### Dimensionality reduction"
   ]
  },
  {
   "cell_type": "markdown",
   "metadata": {},
   "source": [
    "#### Manifold Techniques"
   ]
  },
  {
   "cell_type": "markdown",
   "metadata": {},
   "source": [
    "##### ISOMAP"
   ]
  },
  {
   "cell_type": "code",
   "execution_count": 128,
   "metadata": {
    "collapsed": false
   },
   "outputs": [
    {
     "name": "stdout",
     "output_type": "stream",
     "text": [
      "(1313, 190)\n",
      "(1433, 190)\n"
     ]
    }
   ],
   "source": [
    "combined1 = pd.concat([ADHD_men, BP_men])\n",
    "combined2 = pd.concat([ADHD_cauc, BP_cauc])\n",
    "\n",
    "print combined1.shape\n",
    "print combined2.shape\n",
    "\n",
    "combined1 = preprocessing.scale(combined1)\n",
    "combined2 = preprocessing.scale(combined2)"
   ]
  },
  {
   "cell_type": "code",
   "execution_count": 129,
   "metadata": {
    "collapsed": false
   },
   "outputs": [],
   "source": [
    "combined1 = manifold.Isomap(20, 20).fit_transform(combined1)\n",
    "ADHD_men_iso = combined1[:1056]\n",
    "BP_men_iso = combined1[1056:]\n",
    "\n",
    "combined2 = manifold.Isomap(20, 20).fit_transform(combined2)\n",
    "ADHD_cauc_iso = combined2[:1110]\n",
    "BP_cauc_iso = combined2[1110:]"
   ]
  },
  {
   "cell_type": "markdown",
   "metadata": {},
   "source": [
    "### Clustering and other grouping experiments"
   ]
  },
  {
   "cell_type": "markdown",
   "metadata": {},
   "source": [
    "#### K-Means clustering - iso"
   ]
  },
  {
   "cell_type": "code",
   "execution_count": 130,
   "metadata": {
    "collapsed": false
   },
   "outputs": [
    {
     "name": "stdout",
     "output_type": "stream",
     "text": [
      "(1313, 20)\n",
      "(1433, 20)\n"
     ]
    }
   ],
   "source": [
    "data1 = pd.concat([pd.DataFrame(ADHD_men_iso), pd.DataFrame(BP_men_iso)])\n",
    "data2 = pd.concat([pd.DataFrame(ADHD_cauc_iso), pd.DataFrame(BP_cauc_iso)])\n",
    "\n",
    "print data1.shape\n",
    "print data2.shape"
   ]
  },
  {
   "cell_type": "code",
   "execution_count": 131,
   "metadata": {
    "collapsed": false
   },
   "outputs": [
    {
     "name": "stdout",
     "output_type": "stream",
     "text": [
      "Estimated number of clusters: 2\n"
     ]
    },
    {
     "data": {
      "image/png": "[encoded data removed]",
      "text/plain": [
       "<matplotlib.figure.Figure at 0x7f68bd427390>"
      ]
     },
     "metadata": {},
     "output_type": "display_data"
    }
   ],
   "source": [
    "kmeans = KMeans(n_clusters=2)\n",
    "kmeans.fit(data1.get_values())\n",
    "labels1 = kmeans.labels_\n",
    "centroids1 = kmeans.cluster_centers_\n",
    "print('Estimated number of clusters: %d' % len(centroids1))\n",
    "\n",
    "for label in [0, 1]:\n",
    "    ds = data1.get_values()[np.where(labels1 == label)]    \n",
    "    plt.plot(ds[:,0], ds[:,1], '.')    \n",
    "    lines = plt.plot(centroids1[label,0], centroids1[label,1], 'o')\n",
    "\n"
   ]
  },
  {
   "cell_type": "code",
   "execution_count": 132,
   "metadata": {
    "collapsed": false
   },
   "outputs": [
    {
     "name": "stdout",
     "output_type": "stream",
     "text": [
      "Estimated number of clusters: 2\n"
     ]
    },
    {
     "data": {
      "image/png": "[encoded data removed]",
      "text/plain": [
       "<matplotlib.figure.Figure at 0x7f68bd570bd0>"
      ]
     },
     "metadata": {},
     "output_type": "display_data"
    }
   ],
   "source": [
    "kmeans = KMeans(n_clusters=2)\n",
    "kmeans.fit(data2.get_values())\n",
    "labels2 = kmeans.labels_\n",
    "centroids2 = kmeans.cluster_centers_\n",
    "print('Estimated number of clusters: %d' % len(centroids2))\n",
    "\n",
    "for label in [0, 1]:\n",
    "    ds2 = data2.get_values()[np.where(labels2 == label)]    \n",
    "    plt.plot(ds2[:,0], ds2[:,1], '.')    \n",
    "    lines = plt.plot(centroids2[label,0], centroids2[label,1], 'o')"
   ]
  },
  {
   "cell_type": "markdown",
   "metadata": {},
   "source": [
    "As is evident from the above 2 experiments, no clear clustering is apparent.But there is some significant overlap and there 2 clear groups"
   ]
  },
  {
   "cell_type": "markdown",
   "metadata": {},
   "source": [
    "### Classification Experiments"
   ]
  },
  {
   "cell_type": "markdown",
   "metadata": {},
   "source": [
    "Let's experiment with a bunch of classifiers"
   ]
  },
  {
   "cell_type": "code",
   "execution_count": 133,
   "metadata": {
    "collapsed": false
   },
   "outputs": [],
   "source": [
    "ADHD_men_iso = pd.DataFrame(ADHD_men_iso)\n",
    "BP_men_iso = pd.DataFrame(BP_men_iso)\n",
    "\n",
    "ADHD_cauc_iso = pd.DataFrame(ADHD_cauc_iso)\n",
    "BP_cauc_iso = pd.DataFrame(BP_cauc_iso)"
   ]
  },
  {
   "cell_type": "code",
   "execution_count": 139,
   "metadata": {
    "collapsed": false
   },
   "outputs": [],
   "source": [
    "BP_men_iso['ADHD-Bipolar'] = 0\n",
    "ADHD_men_iso['ADHD-Bipolar'] = 1\n",
    "\n",
    "BP_cauc_iso['ADHD-Bipolar'] = 0\n",
    "ADHD_cauc_iso['ADHD-Bipolar'] = 1\n",
    "\n",
    "data1 = pd.concat([ADHD_men_iso, BP_men_iso])\n",
    "data2 = pd.concat([ADHD_cauc_iso, BP_cauc_iso])\n",
    "class_labels1 = data1['ADHD-Bipolar']\n",
    "class_labels2 = data2['ADHD-Bipolar']\n",
    "data1 = data1.drop(['ADHD-Bipolar'], axis = 1, inplace = False)\n",
    "data2 = data2.drop(['ADHD-Bipolar'], axis = 1, inplace = False)\n",
    "data1 = data1.get_values()\n",
    "data2 = data2.get_values()"
   ]
  },
  {
   "cell_type": "code",
   "execution_count": 135,
   "metadata": {
    "collapsed": false
   },
   "outputs": [],
   "source": [
    "# Leave one Out cross validation\n",
    "def leave_one_out(classifier, values, labels):\n",
    "    leave_one_out_validator = LeaveOneOut(len(values))\n",
    "    classifier_metrics = cross_validation.cross_val_score(classifier, values, labels, cv=leave_one_out_validator)\n",
    "    accuracy = classifier_metrics.mean()\n",
    "    deviation = classifier_metrics.std()\n",
    "    return accuracy, deviation"
   ]
  },
  {
   "cell_type": "code",
   "execution_count": 136,
   "metadata": {
    "collapsed": false,
    "scrolled": true
   },
   "outputs": [
    {
     "name": "stdout",
     "output_type": "stream",
     "text": [
      "Random Forest accuracy is 0.9497 (+/- 0.218)\n",
      "LDA accuracy is 0.9688 (+/- 0.174)\n",
      "QDA accuracy is 0.9467 (+/- 0.225)\n",
      "Gaussian NB accuracy is 0.9452 (+/- 0.228)\n"
     ]
    }
   ],
   "source": [
    "rf = RandomForestClassifier(n_estimators = 22) \n",
    "qda = QDA()\n",
    "lda = LDA()\n",
    "gnb = GaussianNB()\n",
    "classifier_accuracy_list = []\n",
    "classifiers = [(rf, \"Random Forest\"), (lda, \"LDA\"), (qda, \"QDA\"), (gnb, \"Gaussian NB\")]\n",
    "for classifier, name in classifiers:\n",
    "    accuracy, deviation = leave_one_out(classifier, data1, class_labels1)\n",
    "    print '%s accuracy is %0.4f (+/- %0.3f)' % (name, accuracy, deviation)\n",
    "    classifier_accuracy_list.append((name, accuracy))"
   ]
  },
  {
   "cell_type": "code",
   "execution_count": 137,
   "metadata": {
    "collapsed": false,
    "scrolled": true
   },
   "outputs": [
    {
     "name": "stdout",
     "output_type": "stream",
     "text": [
      "Random Forest accuracy is 0.9393 (+/- 0.239)\n",
      "LDA accuracy is 0.9574 (+/- 0.202)\n",
      "QDA accuracy is 0.9505 (+/- 0.217)\n",
      "Gaussian NB accuracy is 0.9442 (+/- 0.230)\n"
     ]
    }
   ],
   "source": [
    "for classifier, name in classifiers:\n",
    "    accuracy, deviation = leave_one_out(classifier, data2, class_labels2)\n",
    "    print '%s accuracy is %0.4f (+/- %0.3f)' % (name, accuracy, deviation)\n",
    "    classifier_accuracy_list.append((name, accuracy))"
   ]
  },
  {
   "cell_type": "markdown",
   "metadata": {},
   "source": [
    "given the number of people who have ADHD and Bipolar disorder the chance line would be at around 0.6. The classifiers fall between 0.7 and 0.75 which makes them just barely better than chance. This is still an improvement over last time."
   ]
  },
  {
   "cell_type": "markdown",
   "metadata": {},
   "source": [
    "### Questions and Answers"
   ]
  },
  {
   "cell_type": "markdown",
   "metadata": {
    "collapsed": true
   },
   "source": [
    "1) What did you separate your data into and how?<br/>\n",
    "\n",
    "Ans: Male ADHD patients vs Male Bipolar Patients and Caucasian ADHD patients vs Caucasian Bipolar patients<br/>\n",
    "\n",
    "2) How did you reduce dimensionality?<br/>\n",
    "\n",
    "Ans: We used an isomap with 20 features<br/>\n",
    "\n",
    "3) Was there any clustering apparent?<br/>\n",
    "\n",
    "Ans: Not to me, and visually not so much<br/>\n",
    "\n",
    "4) How did you classify and how did you validate?<br/>\n",
    "\n",
    "Ans: I ran LDA, QDA, Random forest and Gaussian NB with leave one out cross validation<br/>\n",
    "\n",
    "5) What were the results?<br/>\n",
    "\n",
    "Ans: Male study<br/>\n",
    "Random Forest accuracy is 0.9497 (+/- 0.218)<br/>\n",
    "LDA accuracy is 0.9688 (+/- 0.174)<br/>\n",
    "QDA accuracy is 0.9467 (+/- 0.225)<br/>\n",
    "Gaussian NB accuracy is 0.9452 (+/- 0.228)<br/>\n",
    "\n",
    "Race Study<br/>\n",
    "Random Forest accuracy is 0.9393 (+/- 0.239)<br/>\n",
    "LDA accuracy is 0.9574 (+/- 0.202)<br/>\n",
    "QDA accuracy is 0.9505 (+/- 0.217)<br/>\n",
    "Gaussian NB accuracy is 0.9442 (+/- 0.230)<br/>"
   ]
  },
  {
   "cell_type": "code",
   "execution_count": null,
   "metadata": {
    "collapsed": true
   },
   "outputs": [],
   "source": []
  }
 ],
 "metadata": {
  "kernelspec": {
   "display_name": "Python 2",
   "language": "python",
   "name": "python2"
  },
  "language_info": {
   "codemirror_mode": {
    "name": "ipython",
    "version": 2
   },
   "file_extension": ".py",
   "mimetype": "text/x-python",
   "name": "python",
   "nbconvert_exporter": "python",
   "pygments_lexer": "ipython2",
   "version": "2.7.6"
  }
 },
 "nbformat": 4,
 "nbformat_minor": 0
}
