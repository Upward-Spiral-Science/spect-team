{
 "cells": [
  {
   "cell_type": "markdown",
   "metadata": {},
   "source": [
    "## Independent Analysis 2 - Srinivas (handle: thewickedaxe)\n",
    "** PLEASE SCROLL TO THE BOTTOM OF THE NOTEBOOK TO FIND THE QUESTIONS AND THEIR ANSWERS AND OTHER GENERAL FINDINGS**"
   ]
  },
  {
   "cell_type": "markdown",
   "metadata": {},
   "source": [
    "### Initial Data Cleaning"
   ]
  },
  {
   "cell_type": "code",
   "execution_count": 14,
   "metadata": {
    "collapsed": false,
    "scrolled": true
   },
   "outputs": [
    {
     "name": "stdout",
     "output_type": "stream",
     "text": [
      "(6785, 10)\n"
     ]
    }
   ],
   "source": [
    "# Standard\n",
    "import pandas as pd\n",
    "import numpy as np\n",
    "%matplotlib inline\n",
    "import matplotlib.pyplot as plt\n",
    "import statsmodels.api as sm\n",
    "\n",
    "# Dimensionality reduction and Clustering\n",
    "from sklearn.decomposition import PCA\n",
    "from sklearn.cluster import KMeans\n",
    "from sklearn.cluster import MeanShift, estimate_bandwidth\n",
    "from sklearn import manifold, datasets\n",
    "from sklearn import preprocessing\n",
    "from itertools import cycle\n",
    "\n",
    "# Plotting tools and classifiers\n",
    "from matplotlib.colors import ListedColormap\n",
    "from sklearn.preprocessing import StandardScaler\n",
    "from sklearn.datasets import make_moons, make_circles, make_classification\n",
    "from sklearn.svm import SVC\n",
    "from sklearn.tree import DecisionTreeClassifier\n",
    "from sklearn.ensemble import BaggingClassifier\n",
    "from sklearn.ensemble import GradientBoostingClassifier\n",
    "from sklearn.ensemble import VotingClassifier\n",
    "from sklearn.naive_bayes import GaussianNB\n",
    "from sklearn.discriminant_analysis import QuadraticDiscriminantAnalysis as QDA\n",
    "from sklearn import cross_validation\n",
    "from sklearn.cross_validation import LeaveOneOut\n",
    "\n",
    "\n",
    "# Let's read the data in and clean it\n",
    "\n",
    "def get_NaNs(df):\n",
    "    columns = list(df.columns.get_values()) \n",
    "    row_metrics = df.isnull().sum(axis=1)\n",
    "    rows_with_na = []\n",
    "    for i, x in enumerate(row_metrics):\n",
    "        if x > 0: rows_with_na.append(i)\n",
    "    return rows_with_na\n",
    "\n",
    "def remove_NaNs(df):\n",
    "    rows_with_na = get_NaNs(df)\n",
    "    cleansed_df = df.drop(df.index[rows_with_na], inplace=False)     \n",
    "    return cleansed_df\n",
    "\n",
    "initial_data = pd.DataFrame.from_csv('Data_Adults_1_reduced_2.csv')\n",
    "cleansed_df = remove_NaNs(initial_data)\n",
    "\n",
    "# Let's also get rid of nominal data\n",
    "numerics = ['int16', 'int32', 'int64', 'float16', 'float32', 'float64']\n",
    "X = cleansed_df.select_dtypes(include=numerics)\n",
    "print X.shape"
   ]
  },
  {
   "cell_type": "markdown",
   "metadata": {},
   "source": [
    "The change from last week was that we also threw out "
   ]
  },
  {
   "cell_type": "markdown",
   "metadata": {},
   "source": [
    "we've now dropped the last of the discrete numerical inexplicable data, and removed children from the mix"
   ]
  },
  {
   "cell_type": "markdown",
   "metadata": {},
   "source": [
    "### Extracting the samples we are interested in"
   ]
  },
  {
   "cell_type": "code",
   "execution_count": 15,
   "metadata": {
    "collapsed": false
   },
   "outputs": [
    {
     "name": "stdout",
     "output_type": "stream",
     "text": [
      "(2370, 10)\n",
      "(793, 10)\n",
      "(2370, 6)\n",
      "(793, 6)\n"
     ]
    }
   ],
   "source": [
    "# Let's extract ADHd and Bipolar patients (mutually exclusive)\n",
    "\n",
    "ADHD = X.loc[X['ADHD'] == 1]\n",
    "ADHD = ADHD.loc[ADHD['Bipolar'] == 0]\n",
    "\n",
    "BP = X.loc[X['Bipolar'] == 1]\n",
    "BP = BP.loc[BP['ADHD'] == 0]\n",
    "\n",
    "print ADHD.shape\n",
    "print BP.shape\n",
    "\n",
    "# Keeping a backup of the data frame object because numpy arrays don't play well with certain scikit functions\n",
    "ADHD = pd.DataFrame(ADHD.drop(['Patient_ID', 'Age', 'ADHD', 'Bipolar'], axis = 1, inplace = False))\n",
    "BP = pd.DataFrame(BP.drop(['Patient_ID', 'Age', 'ADHD', 'Bipolar'], axis = 1, inplace = False))\n",
    "\n",
    "print ADHD.shape\n",
    "print BP.shape"
   ]
  },
  {
   "cell_type": "markdown",
   "metadata": {},
   "source": [
    "### Clustering and other grouping experiments"
   ]
  },
  {
   "cell_type": "code",
   "execution_count": 16,
   "metadata": {
    "collapsed": false
   },
   "outputs": [],
   "source": [
    "ADHD_clust = pd.DataFrame(ADHD)\n",
    "BP_clust = pd.DataFrame(BP)\n",
    "\n",
    "# This is a consequence of how we dropped columns, I apologize for the hacky code \n",
    "data = pd.concat([ADHD_clust, BP_clust])"
   ]
  },
  {
   "cell_type": "markdown",
   "metadata": {},
   "source": [
    "#### K-Means clustering"
   ]
  },
  {
   "cell_type": "code",
   "execution_count": 17,
   "metadata": {
    "collapsed": false
   },
   "outputs": [
    {
     "name": "stdout",
     "output_type": "stream",
     "text": [
      "Estimated number of clusters: 2\n",
      "(3163, 6)\n"
     ]
    }
   ],
   "source": [
    "kmeans = KMeans(n_clusters=2)\n",
    "kmeans.fit(data.get_values())\n",
    "labels = kmeans.labels_\n",
    "cluster_centers = kmeans.cluster_centers_\n",
    "print('Estimated number of clusters: %d' % len(cluster_centers))\n",
    "print data.shape"
   ]
  },
  {
   "cell_type": "code",
   "execution_count": 18,
   "metadata": {
    "collapsed": false
   },
   "outputs": [
    {
     "data": {
      "image/png": "[encoded data removed]",
      "text/plain": [
       "<matplotlib.figure.Figure at 0x7f0e3865e410>"
      ]
     },
     "metadata": {},
     "output_type": "display_data"
    }
   ],
   "source": [
    "for label in [0, 1]:\n",
    "    ds = data.get_values()[np.where(labels == label)]    \n",
    "    plt.plot(ds[:,0], ds[:,1], '.',alpha=0.6)    \n",
    "    lines = plt.plot(cluster_centers[label,0], cluster_centers[label,1], 'o', alpha=0.7)"
   ]
  },
  {
   "cell_type": "markdown",
   "metadata": {},
   "source": [
    "### Classification Experiments"
   ]
  },
  {
   "cell_type": "markdown",
   "metadata": {},
   "source": [
    "Let's experiment with a bunch of classifiers"
   ]
  },
  {
   "cell_type": "code",
   "execution_count": 19,
   "metadata": {
    "collapsed": false
   },
   "outputs": [],
   "source": [
    "ADHD_iso = pd.DataFrame(ADHD_clust)\n",
    "BP_iso = pd.DataFrame(BP_clust)"
   ]
  },
  {
   "cell_type": "code",
   "execution_count": 20,
   "metadata": {
    "collapsed": false
   },
   "outputs": [
    {
     "name": "stdout",
     "output_type": "stream",
     "text": [
      "Index([u'Concentration_Caudate_L', u'Concentration_Caudate_R',\n",
      "       u'Concentration_Pallidum_L', u'Concentration_Pallidum_R',\n",
      "       u'Concentration_Putamen_L', u'Concentration_Putamen_R',\n",
      "       u'ADHD-Bipolar'],\n",
      "      dtype='object')\n",
      "(3163, 6)\n"
     ]
    }
   ],
   "source": [
    "BP_iso['ADHD-Bipolar'] = 0\n",
    "ADHD_iso['ADHD-Bipolar'] = 1\n",
    "print BP_iso.columns\n",
    "data = pd.DataFrame(pd.concat([ADHD_iso, BP_iso]))\n",
    "class_labels = data['ADHD-Bipolar']\n",
    "data = data.drop(['ADHD-Bipolar'], axis = 1, inplace = False)\n",
    "print data.shape\n",
    "data_backup = data.copy(deep = True)\n",
    "data = data.get_values()"
   ]
  },
  {
   "cell_type": "code",
   "execution_count": 21,
   "metadata": {
    "collapsed": false
   },
   "outputs": [
    {
     "name": "stdout",
     "output_type": "stream",
     "text": [
      "0.976132696711\n"
     ]
    }
   ],
   "source": [
    "# Based on instructor suggestion i'm going to run a PCA to examine dimensionality reduction\n",
    "pca = PCA(n_components = 2, whiten = \"True\").fit(data)\n",
    "data = pca.transform(data)\n",
    "print sum(pca.explained_variance_ratio_)"
   ]
  },
  {
   "cell_type": "code",
   "execution_count": 22,
   "metadata": {
    "collapsed": false
   },
   "outputs": [],
   "source": [
    "# Leave one Out cross validation\n",
    "def leave_one_out(classifier, values, labels):\n",
    "    leave_one_out_validator = LeaveOneOut(len(values))\n",
    "    classifier_metrics = cross_validation.cross_val_score(classifier, values, labels, cv=leave_one_out_validator)\n",
    "    accuracy = classifier_metrics.mean()\n",
    "    deviation = classifier_metrics.std()\n",
    "    return accuracy, deviation"
   ]
  },
  {
   "cell_type": "code",
   "execution_count": 23,
   "metadata": {
    "collapsed": false,
    "scrolled": true
   },
   "outputs": [
    {
     "name": "stdout",
     "output_type": "stream",
     "text": [
      "Gaussian NB accuracy is 0.7468 (+/- 0.435)\n",
      "QDA accuracy is 0.7458 (+/- 0.435)\n",
      "SVM accuracy is 0.7480 (+/- 0.434)\n",
      "Bagging Classifier accuracy is 0.6709 (+/- 0.470)\n",
      "Voting Classifier accuracy is 0.7452 (+/- 0.436)\n",
      "Decision Trees accuracy is 0.6576 (+/- 0.475)\n"
     ]
    }
   ],
   "source": [
    "svc = SVC(gamma = 2, C = 1)\n",
    "bc = BaggingClassifier(n_estimators = 22)\n",
    "gb = GradientBoostingClassifier()\n",
    "dt = DecisionTreeClassifier(max_depth = 22) \n",
    "qda = QDA()\n",
    "gnb = GaussianNB()\n",
    "vc = VotingClassifier(estimators=[('gb', gb), ('bc', bc), ('gnb', gnb)],voting='hard')\n",
    "classifier_accuracy_list = []\n",
    "classifiers = [(gnb, \"Gaussian NB\"), (qda, \"QDA\"), (svc, \"SVM\"), (bc, \"Bagging Classifier\"),\n",
    "               (vc, \"Voting Classifier\"), (dt, \"Decision Trees\")]\n",
    "for classifier, name in classifiers:\n",
    "    accuracy, deviation = leave_one_out(classifier, data, class_labels)\n",
    "    print '%s accuracy is %0.4f (+/- %0.3f)' % (name, accuracy, deviation)\n",
    "    classifier_accuracy_list.append((name, accuracy))"
   ]
  },
  {
   "cell_type": "markdown",
   "metadata": {},
   "source": [
    "given the number of people who have ADHD and Bipolar disorder the chance line would be at around 0.6. The classifiers fall between 0.7 and 0.75 which makes them just barely better than chance. This is still an improvement over last time."
   ]
  },
  {
   "cell_type": "markdown",
   "metadata": {},
   "source": [
    "###  Running Multivariate regression"
   ]
  },
  {
   "cell_type": "markdown",
   "metadata": {},
   "source": [
    "#### On data pre dimensionality reduction"
   ]
  },
  {
   "cell_type": "code",
   "execution_count": 13,
   "metadata": {
    "collapsed": false
   },
   "outputs": [
    {
     "data": {
      "text/html": [
       "<table class=\"simpletable\">\n",
       "<caption>OLS Regression Results</caption>\n",
       "<tr>\n",
       "  <th>Dep. Variable:</th>      <td>ADHD-Bipolar</td>   <th>  R-squared:         </th> <td>   0.006</td>\n",
       "</tr>\n",
       "<tr>\n",
       "  <th>Model:</th>                   <td>OLS</td>       <th>  Adj. R-squared:    </th> <td>   0.005</td>\n",
       "</tr>\n",
       "<tr>\n",
       "  <th>Method:</th>             <td>Least Squares</td>  <th>  F-statistic:       </th> <td>   3.397</td>\n",
       "</tr>\n",
       "<tr>\n",
       "  <th>Date:</th>             <td>Mon, 11 Apr 2016</td> <th>  Prob (F-statistic):</th>  <td>0.00242</td>\n",
       "</tr>\n",
       "<tr>\n",
       "  <th>Time:</th>                 <td>21:22:54</td>     <th>  Log-Likelihood:    </th> <td> -1833.5</td>\n",
       "</tr>\n",
       "<tr>\n",
       "  <th>No. Observations:</th>      <td>  3163</td>      <th>  AIC:               </th> <td>   3681.</td>\n",
       "</tr>\n",
       "<tr>\n",
       "  <th>Df Residuals:</th>          <td>  3156</td>      <th>  BIC:               </th> <td>   3723.</td>\n",
       "</tr>\n",
       "<tr>\n",
       "  <th>Df Model:</th>              <td>     6</td>      <th>                     </th>     <td> </td>   \n",
       "</tr>\n",
       "<tr>\n",
       "  <th>Covariance Type:</th>      <td>nonrobust</td>    <th>                     </th>     <td> </td>   \n",
       "</tr>\n",
       "</table>\n",
       "<table class=\"simpletable\">\n",
       "<tr>\n",
       "              <td></td>                <th>coef</th>     <th>std err</th>      <th>t</th>      <th>P>|t|</th> <th>[95.0% Conf. Int.]</th> \n",
       "</tr>\n",
       "<tr>\n",
       "  <th>const</th>                    <td>    0.8185</td> <td>    0.043</td> <td>   18.957</td> <td> 0.000</td> <td>    0.734     0.903</td>\n",
       "</tr>\n",
       "<tr>\n",
       "  <th>Concentration_Caudate_L</th>  <td>    0.0003</td> <td>    0.000</td> <td>    1.179</td> <td> 0.239</td> <td>   -0.000     0.001</td>\n",
       "</tr>\n",
       "<tr>\n",
       "  <th>Concentration_Caudate_R</th>  <td>-4.293e-06</td> <td>    0.000</td> <td>   -0.014</td> <td> 0.989</td> <td>   -0.001     0.001</td>\n",
       "</tr>\n",
       "<tr>\n",
       "  <th>Concentration_Pallidum_L</th> <td>   -0.0003</td> <td>    0.000</td> <td>   -1.103</td> <td> 0.270</td> <td>   -0.001     0.000</td>\n",
       "</tr>\n",
       "<tr>\n",
       "  <th>Concentration_Pallidum_R</th> <td>   -0.0004</td> <td>    0.000</td> <td>   -1.772</td> <td> 0.076</td> <td>   -0.001  4.43e-05</td>\n",
       "</tr>\n",
       "<tr>\n",
       "  <th>Concentration_Putamen_L</th>  <td>   -0.0003</td> <td>    0.000</td> <td>   -0.862</td> <td> 0.389</td> <td>   -0.001     0.000</td>\n",
       "</tr>\n",
       "<tr>\n",
       "  <th>Concentration_Putamen_R</th>  <td>    0.0007</td> <td>    0.000</td> <td>    1.994</td> <td> 0.046</td> <td> 1.13e-05     0.001</td>\n",
       "</tr>\n",
       "</table>\n",
       "<table class=\"simpletable\">\n",
       "<tr>\n",
       "  <th>Omnibus:</th>       <td>597.640</td> <th>  Durbin-Watson:     </th> <td>   0.014</td> \n",
       "</tr>\n",
       "<tr>\n",
       "  <th>Prob(Omnibus):</th> <td> 0.000</td>  <th>  Jarque-Bera (JB):  </th> <td> 742.489</td> \n",
       "</tr>\n",
       "<tr>\n",
       "  <th>Skew:</th>          <td>-1.139</td>  <th>  Prob(JB):          </th> <td>5.90e-162</td>\n",
       "</tr>\n",
       "<tr>\n",
       "  <th>Kurtosis:</th>      <td> 2.331</td>  <th>  Cond. No.          </th> <td>9.58e+03</td> \n",
       "</tr>\n",
       "</table>"
      ],
      "text/plain": [
       "<class 'statsmodels.iolib.summary.Summary'>\n",
       "\"\"\"\n",
       "                            OLS Regression Results                            \n",
       "==============================================================================\n",
       "Dep. Variable:           ADHD-Bipolar   R-squared:                       0.006\n",
       "Model:                            OLS   Adj. R-squared:                  0.005\n",
       "Method:                 Least Squares   F-statistic:                     3.397\n",
       "Date:                Mon, 11 Apr 2016   Prob (F-statistic):            0.00242\n",
       "Time:                        21:22:54   Log-Likelihood:                -1833.5\n",
       "No. Observations:                3163   AIC:                             3681.\n",
       "Df Residuals:                    3156   BIC:                             3723.\n",
       "Df Model:                           6                                         \n",
       "Covariance Type:            nonrobust                                         \n",
       "============================================================================================\n",
       "                               coef    std err          t      P>|t|      [95.0% Conf. Int.]\n",
       "--------------------------------------------------------------------------------------------\n",
       "const                        0.8185      0.043     18.957      0.000         0.734     0.903\n",
       "Concentration_Caudate_L      0.0003      0.000      1.179      0.239        -0.000     0.001\n",
       "Concentration_Caudate_R  -4.293e-06      0.000     -0.014      0.989        -0.001     0.001\n",
       "Concentration_Pallidum_L    -0.0003      0.000     -1.103      0.270        -0.001     0.000\n",
       "Concentration_Pallidum_R    -0.0004      0.000     -1.772      0.076        -0.001  4.43e-05\n",
       "Concentration_Putamen_L     -0.0003      0.000     -0.862      0.389        -0.001     0.000\n",
       "Concentration_Putamen_R      0.0007      0.000      1.994      0.046      1.13e-05     0.001\n",
       "==============================================================================\n",
       "Omnibus:                      597.640   Durbin-Watson:                   0.014\n",
       "Prob(Omnibus):                  0.000   Jarque-Bera (JB):              742.489\n",
       "Skew:                          -1.139   Prob(JB):                    5.90e-162\n",
       "Kurtosis:                       2.331   Cond. No.                     9.58e+03\n",
       "==============================================================================\n",
       "\n",
       "Warnings:\n",
       "[1] Standard Errors assume that the covariance matrix of the errors is correctly specified.\n",
       "[2] The condition number is large, 9.58e+03. This might indicate that there are\n",
       "strong multicollinearity or other numerical problems.\n",
       "\"\"\""
      ]
     },
     "execution_count": 13,
     "metadata": {},
     "output_type": "execute_result"
    }
   ],
   "source": [
    "X = data_backup\n",
    "y = class_labels\n",
    "\n",
    "X1 = sm.add_constant(X)\n",
    "est = sm.OLS(y, X1).fit()\n",
    "\n",
    "est.summary()"
   ]
  },
  {
   "cell_type": "markdown",
   "metadata": {},
   "source": [
    "#### On data post dimensionality reduction"
   ]
  },
  {
   "cell_type": "code",
   "execution_count": 24,
   "metadata": {
    "collapsed": false
   },
   "outputs": [
    {
     "data": {
      "text/html": [
       "<table class=\"simpletable\">\n",
       "<caption>OLS Regression Results</caption>\n",
       "<tr>\n",
       "  <th>Dep. Variable:</th>      <td>ADHD-Bipolar</td>   <th>  R-squared:         </th> <td>   0.005</td>\n",
       "</tr>\n",
       "<tr>\n",
       "  <th>Model:</th>                   <td>OLS</td>       <th>  Adj. R-squared:    </th> <td>   0.004</td>\n",
       "</tr>\n",
       "<tr>\n",
       "  <th>Method:</th>             <td>Least Squares</td>  <th>  F-statistic:       </th> <td>   7.228</td>\n",
       "</tr>\n",
       "<tr>\n",
       "  <th>Date:</th>             <td>Mon, 11 Apr 2016</td> <th>  Prob (F-statistic):</th> <td>0.000738</td>\n",
       "</tr>\n",
       "<tr>\n",
       "  <th>Time:</th>                 <td>22:34:29</td>     <th>  Log-Likelihood:    </th> <td> -1836.5</td>\n",
       "</tr>\n",
       "<tr>\n",
       "  <th>No. Observations:</th>      <td>  3163</td>      <th>  AIC:               </th> <td>   3679.</td>\n",
       "</tr>\n",
       "<tr>\n",
       "  <th>Df Residuals:</th>          <td>  3160</td>      <th>  BIC:               </th> <td>   3697.</td>\n",
       "</tr>\n",
       "<tr>\n",
       "  <th>Df Model:</th>              <td>     2</td>      <th>                     </th>     <td> </td>   \n",
       "</tr>\n",
       "<tr>\n",
       "  <th>Covariance Type:</th>      <td>nonrobust</td>    <th>                     </th>     <td> </td>   \n",
       "</tr>\n",
       "</table>\n",
       "<table class=\"simpletable\">\n",
       "<tr>\n",
       "    <td></td>       <th>coef</th>     <th>std err</th>      <th>t</th>      <th>P>|t|</th> <th>[95.0% Conf. Int.]</th> \n",
       "</tr>\n",
       "<tr>\n",
       "  <th>const</th> <td>    0.7493</td> <td>    0.008</td> <td>   97.403</td> <td> 0.000</td> <td>    0.734     0.764</td>\n",
       "</tr>\n",
       "<tr>\n",
       "  <th>x1</th>    <td>   -0.0192</td> <td>    0.008</td> <td>   -2.496</td> <td> 0.013</td> <td>   -0.034    -0.004</td>\n",
       "</tr>\n",
       "<tr>\n",
       "  <th>x2</th>    <td>   -0.0221</td> <td>    0.008</td> <td>   -2.868</td> <td> 0.004</td> <td>   -0.037    -0.007</td>\n",
       "</tr>\n",
       "</table>\n",
       "<table class=\"simpletable\">\n",
       "<tr>\n",
       "  <th>Omnibus:</th>       <td>600.386</td> <th>  Durbin-Watson:     </th> <td>   0.010</td> \n",
       "</tr>\n",
       "<tr>\n",
       "  <th>Prob(Omnibus):</th> <td> 0.000</td>  <th>  Jarque-Bera (JB):  </th> <td> 747.529</td> \n",
       "</tr>\n",
       "<tr>\n",
       "  <th>Skew:</th>          <td>-1.143</td>  <th>  Prob(JB):          </th> <td>4.74e-163</td>\n",
       "</tr>\n",
       "<tr>\n",
       "  <th>Kurtosis:</th>      <td> 2.331</td>  <th>  Cond. No.          </th> <td>    1.00</td> \n",
       "</tr>\n",
       "</table>"
      ],
      "text/plain": [
       "<class 'statsmodels.iolib.summary.Summary'>\n",
       "\"\"\"\n",
       "                            OLS Regression Results                            \n",
       "==============================================================================\n",
       "Dep. Variable:           ADHD-Bipolar   R-squared:                       0.005\n",
       "Model:                            OLS   Adj. R-squared:                  0.004\n",
       "Method:                 Least Squares   F-statistic:                     7.228\n",
       "Date:                Mon, 11 Apr 2016   Prob (F-statistic):           0.000738\n",
       "Time:                        22:34:29   Log-Likelihood:                -1836.5\n",
       "No. Observations:                3163   AIC:                             3679.\n",
       "Df Residuals:                    3160   BIC:                             3697.\n",
       "Df Model:                           2                                         \n",
       "Covariance Type:            nonrobust                                         \n",
       "==============================================================================\n",
       "                 coef    std err          t      P>|t|      [95.0% Conf. Int.]\n",
       "------------------------------------------------------------------------------\n",
       "const          0.7493      0.008     97.403      0.000         0.734     0.764\n",
       "x1            -0.0192      0.008     -2.496      0.013        -0.034    -0.004\n",
       "x2            -0.0221      0.008     -2.868      0.004        -0.037    -0.007\n",
       "==============================================================================\n",
       "Omnibus:                      600.386   Durbin-Watson:                   0.010\n",
       "Prob(Omnibus):                  0.000   Jarque-Bera (JB):              747.529\n",
       "Skew:                          -1.143   Prob(JB):                    4.74e-163\n",
       "Kurtosis:                       2.331   Cond. No.                         1.00\n",
       "==============================================================================\n",
       "\n",
       "Warnings:\n",
       "[1] Standard Errors assume that the covariance matrix of the errors is correctly specified.\n",
       "\"\"\""
      ]
     },
     "execution_count": 24,
     "metadata": {},
     "output_type": "execute_result"
    }
   ],
   "source": [
    "X = data\n",
    "y = class_labels\n",
    "\n",
    "X1 = sm.add_constant(X)\n",
    "est = sm.OLS(y, X1).fit()\n",
    "\n",
    "est.summary()"
   ]
  },
  {
   "cell_type": "markdown",
   "metadata": {},
   "source": [
    "### Questions and Answers"
   ]
  },
  {
   "cell_type": "markdown",
   "metadata": {},
   "source": [
    "##### 1) Literature Investigation\n",
    "The data csv is a bit different this time. We threw out all the baseline values and only retained concentration values for the Putamen, Claudate and Pallidum, in addition to all regions marked \"frontal\". The rationale behind this a lot of the literature online says that the shape and size of the basal ganglia and the frontal lobe is affected by both ADHD and Bipolar disorder.\n",
    "\n",
    "Given this extreme reduction in input dimensionality I expected the classifiers to be very successful.\n",
    "\n",
    "\n",
    "##### 2) Mix and Match data and examine classifier performance\n",
    "We tried mixing and matching various permutations and combinations of the concentration columns and the classifiers still were no better than chance.\n",
    "\n",
    "This led me to question either the integrity of the data or if whether basal ganglia blood flow differences are captured in spect data. \n",
    "\n",
    "\n",
    "##### 3) Confirmatory Analysis\n",
    "So we carried out a small experiment. Given the rCBF values for the basal ganglia and a label vector labelling patients as either suffering from ADHD or Bipolar disorder is there any clustering evident? Our ensemble classifers working on this dataset\n",
    "\n",
    "##### 4) Running a Multivariate regression model to see if any single field or set of fields stand out as indicators of ADHD or Bipolar \n",
    "No field stood out, further confirming our supposition that the clinically established facts that the basal ganglia is affected by bipolar disorder and ADHD do not manifest in the rCBF reading extrapolated from SPECT image scans\n",
    "\n",
    "#### Findings\n",
    "1. The classifiers are still no better than chance even after eliminating all other noise\n",
    "2. No clustering is really apparent"
   ]
  },
  {
   "cell_type": "code",
   "execution_count": null,
   "metadata": {
    "collapsed": true
   },
   "outputs": [],
   "source": []
  }
 ],
 "metadata": {
  "kernelspec": {
   "display_name": "Python 2",
   "language": "python",
   "name": "python2"
  },
  "language_info": {
   "codemirror_mode": {
    "name": "ipython",
    "version": 2
   },
   "file_extension": ".py",
   "mimetype": "text/x-python",
   "name": "python",
   "nbconvert_exporter": "python",
   "pygments_lexer": "ipython2",
   "version": "2.7.6"
  }
 },
 "nbformat": 4,
 "nbformat_minor": 0
}
