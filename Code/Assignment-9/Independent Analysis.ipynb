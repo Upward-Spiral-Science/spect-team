{
 "cells": [
  {
   "cell_type": "markdown",
   "metadata": {},
   "source": [
    "## Independent Analysis 2 - Srinivas (handle: thewickedaxe)\n",
    "** PLEASE SCROLL TO THE BOTTOM OF THE NOTEBOOK TO FIND THE QUESTIONS AND THEIR ANSWERS**"
   ]
  },
  {
   "cell_type": "markdown",
   "metadata": {},
   "source": [
    "### Initial Data Cleaning"
   ]
  },
  {
   "cell_type": "code",
   "execution_count": 174,
   "metadata": {
    "collapsed": false,
    "scrolled": true
   },
   "outputs": [
    {
     "name": "stdout",
     "output_type": "stream",
     "text": [
      "(3926, 328)\n"
     ]
    }
   ],
   "source": [
    "# Standard\n",
    "import pandas as pd\n",
    "import numpy as np\n",
    "%matplotlib inline\n",
    "import matplotlib.pyplot as plt\n",
    "\n",
    "# Dimensionality reduction and Clustering\n",
    "from sklearn.decomposition import PCA\n",
    "from sklearn.cluster import KMeans\n",
    "from sklearn.cluster import MeanShift, estimate_bandwidth\n",
    "from sklearn import manifold, datasets\n",
    "from itertools import cycle\n",
    "\n",
    "# Plotting tools and classifiers\n",
    "from matplotlib.colors import ListedColormap\n",
    "from sklearn.linear_model import LogisticRegression\n",
    "from sklearn.cross_validation import train_test_split\n",
    "from sklearn.preprocessing import StandardScaler\n",
    "from sklearn.datasets import make_moons, make_circles, make_classification\n",
    "from sklearn.neighbors import KNeighborsClassifier\n",
    "from sklearn.svm import SVC\n",
    "from sklearn.tree import DecisionTreeClassifier\n",
    "from sklearn.ensemble import RandomForestClassifier, AdaBoostClassifier\n",
    "from sklearn.naive_bayes import GaussianNB\n",
    "from sklearn.discriminant_analysis import LinearDiscriminantAnalysis as LDA\n",
    "from sklearn.discriminant_analysis import QuadraticDiscriminantAnalysis as QDA\n",
    "from sklearn import cross_validation\n",
    "from sklearn.cross_validation import LeaveOneOut\n",
    "from sklearn.cross_validation import LeavePOut\n",
    "\n",
    "\n",
    "# Let's read the data in and clean it\n",
    "\n",
    "def get_NaNs(df):\n",
    "    columns = list(df.columns.get_values()) \n",
    "    row_metrics = df.isnull().sum(axis=1)\n",
    "    rows_with_na = []\n",
    "    for i, x in enumerate(row_metrics):\n",
    "        if x > 0: rows_with_na.append(i)\n",
    "    return rows_with_na\n",
    "\n",
    "def remove_NaNs(df):\n",
    "    rows_with_na = get_NaNs(df)\n",
    "    cleansed_df = df.drop(df.index[rows_with_na], inplace=False)     \n",
    "    return cleansed_df\n",
    "\n",
    "initial_data = pd.DataFrame.from_csv('Data_Adults_1_reduced.csv')\n",
    "cleansed_df = remove_NaNs(initial_data)\n",
    "\n",
    "# Let's also get rid of nominal data\n",
    "numerics = ['int16', 'int32', 'int64', 'float16', 'float32', 'float64']\n",
    "X = cleansed_df.select_dtypes(include=numerics)\n",
    "print X.shape"
   ]
  },
  {
   "cell_type": "markdown",
   "metadata": {},
   "source": [
    "The change from last week was that we also threw out "
   ]
  },
  {
   "cell_type": "code",
   "execution_count": 175,
   "metadata": {
    "collapsed": false
   },
   "outputs": [
    {
     "name": "stdout",
     "output_type": "stream",
     "text": [
      "(3926, 322)\n",
      "(3881, 322)\n"
     ]
    }
   ],
   "source": [
    "# Let's now clean columns getting rid of certain columns that might not be important to our analysis\n",
    "\n",
    "cols2drop = ['GROUP_ID', 'doa', 'Baseline_header_id', 'Concentration_header_id',\n",
    "             'Baseline_Reading_id', 'Concentration_Reading_id']\n",
    "X = X.drop(cols2drop, axis=1, inplace=False)\n",
    "print X.shape\n",
    "\n",
    "# For our studies children skew the data, it would be cleaner to just analyse adults\n",
    "X = X.loc[X['Age'] >= 18]\n",
    "\n",
    "print X.shape"
   ]
  },
  {
   "cell_type": "markdown",
   "metadata": {},
   "source": [
    "we've now dropped the last of the discrete numerical inexplicable data, and removed children from the mix"
   ]
  },
  {
   "cell_type": "markdown",
   "metadata": {},
   "source": [
    "### Extracting the samples we are interested in"
   ]
  },
  {
   "cell_type": "code",
   "execution_count": 176,
   "metadata": {
    "collapsed": false
   },
   "outputs": [
    {
     "name": "stdout",
     "output_type": "stream",
     "text": [
      "(1383, 322)\n",
      "(440, 322)\n"
     ]
    }
   ],
   "source": [
    "# Let's extract ADHd and Bipolar patients (mutually exclusive)\n",
    "\n",
    "ADHD = X.loc[X['ADHD'] == 1]\n",
    "ADHD = ADHD.loc[ADHD['Bipolar'] == 0]\n",
    "\n",
    "BP = X.loc[X['Bipolar'] == 1]\n",
    "BP = BP.loc[BP['ADHD'] == 0]\n",
    "\n",
    "print ADHD.shape\n",
    "print BP.shape\n",
    "\n",
    "# Keeping a backup of the data frame object because numpy arrays don't play well with certain scikit functions\n",
    "ADHD_df = ADHD.copy(deep = True)\n",
    "BP_df = BP.copy(deep = True)\n",
    "ADHD = pd.DataFrame(ADHD.drop(['Patient_ID'], axis = 1, inplace = False))\n",
    "BP = pd.DataFrame(BP.drop(['Patient_ID'], axis = 1, inplace = False))"
   ]
  },
  {
   "cell_type": "markdown",
   "metadata": {},
   "source": [
    "we see here that there 1383 people who have ADHD but are not Bipolar and 440 people who are Bipolar but do not have ADHD"
   ]
  },
  {
   "cell_type": "markdown",
   "metadata": {},
   "source": [
    "### Dimensionality reduction"
   ]
  },
  {
   "cell_type": "markdown",
   "metadata": {},
   "source": [
    "#### PCA"
   ]
  },
  {
   "cell_type": "code",
   "execution_count": 177,
   "metadata": {
    "collapsed": false,
    "scrolled": true
   },
   "outputs": [
    {
     "name": "stdout",
     "output_type": "stream",
     "text": [
      "0.94670018985\n",
      "(1383, 24)\n",
      "(440, 24)\n",
      "(1383, 25)\n",
      "(440, 25)\n"
     ]
    }
   ],
   "source": [
    "combined = pd.concat([ADHD, BP])\n",
    "combined_backup = pd.concat([ADHD, BP])\n",
    "\n",
    "\n",
    "pca = PCA(n_components = 24, whiten = \"True\").fit(combined)\n",
    "combined = pca.transform(combined)\n",
    "print sum(pca.explained_variance_ratio_)\n",
    "\n",
    "combined = pd.DataFrame(combined)\n",
    "\n",
    "ADHD_reduced_df = combined[:1383]\n",
    "BP_reduced_df = combined[1383:]\n",
    "\n",
    "ADHD_reduced_df_id = ADHD_reduced_df.copy(deep = True)\n",
    "BP_reduced_df_id = BP_reduced_df.copy(deep = True)\n",
    "\n",
    "ADHD_reduced_df_id['Patient_ID'] = 123\n",
    "BP_reduced_df_id['Patient_ID'] = 123\n",
    "\n",
    "print ADHD_reduced_df.shape\n",
    "print BP_reduced_df.shape\n",
    "\n",
    "print ADHD_reduced_df_id.shape\n",
    "print BP_reduced_df_id.shape\n",
    "\n",
    "# resorting to some hacky crap, that I am ashamed to write, but pandas is refusing to cooperate\n",
    "z = []\n",
    "for x in BP_df['Patient_ID']:\n",
    "    z.append(x)\n",
    "BP_reduced_df_id['Patient_ID'] = z\n",
    "\n",
    "z = []\n",
    "for x in ADHD_df['Patient_ID']:\n",
    "    z.append(x)\n",
    "ADHD_reduced_df_id['Patient_ID'] = z\n",
    "\n",
    "ADHD_pca = ADHD_reduced_df.copy(deep = True)\n",
    "BP_pca = BP_reduced_df.copy(deep = True)"
   ]
  },
  {
   "cell_type": "markdown",
   "metadata": {},
   "source": [
    "We see here that most of the variance is preserved with just 24 features. "
   ]
  },
  {
   "cell_type": "markdown",
   "metadata": {},
   "source": [
    "#### Manifold Techniques"
   ]
  },
  {
   "cell_type": "markdown",
   "metadata": {},
   "source": [
    "##### ISOMAP"
   ]
  },
  {
   "cell_type": "code",
   "execution_count": 221,
   "metadata": {
    "collapsed": false
   },
   "outputs": [
    {
     "name": "stdout",
     "output_type": "stream",
     "text": [
      "            0           1            2           3           4           5   \\\n",
      "0  1902.039550 -585.139359  -218.456990 -284.670196 -270.290695  800.963832   \n",
      "1 -1460.620572  760.904059  -145.632148 -316.888910   73.448451 -496.774712   \n",
      "2  -979.903617 -244.839809   287.919386 -809.002862  -93.291661   31.009373   \n",
      "3  2380.896428 -136.396847  1038.059415   94.820461   -8.510901   93.103319   \n",
      "4  3785.806785 -743.303358   -55.820741  532.036809  120.361002 -103.937491   \n",
      "\n",
      "           6           7           8           9           10          11  \\\n",
      "0 -131.229362  -58.954203 -488.117735  290.063022 -233.997831  -18.622278   \n",
      "1 -360.861443  -35.114610    4.569729  182.670645  109.859489   43.898248   \n",
      "2 -322.128221  135.822512  473.378554  302.339227 -101.557987 -486.187360   \n",
      "3   58.787224   44.339368  288.570020  145.449473  273.676975  330.433262   \n",
      "4 -328.883959 -308.048198 -176.178076  206.023323   93.457154   99.003199   \n",
      "\n",
      "           12          13          14          15          16          17  \\\n",
      "0  -56.004988  -32.666850 -246.312982 -118.228148   84.463058  225.965210   \n",
      "1  489.537799 -117.460890 -233.599066 -434.049786  350.592390  219.675481   \n",
      "2  472.590006 -287.829714  259.600410 -187.051557 -397.879062 -278.972686   \n",
      "3  346.786453  484.991693  222.228941 -462.668567  140.125330  170.317520   \n",
      "4    7.753871 -216.860875   11.532852 -425.298647   77.843013 -314.525649   \n",
      "\n",
      "           18          19  \n",
      "0  -66.060321 -139.221523  \n",
      "1  216.895233  -52.940637  \n",
      "2   43.510626   56.987645  \n",
      "3  226.482586 -346.429327  \n",
      "4  -83.576841  391.517919  \n"
     ]
    }
   ],
   "source": [
    "combined = manifold.Isomap(20, 20).fit_transform(combined_backup)\n",
    "ADHD_iso = combined[:1383]\n",
    "BP_iso = combined[1383:]\n",
    "print pd.DataFrame(ADHD_iso).head()"
   ]
  },
  {
   "cell_type": "markdown",
   "metadata": {},
   "source": [
    "##### Multi dimensional scaling"
   ]
  },
  {
   "cell_type": "code",
   "execution_count": 222,
   "metadata": {
    "collapsed": false
   },
   "outputs": [
    {
     "name": "stdout",
     "output_type": "stream",
     "text": [
      "            0           1            2           3           4           5   \\\n",
      "0  1902.039550 -585.139359  -218.456990 -284.670196 -270.290695  800.963832   \n",
      "1 -1460.620572  760.904059  -145.632148 -316.888910   73.448451 -496.774712   \n",
      "2  -979.903617 -244.839809   287.919386 -809.002862  -93.291661   31.009373   \n",
      "3  2380.896428 -136.396847  1038.059415   94.820461   -8.510901   93.103319   \n",
      "4  3785.806785 -743.303358   -55.820741  532.036809  120.361002 -103.937491   \n",
      "\n",
      "           6           7           8           9           10          11  \\\n",
      "0 -131.229362  -58.954203 -488.117735  290.063022 -233.997831  -18.622278   \n",
      "1 -360.861443  -35.114610    4.569729  182.670645  109.859489   43.898248   \n",
      "2 -322.128221  135.822512  473.378554  302.339227 -101.557987 -486.187360   \n",
      "3   58.787224   44.339368  288.570020  145.449473  273.676975  330.433262   \n",
      "4 -328.883959 -308.048198 -176.178076  206.023323   93.457154   99.003199   \n",
      "\n",
      "           12          13          14          15          16          17  \\\n",
      "0  -56.004988  -32.666850 -246.312982 -118.228148   84.463058  225.965210   \n",
      "1  489.537799 -117.460890 -233.599066 -434.049786  350.592390  219.675481   \n",
      "2  472.590006 -287.829714  259.600410 -187.051557 -397.879062 -278.972686   \n",
      "3  346.786453  484.991693  222.228941 -462.668567  140.125330  170.317520   \n",
      "4    7.753871 -216.860875   11.532852 -425.298647   77.843013 -314.525649   \n",
      "\n",
      "           18          19  \n",
      "0  -66.060321 -139.221523  \n",
      "1  216.895233  -52.940637  \n",
      "2   43.510626   56.987645  \n",
      "3  226.482586 -346.429327  \n",
      "4  -83.576841  391.517919  \n"
     ]
    }
   ],
   "source": [
    "mds = manifold.MDS(20).fit_transform(combined_backup)\n",
    "ADHD_mds = combined[:1383]\n",
    "BP_mds = combined[1383:]\n",
    "print pd.DataFrame(ADHD_mds).head()"
   ]
  },
  {
   "cell_type": "markdown",
   "metadata": {},
   "source": [
    "As is evident above, the 2 manifold techniques don't really offer very different dimensionality reductions. Therefore we are just going to roll with Multi dimensional scaling"
   ]
  },
  {
   "cell_type": "markdown",
   "metadata": {},
   "source": [
    "### Clustering and other grouping experiments"
   ]
  },
  {
   "cell_type": "markdown",
   "metadata": {},
   "source": [
    "#### Mean-Shift - mds"
   ]
  },
  {
   "cell_type": "code",
   "execution_count": 223,
   "metadata": {
    "collapsed": false
   },
   "outputs": [],
   "source": [
    "ADHD_clust = pd.DataFrame(ADHD_mds)\n",
    "BP_clust = pd.DataFrame(BP_mds)\n",
    "\n",
    "# This is a consequence of how we dropped columns, I apologize for the hacky code \n",
    "data = pd.concat([ADHD_clust, BP_clust])\n",
    "\n",
    "# Let's see what happens with Mean Shift clustering\n",
    "bandwidth = estimate_bandwidth(data.get_values(), quantile=0.2, n_samples=1823) * 0.8\n",
    "ms = MeanShift(bandwidth=bandwidth)\n",
    "ms.fit(data.get_values())\n",
    "labels = ms.labels_"
   ]
  },
  {
   "cell_type": "code",
   "execution_count": 224,
   "metadata": {
    "collapsed": false
   },
   "outputs": [
    {
     "name": "stdout",
     "output_type": "stream",
     "text": [
      "Estimated number of clusters: 8\n"
     ]
    }
   ],
   "source": [
    "cluster_centers = ms.cluster_centers_\n",
    "labels_unique = np.unique(labels)\n",
    "n_clusters_ = len(labels_unique)\n",
    "print('Estimated number of clusters: %d' % n_clusters_)"
   ]
  },
  {
   "cell_type": "code",
   "execution_count": 225,
   "metadata": {
    "collapsed": false
   },
   "outputs": [
    {
     "data": {
      "image/png": "[encoded data removed]",
      "text/plain": [
       "<matplotlib.figure.Figure at 0x7effe80cbcd0>"
      ]
     },
     "metadata": {},
     "output_type": "display_data"
    }
   ],
   "source": [
    "for cluster in range(n_clusters_):    \n",
    "    ds = data.get_values()[np.where(labels == cluster)]    \n",
    "    plt.plot(ds[:,0], ds[:,1], '.')    \n",
    "    lines = plt.plot(cluster_centers[cluster, 0], cluster_centers[cluster, 1], 'o')"
   ]
  },
  {
   "cell_type": "markdown",
   "metadata": {},
   "source": [
    "Though I'm not sure how to tweak the hyper-parameters of the bandwidth estimation function, there doesn't seem to be much difference. Minute variations to the bandwidth result in large cluster differences. Perhaps the data isn't very suitable for a contrived clustering technique like Mean-Shift. Therefore let us attempt something more naive and simplistic like K-Means"
   ]
  },
  {
   "cell_type": "markdown",
   "metadata": {},
   "source": [
    "#### K-Means clustering - mds"
   ]
  },
  {
   "cell_type": "code",
   "execution_count": 226,
   "metadata": {
    "collapsed": false
   },
   "outputs": [
    {
     "name": "stdout",
     "output_type": "stream",
     "text": [
      "Estimated number of clusters: 2\n",
      "(1823, 20)\n"
     ]
    }
   ],
   "source": [
    "kmeans = KMeans(n_clusters=2)\n",
    "kmeans.fit(data.get_values())\n",
    "labels = kmeans.labels_\n",
    "centroids = kmeans.cluster_centers_\n",
    "print('Estimated number of clusters: %d' % len(centroids))\n",
    "print data.shape"
   ]
  },
  {
   "cell_type": "code",
   "execution_count": 227,
   "metadata": {
    "collapsed": false
   },
   "outputs": [
    {
     "data": {
      "image/png": "[encoded data removed]",
      "text/plain": [
       "<matplotlib.figure.Figure at 0x7effcf310a50>"
      ]
     },
     "metadata": {},
     "output_type": "display_data"
    }
   ],
   "source": [
    "for label in [0, 1]:\n",
    "    ds = data.get_values()[np.where(labels == label)]    \n",
    "    plt.plot(ds[:,0], ds[:,1], '.')    \n",
    "    lines = plt.plot(centroids[i,0], centroids[i,1], 'o')"
   ]
  },
  {
   "cell_type": "markdown",
   "metadata": {},
   "source": [
    "As is evident from the above 2 experiments, no clear clustering is apparent.But there is some significant overlap and there 2 clear groups"
   ]
  },
  {
   "cell_type": "markdown",
   "metadata": {},
   "source": [
    "### Classification Experiments"
   ]
  },
  {
   "cell_type": "markdown",
   "metadata": {},
   "source": [
    "Let's experiment with a bunch of classifiers"
   ]
  },
  {
   "cell_type": "code",
   "execution_count": 228,
   "metadata": {
    "collapsed": false
   },
   "outputs": [],
   "source": [
    "ADHD_mds = pd.DataFrame(ADHD_mds)\n",
    "BP_mds = pd.DataFrame(BP_mds)"
   ]
  },
  {
   "cell_type": "code",
   "execution_count": 229,
   "metadata": {
    "collapsed": false
   },
   "outputs": [
    {
     "name": "stdout",
     "output_type": "stream",
     "text": [
      "(1823, 20)\n"
     ]
    }
   ],
   "source": [
    "BP_mds['ADHD-Bipolar'] = 0\n",
    "ADHD_mds['ADHD-Bipolar'] = 1\n",
    "\n",
    "data = pd.concat([ADHD_mds, BP_mds])\n",
    "class_labels = data['ADHD-Bipolar']\n",
    "data = data.drop(['ADHD-Bipolar'], axis = 1, inplace = False)\n",
    "print data.shape\n",
    "data = data.get_values()"
   ]
  },
  {
   "cell_type": "code",
   "execution_count": 230,
   "metadata": {
    "collapsed": false
   },
   "outputs": [],
   "source": [
    "# Leave one Out cross validation\n",
    "def leave_one_out(classifier, values, labels):\n",
    "    leave_one_out_validator = LeaveOneOut(len(values))\n",
    "    classifier_metrics = cross_validation.cross_val_score(classifier, values, labels, cv=leave_one_out_validator)\n",
    "    accuracy = classifier_metrics.mean()\n",
    "    deviation = classifier_metrics.std()\n",
    "    return accuracy, deviation"
   ]
  },
  {
   "cell_type": "code",
   "execution_count": 231,
   "metadata": {
    "collapsed": false,
    "scrolled": true
   },
   "outputs": [
    {
     "name": "stdout",
     "output_type": "stream",
     "text": [
      "KNN accuracy is 0.7071 (+/- 0.455)\n",
      "SVM accuracy is 0.7586 (+/- 0.428)\n",
      "Random Forest accuracy is 0.7301 (+/- 0.444)\n",
      "Decision Tree accuracy is 0.6643 (+/- 0.472)\n",
      "QDA accuracy is 0.6961 (+/- 0.460)\n",
      "Gaussian NB accuracy is 0.7345 (+/- 0.442)\n"
     ]
    }
   ],
   "source": [
    "p_val = 100\n",
    "knn = KNeighborsClassifier(n_neighbors = 5)\n",
    "svc = SVC(gamma = 2, C = 1)\n",
    "rf = RandomForestClassifier(n_estimators = 22) \n",
    "dt = DecisionTreeClassifier(max_depth = 22) \n",
    "qda = QDA()\n",
    "gnb = GaussianNB()\n",
    "classifier_accuracy_list = []\n",
    "classifiers = [(knn, \"KNN\"), (svc, \"SVM\"), (rf, \"Random Forest\"), (dt, \"Decision Tree\"),\n",
    "               (qda, \"QDA\"), (gnb, \"Gaussian NB\")]\n",
    "for classifier, name in classifiers:\n",
    "    accuracy, deviation = leave_one_out(classifier, data, class_labels)\n",
    "    print '%s accuracy is %0.4f (+/- %0.3f)' % (name, accuracy, deviation)\n",
    "    classifier_accuracy_list.append((name, accuracy))"
   ]
  },
  {
   "cell_type": "markdown",
   "metadata": {},
   "source": [
    "given the number of people who have ADHD and Bipolar disorder the chance line would be at around 0.6. The classifiers fall between 0.7 and 0.75 which makes them just barely better than chance. This is still an improvement over last time."
   ]
  },
  {
   "cell_type": "markdown",
   "metadata": {},
   "source": [
    "### Questions and Answers"
   ]
  },
  {
   "cell_type": "markdown",
   "metadata": {},
   "source": [
    "Q1) *Did you attempt any further data cleaning?*<br/>\n",
    "A1) Yes, we threw out the technician assesment of RCBF and the survey responses all together. The reason for this patients have already been systematically clinically diagnosed. Survey responses and technician assesments are subjective. Sometime the respondent didn't even respond to the surveys. This helped us salvage around 300 record<br/>\n",
    "\n",
    "Q2) through Q3) Did you attempt any manifold dimensionality reduction techniques?<br/>\n",
    "A2 through A3) Yes<br/>\n",
    "I found that ISOMAP and MDS do not offer drastically different dimensionaity reductions.<br/>\n",
    "\n",
    "Q4) Given the new dimensionality reduction was any clustering apparent?<br/>\n",
    "A4) No, the groups are more spatially distributed than before, but with not much separation<br/>\n",
    "\n",
    "Q4) through Q)9 *Did you attempt a cross validated train test with a classifier? what were the results?*<br/>\n",
    "A4) through A)9<br/>\n",
    "**KNN accuracy is 0.7071 (+/- 0.455)<br/>\n",
    "SVM accuracy is 0.7586 (+/- 0.428)<br/>\n",
    "Random Forest accuracy is 0.7301 (+/- 0.444)<br/>\n",
    "Decision Tree accuracy is 0.6643 (+/- 0.472)<br/>\n",
    "QDA accuracy is 0.6961 (+/- 0.460)<br/>\n",
    "Gaussian NB accuracy is 0.7345 (+/- 0.442)<br/>**"
   ]
  },
  {
   "cell_type": "code",
   "execution_count": null,
   "metadata": {
    "collapsed": true
   },
   "outputs": [],
   "source": []
  }
 ],
 "metadata": {
  "kernelspec": {
   "display_name": "Python 2",
   "language": "python",
   "name": "python2"
  },
  "language_info": {
   "codemirror_mode": {
    "name": "ipython",
    "version": 2
   },
   "file_extension": ".py",
   "mimetype": "text/x-python",
   "name": "python",
   "nbconvert_exporter": "python",
   "pygments_lexer": "ipython2",
   "version": "2.7.6"
  }
 },
 "nbformat": 4,
 "nbformat_minor": 0
}
