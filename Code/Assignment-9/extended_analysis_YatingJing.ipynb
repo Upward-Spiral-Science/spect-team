{
 "cells": [
  {
   "cell_type": "markdown",
   "metadata": {},
   "source": [
    "### Extended Analysis: ADHD and Bipolar Disorder Identification  - by Yating Jing"
   ]
  },
  {
   "cell_type": "code",
   "execution_count": 1,
   "metadata": {
    "collapsed": true
   },
   "outputs": [],
   "source": [
    "import pandas as pd\n",
    "import numpy as np\n",
    "\n",
    "df_adhd = pd.read_csv('ADHD_rCBF.csv')\n",
    "df_bipolar = pd.read_csv('Bipolar_rCBF.csv')"
   ]
  },
  {
   "cell_type": "code",
   "execution_count": 2,
   "metadata": {
    "collapsed": false
   },
   "outputs": [
    {
     "name": "stdout",
     "output_type": "stream",
     "text": [
      "Chance is 0.7591\n",
      "Double check data size: (1955, 260) 1955\n"
     ]
    }
   ],
   "source": [
    "from __future__ import division\n",
    "\n",
    "df_all = pd.concat([df_adhd, df_bipolar], axis=0)\n",
    "chance =  df_adhd.shape[0] / df_all.shape[0]\n",
    "print 'Chance is %0.4f' % chance\n",
    "\n",
    "X_all = df_all.values\n",
    "y = [0] * df_adhd.shape[0] + [1] * df_bipolar.shape[0]\n",
    "\n",
    "print 'Double check data size:', X_all.shape, len(y)"
   ]
  },
  {
   "cell_type": "markdown",
   "metadata": {},
   "source": [
    "### PCA"
   ]
  },
  {
   "cell_type": "code",
   "execution_count": 3,
   "metadata": {
    "collapsed": true
   },
   "outputs": [],
   "source": [
    "%matplotlib inline\n",
    "import matplotlib.pyplot as plt\n",
    "from sklearn import preprocessing\n",
    "from sklearn.decomposition import PCA\n",
    "\n",
    "# Plot explained variance ratio\n",
    "def plot(ex_var_ratio):\n",
    "    plt.plot(ex_var_ratio)\n",
    "    plt.ylabel('Explained Variance Ratio')\n",
    "    plt.xlabel('Number of Principal Components')\n",
    "\n",
    "def pca(X, n):\n",
    "    X_scaled = preprocessing.scale(X)\n",
    "    pca = PCA(n_components=n)\n",
    "    pc = pca.fit_transform(X_scaled)\n",
    "    \n",
    "    print '\\nExplained Variance Ratios:'\n",
    "    print pca.explained_variance_ratio_\n",
    "    print '\\nSum of Explained Variance Ratios:', \n",
    "    print np.sum(pca.explained_variance_ratio_)\n",
    "\n",
    "    return pc, pca.explained_variance_ratio_"
   ]
  },
  {
   "cell_type": "code",
   "execution_count": 4,
   "metadata": {
    "collapsed": false
   },
   "outputs": [
    {
     "name": "stdout",
     "output_type": "stream",
     "text": [
      "\n",
      "Explained Variance Ratios:\n",
      "[ 0.61952462  0.09113315  0.08372461  0.0242757   0.01855307  0.0162609\n",
      "  0.01066687  0.01017312  0.00834067  0.00676367  0.00622076  0.00577653\n",
      "  0.00451711  0.00425227  0.00390682  0.003756    0.0036283   0.00322271\n",
      "  0.00313953  0.00298522]\n",
      "\n",
      "Sum of Explained Variance Ratios: 0.930821646393\n"
     ]
    },
    {
     "data": {
      "image/png": "[encoded data removed]",
      "text/plain": [
       "<matplotlib.figure.Figure at 0x105273d10>"
      ]
     },
     "metadata": {},
     "output_type": "display_data"
    }
   ],
   "source": [
    "X_pca, ex_var_ratio = pca(X_all, 20)\n",
    "plot(ex_var_ratio)"
   ]
  },
  {
   "cell_type": "markdown",
   "metadata": {},
   "source": [
    "### LLE"
   ]
  },
  {
   "cell_type": "code",
   "execution_count": 5,
   "metadata": {
    "collapsed": false
   },
   "outputs": [
    {
     "name": "stdout",
     "output_type": "stream",
     "text": [
      "\n",
      "Explained Variance Ratios:\n",
      "[ 0.10136208  0.10116825  0.10108163  0.10100275  0.10099331  0.09970612\n",
      "  0.09956548  0.0994801   0.09869764  0.09694265]\n",
      "\n",
      "Sum of Explained Variance Ratios: 1.0\n"
     ]
    }
   ],
   "source": [
    "from sklearn.manifold import LocallyLinearEmbedding\n",
    "from mpl_toolkits.mplot3d import Axes3D\n",
    "\n",
    "# Compute explained variance ratio of transformed data\n",
    "def compute_explained_variance_ratio(transformed_data):\n",
    "    explained_variance = np.var(transformed_data, axis=0)\n",
    "    explained_variance_ratio = explained_variance / np.sum(explained_variance)\n",
    "    explained_variance_ratio = np.sort(explained_variance_ratio)[::-1]\n",
    "    return explained_variance_ratio\n",
    "\n",
    "def lle(X, n=10):\n",
    "    X_scaled = preprocessing.scale(X)\n",
    "    lle = LocallyLinearEmbedding(n_neighbors=10, n_components=n, method='ltsa')\n",
    "    pc = lle.fit_transform(X_scaled)\n",
    "    ex_var_ratio = compute_explained_variance_ratio(pc)\n",
    "    \n",
    "    print '\\nExplained Variance Ratios:'\n",
    "    print ex_var_ratio\n",
    "    print '\\nSum of Explained Variance Ratios:', \n",
    "    print np.sum(ex_var_ratio)\n",
    "    \n",
    "    return pc, ex_var_ratio\n",
    "    \n",
    "X_lle, ex_var_ratio = lle(X_all, 10) "
   ]
  },
  {
   "cell_type": "code",
   "execution_count": 6,
   "metadata": {
    "collapsed": true
   },
   "outputs": [],
   "source": [
    "from sklearn import cross_validation\n",
    "from sklearn.cross_validation import KFold\n",
    "\n",
    "# Train the given classifier\n",
    "def train_clf(clf, train_feats, train_labels):\n",
    "    # Supervised training\n",
    "    clf.fit(train_feats, train_labels)\n",
    "    \n",
    "# Test the given classifier and calculate accuracy\n",
    "def test_clf(clf, test_feats, test_labels):\n",
    "    # Predict using test set\n",
    "    predicted = clf.predict(test_feats)\n",
    "    # Compute accuracy\n",
    "    acc = np.mean(predicted == test_labels)\n",
    "    return predicted, acc\n",
    "\n",
    "# Compute accuracy of a model trained with a specific number(n) of samples \n",
    "def compute_acc(clf, n):\n",
    "    train_clf(clf, train_X[:n], train_y[:n])\n",
    "    predict_y, acc = test_clf(clf, test_X, test_y)\n",
    "    return acc\n",
    "\n",
    "# Leave one out cross validation\n",
    "def loo_cv(clf, X, y):\n",
    "    loo = LeaveOneOut(len(X))\n",
    "    scores = cross_validation.cross_val_score(clf, X, y, cv=loo)\n",
    "    return scores.mean(), scores.std()\n",
    "\n",
    "# K-fold cross validation\n",
    "def kf_cv(clf, X, y, k=10):\n",
    "    kf = KFold(len(X), n_folds=k)\n",
    "    scores = cross_validation.cross_val_score(clf, X, y, cv=kf)\n",
    "    return scores.mean(), scores.std()"
   ]
  },
  {
   "cell_type": "code",
   "execution_count": 7,
   "metadata": {
    "collapsed": false
   },
   "outputs": [
    {
     "name": "stdout",
     "output_type": "stream",
     "text": [
      "Logistic Regression accuracy is 0.7585 (+/- 0.399)\n",
      "K Nearest Neighbors accuracy is 0.6941 (+/- 0.345)\n",
      "Support Vector Machine (Linear Kernel) accuracy is 0.7585 (+/- 0.399)\n",
      "Linear Discriminant Analysis accuracy is 0.7513 (+/- 0.391)\n",
      "Quadratic Discriminant Analysis accuracy is 0.6599 (+/- 0.241)\n",
      "Random Forest accuracy is 0.7130 (+/- 0.357)\n",
      "Gradient Boosting accuracy is 0.7534 (+/- 0.395)\n",
      "Extra Trees accuracy is 0.7580 (+/- 0.398)\n",
      "AdaBoost accuracy is 0.7431 (+/- 0.381)\n"
     ]
    }
   ],
   "source": [
    "from sklearn.linear_model import LogisticRegression\n",
    "from sklearn.neighbors import KNeighborsClassifier\n",
    "from sklearn.svm import LinearSVC, SVC\n",
    "from sklearn.lda import LDA\n",
    "from sklearn.qda import QDA\n",
    "from sklearn.ensemble import RandomForestClassifier\n",
    "from sklearn.ensemble import GradientBoostingClassifier\n",
    "from sklearn.ensemble import ExtraTreesClassifier\n",
    "from sklearn.ensemble import AdaBoostClassifier\n",
    "\n",
    "X = X_lle\n",
    "\n",
    "# Logistic Regression\n",
    "lg = LogisticRegression(penalty='l2')\n",
    "acc_lg, acc_std_lg = kf_cv(lg, X, y)\n",
    "print 'Logistic Regression accuracy is %0.4f (+/- %0.3f)' % (acc_lg, acc_std_lg)\n",
    "\n",
    "# K Nearest Neighbors\n",
    "knn = KNeighborsClassifier(n_neighbors=7)\n",
    "acc_knn, acc_std_knn = kf_cv(knn, X, y)\n",
    "print 'K Nearest Neighbors accuracy is %0.4f (+/- %0.3f)' % (acc_knn, acc_std_knn)\n",
    "\n",
    "# Support Vector Machine - Linear Kernel\n",
    "svc = LinearSVC()\n",
    "acc_svm, acc_std_svm = kf_cv(svc, X, y)\n",
    "print 'Support Vector Machine (Linear Kernel) accuracy is %0.4f (+/- %0.3f)' % (acc_svm, acc_std_svm)\n",
    "\n",
    "# Linear Discriminant Analysis\n",
    "lda = LDA()\n",
    "acc_lda, acc_std_lda = kf_cv(lda, X, y)\n",
    "print 'Linear Discriminant Analysis accuracy is %0.4f (+/- %0.3f)' % (acc_lda, acc_std_lda)\n",
    "\n",
    "# Quadratic Discriminant Analysis\n",
    "qda = QDA()\n",
    "acc_qda, acc_std_qda = kf_cv(qda, X, y)\n",
    "print 'Quadratic Discriminant Analysis accuracy is %0.4f (+/- %0.3f)' % (acc_qda, acc_std_qda)\n",
    "\n",
    "# Random Forest\n",
    "rf = RandomForestClassifier(n_estimators=30) \n",
    "acc_rf, acc_std_rf = kf_cv(rf, X, y) \n",
    "print 'Random Forest accuracy is %0.4f (+/- %0.3f)' % (acc_rf, acc_std_rf)\n",
    "\n",
    "# Gradient Boosting \n",
    "gb = GradientBoostingClassifier(n_estimators=20, max_depth=3)\n",
    "acc_gb, acc_std_gb = kf_cv(gb, X, y)\n",
    "print 'Gradient Boosting accuracy is %0.4f (+/- %0.3f)' % (acc_gb, acc_std_gb)\n",
    "\n",
    "# Extra Trees  \n",
    "et = ExtraTreesClassifier(n_estimators=40, max_depth=5)\n",
    "acc_et, acc_std_et = kf_cv(et, X, y)\n",
    "print 'Extra Trees accuracy is %0.4f (+/- %0.3f)' % (acc_et, acc_std_et)\n",
    "\n",
    "# AdaBoost\n",
    "ada = AdaBoostClassifier()\n",
    "acc_ada, acc_std_ada = kf_cv(ada, X, y)\n",
    "print 'AdaBoost accuracy is %0.4f (+/- %0.3f)' % (acc_ada, acc_std_ada)"
   ]
  }
 ],
 "metadata": {
  "kernelspec": {
   "display_name": "Python 2",
   "language": "python",
   "name": "python2"
  },
  "language_info": {
   "codemirror_mode": {
    "name": "ipython",
    "version": 2
   },
   "file_extension": ".py",
   "mimetype": "text/x-python",
   "name": "python",
   "nbconvert_exporter": "python",
   "pygments_lexer": "ipython2",
   "version": "2.7.11"
  }
 },
 "nbformat": 4,
 "nbformat_minor": 0
}
