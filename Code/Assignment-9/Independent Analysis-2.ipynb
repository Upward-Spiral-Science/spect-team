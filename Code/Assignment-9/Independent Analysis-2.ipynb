{
 "cells": [
  {
   "cell_type": "markdown",
   "metadata": {},
   "source": [
    "## Independent Analysis 2 - Srinivas (handle: thewickedaxe)\n",
    "** PLEASE SCROLL TO THE BOTTOM OF THE NOTEBOOK TO FIND THE QUESTIONS AND THEIR ANSWERS AND OTHER GENERAL FINDINGS**"
   ]
  },
  {
   "cell_type": "markdown",
   "metadata": {},
   "source": [
    "** In this notebook we explore throwing out all the data except the basal ganglia and attempting to classify the data**"
   ]
  },
  {
   "cell_type": "markdown",
   "metadata": {},
   "source": [
    "### Initial Data Cleaning"
   ]
  },
  {
   "cell_type": "code",
   "execution_count": 362,
   "metadata": {
    "collapsed": false,
    "scrolled": true
   },
   "outputs": [
    {
     "name": "stdout",
     "output_type": "stream",
     "text": [
      "(6785, 10)\n"
     ]
    }
   ],
   "source": [
    "# Standard\n",
    "import pandas as pd\n",
    "import numpy as np\n",
    "%matplotlib inline\n",
    "import matplotlib.pyplot as plt\n",
    "\n",
    "# Dimensionality reduction and Clustering\n",
    "from sklearn.decomposition import PCA\n",
    "from sklearn.cluster import KMeans\n",
    "from sklearn.cluster import MeanShift, estimate_bandwidth\n",
    "from sklearn import manifold, datasets\n",
    "from sklearn import preprocessing\n",
    "from itertools import cycle\n",
    "\n",
    "# Plotting tools and classifiers\n",
    "from matplotlib.colors import ListedColormap\n",
    "from sklearn.preprocessing import StandardScaler\n",
    "from sklearn.datasets import make_moons, make_circles, make_classification\n",
    "from sklearn.svm import SVC\n",
    "from sklearn.tree import DecisionTreeClassifier\n",
    "from sklearn.ensemble import BaggingClassifier\n",
    "from sklearn.ensemble import GradientBoostingClassifier\n",
    "from sklearn.ensemble import VotingClassifier\n",
    "from sklearn.naive_bayes import GaussianNB\n",
    "from sklearn.discriminant_analysis import QuadraticDiscriminantAnalysis as QDA\n",
    "from sklearn import cross_validation\n",
    "from sklearn.cross_validation import LeaveOneOut\n",
    "\n",
    "\n",
    "# Let's read the data in and clean it\n",
    "\n",
    "def get_NaNs(df):\n",
    "    columns = list(df.columns.get_values()) \n",
    "    row_metrics = df.isnull().sum(axis=1)\n",
    "    rows_with_na = []\n",
    "    for i, x in enumerate(row_metrics):\n",
    "        if x > 0: rows_with_na.append(i)\n",
    "    return rows_with_na\n",
    "\n",
    "def remove_NaNs(df):\n",
    "    rows_with_na = get_NaNs(df)\n",
    "    cleansed_df = df.drop(df.index[rows_with_na], inplace=False)     \n",
    "    return cleansed_df\n",
    "\n",
    "initial_data = pd.DataFrame.from_csv('Data_Adults_1_reduced_2.csv')\n",
    "cleansed_df = remove_NaNs(initial_data)\n",
    "\n",
    "# Let's also get rid of nominal data\n",
    "numerics = ['int16', 'int32', 'int64', 'float16', 'float32', 'float64']\n",
    "X = cleansed_df.select_dtypes(include=numerics)\n",
    "print X.shape"
   ]
  },
  {
   "cell_type": "markdown",
   "metadata": {},
   "source": [
    "we've now dropped the last of the discrete numerical inexplicable data, and removed children from the mix"
   ]
  },
  {
   "cell_type": "markdown",
   "metadata": {},
   "source": [
    "### Extracting the samples we are interested in"
   ]
  },
  {
   "cell_type": "code",
   "execution_count": 364,
   "metadata": {
    "collapsed": false
   },
   "outputs": [
    {
     "name": "stdout",
     "output_type": "stream",
     "text": [
      "(2370, 10)\n",
      "(793, 10)\n",
      "(2370, 6)\n",
      "(793, 6)\n"
     ]
    }
   ],
   "source": [
    "# Let's extract ADHd and Bipolar patients (mutually exclusive)\n",
    "\n",
    "ADHD = X.loc[X['ADHD'] == 1]\n",
    "ADHD = ADHD.loc[ADHD['Bipolar'] == 0]\n",
    "\n",
    "BP = X.loc[X['Bipolar'] == 1]\n",
    "BP = BP.loc[BP['ADHD'] == 0]\n",
    "\n",
    "print ADHD.shape\n",
    "print BP.shape\n",
    "\n",
    "# Keeping a backup of the data frame object because numpy arrays don't play well with certain scikit functions\n",
    "ADHD = pd.DataFrame(ADHD.drop(['Patient_ID', 'Age', 'ADHD', 'Bipolar'], axis = 1, inplace = False))\n",
    "BP = pd.DataFrame(BP.drop(['Patient_ID', 'Age', 'ADHD', 'Bipolar'], axis = 1, inplace = False))\n",
    "\n",
    "print ADHD.shape\n",
    "print BP.shape"
   ]
  },
  {
   "cell_type": "markdown",
   "metadata": {},
   "source": [
    "### Clustering and other grouping experiments"
   ]
  },
  {
   "cell_type": "code",
   "execution_count": 365,
   "metadata": {
    "collapsed": false
   },
   "outputs": [],
   "source": [
    "ADHD_clust = pd.DataFrame(ADHD)\n",
    "BP_clust = pd.DataFrame(BP)\n",
    "\n",
    "# This is a consequence of how we dropped columns, I apologize for the hacky code \n",
    "data = pd.concat([ADHD_clust, BP_clust])"
   ]
  },
  {
   "cell_type": "markdown",
   "metadata": {},
   "source": [
    "#### K-Means clustering"
   ]
  },
  {
   "cell_type": "code",
   "execution_count": 366,
   "metadata": {
    "collapsed": false
   },
   "outputs": [
    {
     "name": "stdout",
     "output_type": "stream",
     "text": [
      "Estimated number of clusters: 2\n",
      "(3163, 6)\n"
     ]
    }
   ],
   "source": [
    "kmeans = KMeans(n_clusters=2)\n",
    "kmeans.fit(data.get_values())\n",
    "labels = kmeans.labels_\n",
    "cluster_centers = kmeans.cluster_centers_\n",
    "print('Estimated number of clusters: %d' % len(cluster_centers))\n",
    "print data.shape"
   ]
  },
  {
   "cell_type": "code",
   "execution_count": 367,
   "metadata": {
    "collapsed": false
   },
   "outputs": [
    {
     "data": {
      "image/png": "[encoded data removed]",
      "text/plain": [
       "<matplotlib.figure.Figure at 0x7f58a551d6d0>"
      ]
     },
     "metadata": {},
     "output_type": "display_data"
    }
   ],
   "source": [
    "for label in [0, 1]:\n",
    "    ds = data.get_values()[np.where(labels == label)]    \n",
    "    plt.plot(ds[:,0], ds[:,1], '.')    \n",
    "    lines = plt.plot(cluster_centers[label,0], cluster_centers[label,1], 'o')"
   ]
  },
  {
   "cell_type": "markdown",
   "metadata": {},
   "source": [
    "### Classification Experiments"
   ]
  },
  {
   "cell_type": "markdown",
   "metadata": {},
   "source": [
    "Let's experiment with a bunch of classifiers"
   ]
  },
  {
   "cell_type": "code",
   "execution_count": 375,
   "metadata": {
    "collapsed": false
   },
   "outputs": [],
   "source": [
    "ADHD_iso = pd.DataFrame(ADHD_clust)\n",
    "BP_iso = pd.DataFrame(BP_clust)"
   ]
  },
  {
   "cell_type": "code",
   "execution_count": 376,
   "metadata": {
    "collapsed": false
   },
   "outputs": [
    {
     "name": "stdout",
     "output_type": "stream",
     "text": [
      "Index([u'Concentration_Caudate_L', u'Concentration_Caudate_R',\n",
      "       u'Concentration_Pallidum_L', u'Concentration_Pallidum_R',\n",
      "       u'Concentration_Putamen_L', u'Concentration_Putamen_R',\n",
      "       u'ADHD-Bipolar'],\n",
      "      dtype='object')\n",
      "(3163, 6)\n"
     ]
    }
   ],
   "source": [
    "BP_iso['ADHD-Bipolar'] = 0\n",
    "ADHD_iso['ADHD-Bipolar'] = 1\n",
    "print BP_iso.columns\n",
    "data = pd.DataFrame(pd.concat([ADHD_iso, BP_iso]))\n",
    "class_labels = data['ADHD-Bipolar']\n",
    "data = data.drop(['ADHD-Bipolar'], axis = 1, inplace = False)\n",
    "print data.shape\n",
    "data = data.get_values()"
   ]
  },
  {
   "cell_type": "code",
   "execution_count": 377,
   "metadata": {
    "collapsed": false
   },
   "outputs": [],
   "source": [
    "# Leave one Out cross validation\n",
    "def leave_one_out(classifier, values, labels):\n",
    "    leave_one_out_validator = LeaveOneOut(len(values))\n",
    "    classifier_metrics = cross_validation.cross_val_score(classifier, values, labels, cv=leave_one_out_validator)\n",
    "    accuracy = classifier_metrics.mean()\n",
    "    deviation = classifier_metrics.std()\n",
    "    return accuracy, deviation"
   ]
  },
  {
   "cell_type": "code",
   "execution_count": 378,
   "metadata": {
    "collapsed": false,
    "scrolled": true
   },
   "outputs": [
    {
     "name": "stdout",
     "output_type": "stream",
     "text": [
      "Gaussian NB accuracy is 0.7493 (+/- 0.433)\n",
      "QDA accuracy is 0.7401 (+/- 0.439)\n",
      "SVM accuracy is 0.7483 (+/- 0.434)\n",
      "Bagging Classifier accuracy is 0.7041 (+/- 0.456)\n",
      "Voting Classifier accuracy is 0.7458 (+/- 0.435)\n",
      "Decision Trees accuracy is 0.6285 (+/- 0.483)\n"
     ]
    }
   ],
   "source": [
    "svc = SVC(gamma = 2, C = 1)\n",
    "bc = BaggingClassifier(n_estimators = 22)\n",
    "gb = GradientBoostingClassifier()\n",
    "dt = DecisionTreeClassifier(max_depth = 22) \n",
    "qda = QDA()\n",
    "gnb = GaussianNB()\n",
    "vc = VotingClassifier(estimators=[('gb', gb), ('bc', bc), ('gnb', gnb)],voting='hard')\n",
    "classifier_accuracy_list = []\n",
    "classifiers = [(gnb, \"Gaussian NB\"), (qda, \"QDA\"), (svc, \"SVM\"), (bc, \"Bagging Classifier\"), (vc, \"Voting Classifier\"),\n",
    "               (dt, \"Decision Trees\")]\n",
    "for classifier, name in classifiers:\n",
    "    accuracy, deviation = leave_one_out(classifier, data, class_labels)\n",
    "    print '%s accuracy is %0.4f (+/- %0.3f)' % (name, accuracy, deviation)\n",
    "    classifier_accuracy_list.append((name, accuracy))"
   ]
  },
  {
   "cell_type": "markdown",
   "metadata": {},
   "source": [
    "given the number of people who have ADHD and Bipolar disorder the chance line would be at around 0.6. The classifiers fall between 0.7 and 0.75 which makes them just barely better than chance. This is still an improvement over last time."
   ]
  },
  {
   "cell_type": "markdown",
   "metadata": {},
   "source": [
    "### Questions and Answers"
   ]
  },
  {
   "cell_type": "markdown",
   "metadata": {},
   "source": [
    "##### 1) Literature Investigation\n",
    "The data csv is a bit different this time. We threw out all the baseline values and only retained concentration values for the Putamen, Claudate and Pallidum, in addition to all regions marked \"frontal\". The rationale behind this a lot of the literature online says that the shape and size of the basal ganglia and the frontal lobe is affected by both ADHD and Bipolar disorder.\n",
    "\n",
    "Given this extreme reduction in input dimensionality I expected the classifiers to be very successful.\n",
    "\n",
    "\n",
    "##### 2) Mix and Match data and examine classifier performance\n",
    "We tried mixing and matching various permutations and combinations of the concentration columns and the classifiers still were no better than chance.\n",
    "\n",
    "This led me to question either the integrity of the data or if whether basal ganglia blood flow differences are captured in spect data. \n",
    "\n",
    "\n",
    "##### 3) Confirmatory Analysis\n",
    "So we carried out a small experiment. Given the rCBF values for the basal ganglia and a label vector labelling patients as either suffering from ADHD or Bipolar disorder is there any clustering evident? Our ensemble classifers working on this dataset\n",
    "\n",
    "#### Findings\n",
    "1. The classifiers are still no better than chance even after eliminating all other noise\n",
    "2. No clustering is really apparent"
   ]
  },
  {
   "cell_type": "code",
   "execution_count": null,
   "metadata": {
    "collapsed": true
   },
   "outputs": [],
   "source": []
  }
 ],
 "metadata": {
  "kernelspec": {
   "display_name": "Python 2",
   "language": "python",
   "name": "python2"
  },
  "language_info": {
   "codemirror_mode": {
    "name": "ipython",
    "version": 2
   },
   "file_extension": ".py",
   "mimetype": "text/x-python",
   "name": "python",
   "nbconvert_exporter": "python",
   "pygments_lexer": "ipython2",
   "version": "2.7.6"
  }
 },
 "nbformat": 4,
 "nbformat_minor": 0
}
