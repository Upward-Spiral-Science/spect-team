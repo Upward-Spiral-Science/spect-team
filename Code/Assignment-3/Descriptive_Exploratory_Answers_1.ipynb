{
 "cells": [
  {
   "cell_type": "markdown",
   "metadata": {},
   "source": [
    "# Descriptive and Exploratory Answers"
   ]
  },
  {
   "cell_type": "markdown",
   "metadata": {},
   "source": [
    "The below cells describe some Magic numbers and column indices. They offer very rudimentary insight into what columns map on to what data. While we're at it let us also define a handful of helpful functions. \n",
    "**PLEASE FIX THE FILE PATH TO SOMETHING THAT POINTS TO A FILE ON YOUR COMPUTER**"
   ]
  },
  {
   "cell_type": "code",
   "execution_count": 1,
   "metadata": {
    "collapsed": true
   },
   "outputs": [],
   "source": [
    "# I've gone ahead and used \"=\" in place of \"<-\" because the latest R doesn't\n",
    "# care, also makes the code more (Pythonic)readable IMHO\n",
    "\n",
    "\n",
    "# Legend of MAGIC Numbers, File Paths and Arguments\n",
    "CORRELATION_STRATEGY = \"pearson\"\n",
    "PATH_TO_DATA = \"~/Documents/datascience/\"\n",
    "PRIMARY_FILE = \"Data_Adults_1.csv\"\n",
    "INFO_START = 2\n",
    "INFO_END = 14\n",
    "DISORDER_START = 15\n",
    "DISORDER_END = 76\n",
    "SURVEY_START = 77\n",
    "SURVEY_END = 378\n",
    "RCBF_RAW_START = 379\n",
    "RCBF_RAW_END = 636\n",
    "RCBF_SCALED_START = 637\n",
    "RCBF_SCALED_END = 754"
   ]
  },
  {
   "cell_type": "code",
   "execution_count": 2,
   "metadata": {
    "collapsed": false
   },
   "outputs": [],
   "source": [
    "# Computes Correlation Between 2 quantities and returns a correlation vector.\n",
    "# Param: quant_a : The first data frame to correlate\n",
    "# Param: quant_b : The second data frame to correlate with \n",
    "# Return:  A vector of column correlation\n",
    "correlate = function(quant_a, quant_b = NA) {\n",
    "    if (is.na(quant_b)){\n",
    "        cor_val = cor(quant_a, method = CORRELATION_STRATEGY)\n",
    "    } else {\n",
    "        cor_val = cor(quant_a, quant_b, method = CORRELATION_STRATEGY)\n",
    "    }\n",
    "    return (cor_val)\n",
    "}\n",
    "\n",
    "\n",
    "# This function returns a matrix with 2 rows, one with n smallest values and the other with n largest.\n",
    "# Param: vec : The vector from which the values need to be extracted\n",
    "# Param: n : The number of values needed\n",
    "# Param: req_plot : A switch which will optionally plot the data if required\n",
    "# Return: A row bound matrix of n smallest and largest values respectively\n",
    "sort_plot = function(vec, n, req_plot = FALSE) {\n",
    "    smallest_n = sort(vec)[1:n]\n",
    "    largest_n = sort(vec, TRUE)[1:n]\n",
    "    if (req_plot) {\n",
    "        plot(vec)\n",
    "    }\n",
    "    return (rbind(smallest_n, largest_n))\n",
    "}\n",
    "\n",
    "\n",
    "# Function prefixes the patient ID column to a data fram for kicks, actually it\n",
    "# does this so that we can find out who is where.\n",
    "# Param: start_index : The beginning of the columns to bind the patient ID\n",
    "# ahead of\n",
    "# Param: end_index : The end of the columns\n",
    "# Return: a data frame with the required columns prefixed by patient ID \n",
    "prefix_id = function(start_index, end_index) {\n",
    "    return (cbind(cleansed_data[2], cleansed_data[, start_index : end_index]))\n",
    "}\n",
    "\n",
    "\n",
    "# Function prints the min, max and median of each column in a data set.\n",
    "# Param: dataset : The data set to crunch\n",
    "min_max_mean_extract = function(dataset) {\n",
    "    print(\"Minimum Values\")\n",
    "    #print(sapply(dataset[-1], min))\n",
    "    print(\"Maximum Values\")\n",
    "    #print(sapply(dataset[-1], max))\n",
    "    print(\"Mean Values\")\n",
    "    #print(sapply(dataset[-1], mean))\n",
    "    # not printing the values for the sake of brevity\n",
    "}\n",
    "\n",
    "\n",
    "## Function to discern levels of nominal variables.\n",
    "# Param: quantity : The quanttity to potentially factorize\n",
    "discern_levels = function(quantity) {\n",
    "    char_vals = quantity[sapply(quantity, function(quantity) !is.numeric(quantity))]\n",
    "    apply(char_vals, 2, unique)\n",
    "}"
   ]
  },
  {
   "cell_type": "markdown",
   "metadata": {},
   "source": [
    "## Descriptive Answers\n",
    "<hr>"
   ]
  },
  {
   "cell_type": "markdown",
   "metadata": {},
   "source": [
    "### Descriptive Question - 1\n",
    "What is the size of our training data? What is the length of each feature vector and how many features does each vector have?\n",
    "\n",
    "### Descriptive Question - 2\n",
    "What does the presence of Null values indicate? How should they be dealt with?"
   ]
  },
  {
   "cell_type": "code",
   "execution_count": 3,
   "metadata": {
    "collapsed": false
   },
   "outputs": [
    {
     "name": "stdout",
     "output_type": "stream",
     "text": [
      "The dataset as is has 7674 rows and 754 columns\n",
      "The downsampled dataset, omitting rows that have NA values has 2796 rows and 754 columns\n"
     ]
    }
   ],
   "source": [
    "spect_data = data.frame(read.csv(paste0(PATH_TO_DATA, PRIMARY_FILE), as.is = TRUE))\n",
    "cleansed_data = na.omit(spect_data) # deal with Null values\n",
    "cat(\"The dataset as is has\", nrow(spect_data), \"rows and\", ncol(spect_data), \"columns\\n\")\n",
    "cat(\"The downsampled dataset, omitting rows that have NA values has\", nrow(cleansed_data), \n",
    "    \"rows and\", ncol(cleansed_data), \"columns\\n\")"
   ]
  },
  {
   "cell_type": "markdown",
   "metadata": {},
   "source": [
    "**Answer 1**: As evidenced by the code above even when we elect to throw out any row that has a NA value we still have a sizeable datset. This doesn't mean however that we will not use the data thrown out. We will simply downsample till we have a complete yet sizeable dataset and draw corellation conclusions etc. from it. Once we have these theories we will try to apply them to less downsampled datasets to see if we can fill in missing data and verify if our theories still hold.\n",
    "\n",
    "**Answer 2**: As stated in the answer above, NA values were thrown out. We still had a considerably large dataset after doing so. "
   ]
  },
  {
   "cell_type": "markdown",
   "metadata": {},
   "source": [
    "### Descriptive Question - 3\n",
    "What do the features in the vector indicate? What are they for? How are the feature values arrived at?"
   ]
  },
  {
   "cell_type": "code",
   "execution_count": 4,
   "metadata": {
    "collapsed": false
   },
   "outputs": [],
   "source": [
    "cleansed_data_patient_info = cleansed_data[,INFO_START : INFO_END]\n",
    "cleansed_data_disorder_info = prefix_id(DISORDER_START, DISORDER_END)\n",
    "cleansed_data_survey_info = prefix_id(SURVEY_START, SURVEY_END)\n",
    "cleansed_data_RCBF_raw_info = prefix_id(RCBF_RAW_START, RCBF_RAW_END)\n",
    "cleansed_data_RCBF_scaled_info = prefix_id(RCBF_SCALED_START, RCBF_SCALED_END)"
   ]
  },
  {
   "cell_type": "markdown",
   "metadata": {},
   "source": [
    "**Answer 3**: By manually examining the data, we realized that certain portions of the dataset contain specific data that can be\n",
    "examined mutually exclusively from the other portions of the dataset. We made note of the column indices that allow the data to be split into these mutually exclusive portions and went ahead and split the data set according to those indices. This also allows for easier correlation experiments.\n",
    "\n",
    "- The columns in *patient_info* represent information about the patient like gender, age, location etc\n",
    "- The columns in *disorder_info* represent a series of boolean values that indicate whether the patient ails\n",
    "  from a particular disorder\n",
    "- The columns in *survey_info* represent the patient's responses to the BSC, GSC and LDS survey questions(assuming they are surveys)\n",
    "- The columns in *RCBF_raw* represent the raw cerebral blood flow values\n",
    "- The columns in *RCBF_scaled* represent the scaled cerebral blood flow values"
   ]
  },
  {
   "cell_type": "markdown",
   "metadata": {},
   "source": [
    "## Exploratory Answers\n",
    "<hr/>"
   ]
  },
  {
   "cell_type": "markdown",
   "metadata": {},
   "source": [
    "### Exploratory Question - 1\n",
    "What is the mean, maximum and minimum for the various numerical features? Also how do these features scale?"
   ]
  },
  {
   "cell_type": "code",
   "execution_count": 5,
   "metadata": {
    "collapsed": false
   },
   "outputs": [
    {
     "name": "stdout",
     "output_type": "stream",
     "text": [
      "[1] \"Minimum Values\"\n",
      "[1] \"Maximum Values\"\n",
      "[1] \"Mean Values\"\n",
      "[1] \"Minimum Values\"\n",
      "[1] \"Maximum Values\"\n",
      "[1] \"Mean Values\"\n",
      "[1] \"Minimum Values\"\n",
      "[1] \"Maximum Values\"\n",
      "[1] \"Mean Values\"\n",
      "[1] \"Minimum Values\"\n",
      "[1] \"Maximum Values\"\n",
      "[1] \"Mean Values\"\n",
      "[1] \"Minimum Values\"\n",
      "[1] \"Maximum Values\"\n",
      "[1] \"Mean Values\"\n"
     ]
    }
   ],
   "source": [
    "min_max_mean_extract(cleansed_data_patient_info)\n",
    "min_max_mean_extract(cleansed_data_disorder_info)\n",
    "min_max_mean_extract(cleansed_data_survey_info)\n",
    "min_max_mean_extract(cleansed_data_RCBF_raw_info)\n",
    "min_max_mean_extract(cleansed_data_RCBF_scaled_info)"
   ]
  },
  {
   "cell_type": "markdown",
   "metadata": {
    "collapsed": true
   },
   "source": [
    "**Answer 1**: Though max and min values don't really make sense for data like boolean disorder flags we run them anyway because we might've missed something."
   ]
  },
  {
   "cell_type": "markdown",
   "metadata": {},
   "source": [
    "### Exploratory Question - 2\n",
    "Is there a metric that can be used to separate healthy people from unhealthy ones?"
   ]
  },
  {
   "cell_type": "code",
   "execution_count": 6,
   "metadata": {
    "collapsed": false
   },
   "outputs": [
    {
     "name": "stdout",
     "output_type": "stream",
     "text": [
      "There are  50 healthy people"
     ]
    }
   ],
   "source": [
    "unhealthy_vector = apply(cleansed_data_disorder_info[-1], 1, function(row) any(row[] == 1 ))\n",
    "cat(\"There are \", sum(unhealthy_vector == FALSE), \"healthy people\")"
   ]
  },
  {
   "cell_type": "markdown",
   "metadata": {},
   "source": [
    "**Answer 2**: There are 50 healthy people"
   ]
  },
  {
   "cell_type": "markdown",
   "metadata": {
    "collapsed": true
   },
   "source": [
    "### Exploratory Question - 3\n",
    "What is the range of levels nominal values can take?"
   ]
  },
  {
   "cell_type": "code",
   "execution_count": 7,
   "metadata": {
    "collapsed": false
   },
   "outputs": [
    {
     "data": {
      "text/html": [
       "<dl>\n",
       "\t<dt>$STUDY_NAME</dt>\n",
       "\t\t<dd>'BigLove'</dd>\n",
       "\t<dt>$group_name</dt>\n",
       "\t\t<dd><ol class=list-inline>\n",
       "\t<li>'Adults        '</li>\n",
       "\t<li>'Healthy Brains'</li>\n",
       "</ol>\n",
       "</dd>\n",
       "\t<dt>$Age_Group</dt>\n",
       "\t\t<dd><ol class=list-inline>\n",
       "\t<li>'Adult    '</li>\n",
       "\t<li>'Pediatric'</li>\n",
       "\t<li>'Geriatric'</li>\n",
       "</ol>\n",
       "</dd>\n",
       "\t<dt>$Gendername</dt>\n",
       "\t\t<dd><ol class=list-inline>\n",
       "\t<li>'Female '</li>\n",
       "\t<li>'Male   '</li>\n",
       "\t<li>'Unknown'</li>\n",
       "</ol>\n",
       "</dd>\n",
       "\t<dt>$RaceName</dt>\n",
       "\t\t<dd><ol class=list-inline>\n",
       "\t<li>'Caucasian                 '</li>\n",
       "\t<li>'Other                     '</li>\n",
       "\t<li>'Unknown                   '</li>\n",
       "\t<li>'Hispanic                  '</li>\n",
       "\t<li>'Arab/Middle Eastern       '</li>\n",
       "\t<li>'Asian                     '</li>\n",
       "\t<li>'Indian                    '</li>\n",
       "\t<li>'Caucasian/Hispanic        '</li>\n",
       "\t<li>'African American          '</li>\n",
       "\t<li>'Caucasian/African American'</li>\n",
       "\t<li>'Asian/Caucasian           '</li>\n",
       "\t<li>'Hispanic/African American '</li>\n",
       "\t<li>'Caucasian/Native American '</li>\n",
       "\t<li>'Native American/Eskimo    '</li>\n",
       "</ol>\n",
       "</dd>\n",
       "\t<dt>$locationname</dt>\n",
       "\t\t<dd><ol class=list-inline>\n",
       "\t<li>'Newport Beach'</li>\n",
       "\t<li>'Reston       '</li>\n",
       "\t<li>'Tacoma       '</li>\n",
       "\t<li>'Brisbane     '</li>\n",
       "\t<li>'Bellevue     '</li>\n",
       "\t<li>'Fairfield    '</li>\n",
       "\t<li>'Atlanta      '</li>\n",
       "\t<li>'New York     '</li>\n",
       "\t<li>'Not Specified'</li>\n",
       "</ol>\n",
       "</dd>\n",
       "</dl>\n"
      ],
      "text/latex": [
       "\\begin{description}\n",
       "\\item[\\$STUDY_NAME] 'BigLove'\n",
       "\\item[\\$group_name] \\begin{enumerate*}\n",
       "\\item 'Adults        '\n",
       "\\item 'Healthy Brains'\n",
       "\\end{enumerate*}\n",
       "\n",
       "\\item[\\$Age_Group] \\begin{enumerate*}\n",
       "\\item 'Adult    '\n",
       "\\item 'Pediatric'\n",
       "\\item 'Geriatric'\n",
       "\\end{enumerate*}\n",
       "\n",
       "\\item[\\$Gendername] \\begin{enumerate*}\n",
       "\\item 'Female '\n",
       "\\item 'Male   '\n",
       "\\item 'Unknown'\n",
       "\\end{enumerate*}\n",
       "\n",
       "\\item[\\$RaceName] \\begin{enumerate*}\n",
       "\\item 'Caucasian                 '\n",
       "\\item 'Other                     '\n",
       "\\item 'Unknown                   '\n",
       "\\item 'Hispanic                  '\n",
       "\\item 'Arab/Middle Eastern       '\n",
       "\\item 'Asian                     '\n",
       "\\item 'Indian                    '\n",
       "\\item 'Caucasian/Hispanic        '\n",
       "\\item 'African American          '\n",
       "\\item 'Caucasian/African American'\n",
       "\\item 'Asian/Caucasian           '\n",
       "\\item 'Hispanic/African American '\n",
       "\\item 'Caucasian/Native American '\n",
       "\\item 'Native American/Eskimo    '\n",
       "\\end{enumerate*}\n",
       "\n",
       "\\item[\\$locationname] \\begin{enumerate*}\n",
       "\\item 'Newport Beach'\n",
       "\\item 'Reston       '\n",
       "\\item 'Tacoma       '\n",
       "\\item 'Brisbane     '\n",
       "\\item 'Bellevue     '\n",
       "\\item 'Fairfield    '\n",
       "\\item 'Atlanta      '\n",
       "\\item 'New York     '\n",
       "\\item 'Not Specified'\n",
       "\\end{enumerate*}\n",
       "\n",
       "\\end{description}\n"
      ],
      "text/markdown": [
       "$STUDY_NAME\n",
       ":   'BigLove'\n",
       "$group_name\n",
       ":   1. 'Adults        '\n",
       "2. 'Healthy Brains'\n",
       "\n",
       "\n",
       "\n",
       "$Age_Group\n",
       ":   1. 'Adult    '\n",
       "2. 'Pediatric'\n",
       "3. 'Geriatric'\n",
       "\n",
       "\n",
       "\n",
       "$Gendername\n",
       ":   1. 'Female '\n",
       "2. 'Male   '\n",
       "3. 'Unknown'\n",
       "\n",
       "\n",
       "\n",
       "$RaceName\n",
       ":   1. 'Caucasian                 '\n",
       "2. 'Other                     '\n",
       "3. 'Unknown                   '\n",
       "4. 'Hispanic                  '\n",
       "5. 'Arab/Middle Eastern       '\n",
       "6. 'Asian                     '\n",
       "7. 'Indian                    '\n",
       "8. 'Caucasian/Hispanic        '\n",
       "9. 'African American          '\n",
       "10. 'Caucasian/African American'\n",
       "11. 'Asian/Caucasian           '\n",
       "12. 'Hispanic/African American '\n",
       "13. 'Caucasian/Native American '\n",
       "14. 'Native American/Eskimo    '\n",
       "\n",
       "\n",
       "\n",
       "$locationname\n",
       ":   1. 'Newport Beach'\n",
       "2. 'Reston       '\n",
       "3. 'Tacoma       '\n",
       "4. 'Brisbane     '\n",
       "5. 'Bellevue     '\n",
       "6. 'Fairfield    '\n",
       "7. 'Atlanta      '\n",
       "8. 'New York     '\n",
       "9. 'Not Specified'\n",
       "\n",
       "\n",
       "\n",
       "\n",
       "\n"
      ],
      "text/plain": [
       "$STUDY_NAME\n",
       "[1] \"BigLove\"\n",
       "\n",
       "$group_name\n",
       "[1] \"Adults        \" \"Healthy Brains\"\n",
       "\n",
       "$Age_Group\n",
       "[1] \"Adult    \" \"Pediatric\" \"Geriatric\"\n",
       "\n",
       "$Gendername\n",
       "[1] \"Female \" \"Male   \" \"Unknown\"\n",
       "\n",
       "$RaceName\n",
       " [1] \"Caucasian                 \" \"Other                     \"\n",
       " [3] \"Unknown                   \" \"Hispanic                  \"\n",
       " [5] \"Arab/Middle Eastern       \" \"Asian                     \"\n",
       " [7] \"Indian                    \" \"Caucasian/Hispanic        \"\n",
       " [9] \"African American          \" \"Caucasian/African American\"\n",
       "[11] \"Asian/Caucasian           \" \"Hispanic/African American \"\n",
       "[13] \"Caucasian/Native American \" \"Native American/Eskimo    \"\n",
       "\n",
       "$locationname\n",
       "[1] \"Newport Beach\" \"Reston       \" \"Tacoma       \" \"Brisbane     \"\n",
       "[5] \"Bellevue     \" \"Fairfield    \" \"Atlanta      \" \"New York     \"\n",
       "[9] \"Not Specified\"\n"
      ]
     },
     "execution_count": 7,
     "metadata": {},
     "output_type": "execute_result"
    },
    {
     "data": {
      "text/html": [
       "<table>\n",
       "<thead><tr><th scope=col>ADHD_Type</th></tr></thead>\n",
       "<tbody>\n",
       "\t<tr><td>Mostly Inattentive</td></tr>\n",
       "\t<tr><td>Asymptomatic      </td></tr>\n",
       "\t<tr><td>Inattentive       </td></tr>\n",
       "\t<tr><td>Combined Type     </td></tr>\n",
       "\t<tr><td>Mostly Impulsive  </td></tr>\n",
       "\t<tr><td>Hyperactive       </td></tr>\n",
       "</tbody>\n",
       "</table>\n"
      ],
      "text/latex": [
       "\\begin{tabular}{l}\n",
       " ADHD_Type\\\\\n",
       "\\hline\n",
       "\t Mostly Inattentive\\\\\n",
       "\t Asymptomatic      \\\\\n",
       "\t Inattentive       \\\\\n",
       "\t Combined Type     \\\\\n",
       "\t Mostly Impulsive  \\\\\n",
       "\t Hyperactive       \\\\\n",
       "\\end{tabular}\n"
      ],
      "text/markdown": [
       "1. 'Mostly Inattentive'\n",
       "2. 'Asymptomatic      '\n",
       "3. 'Inattentive       '\n",
       "4. 'Combined Type     '\n",
       "5. 'Mostly Impulsive  '\n",
       "6. 'Hyperactive       '\n",
       "\n",
       "\n"
      ],
      "text/plain": [
       "     ADHD_Type           \n",
       "[1,] \"Mostly Inattentive\"\n",
       "[2,] \"Asymptomatic      \"\n",
       "[3,] \"Inattentive       \"\n",
       "[4,] \"Combined Type     \"\n",
       "[5,] \"Mostly Impulsive  \"\n",
       "[6,] \"Hyperactive       \""
      ]
     },
     "execution_count": 7,
     "metadata": {},
     "output_type": "execute_result"
    },
    {
     "data": {
      "text/html": [
       "<table>\n",
       "<thead><tr><th scope=col>BSC_Respondent</th><th scope=col>GSC_Respondent</th><th scope=col>LDS_Respondent</th></tr></thead>\n",
       "<tbody>\n",
       "\t<tr><td>Self  </td><td>Self  </td><td>Self  </td></tr>\n",
       "\t<tr><td>Other </td><td>Other </td><td>Other </td></tr>\n",
       "\t<tr><td>Spouse</td><td>Spouse</td><td>Spouse</td></tr>\n",
       "</tbody>\n",
       "</table>\n"
      ],
      "text/latex": [
       "\\begin{tabular}{lll}\n",
       " BSC_Respondent & GSC_Respondent & LDS_Respondent\\\\\n",
       "\\hline\n",
       "\t Self   & Self   & Self  \\\\\n",
       "\t Other  & Other  & Other \\\\\n",
       "\t Spouse & Spouse & Spouse\\\\\n",
       "\\end{tabular}\n"
      ],
      "text/markdown": [
       "1. 'Self  '\n",
       "2. 'Other '\n",
       "3. 'Spouse'\n",
       "4. 'Self  '\n",
       "5. 'Other '\n",
       "6. 'Spouse'\n",
       "7. 'Self  '\n",
       "8. 'Other '\n",
       "9. 'Spouse'\n",
       "\n",
       "\n"
      ],
      "text/plain": [
       "     BSC_Respondent GSC_Respondent LDS_Respondent\n",
       "[1,] \"Self  \"       \"Self  \"       \"Self  \"      \n",
       "[2,] \"Other \"       \"Other \"       \"Other \"      \n",
       "[3,] \"Spouse\"       \"Spouse\"       \"Spouse\"      "
      ]
     },
     "execution_count": 7,
     "metadata": {},
     "output_type": "execute_result"
    },
    {
     "data": {
      "text/html": [
       "<ol class=list-inline>\n",
       "</ol>\n"
      ],
      "text/latex": [
       "\\begin{enumerate*}\n",
       "\\end{enumerate*}\n"
      ],
      "text/markdown": [
       "\n",
       "\n"
      ],
      "text/plain": [
       "logical(0)"
      ]
     },
     "execution_count": 7,
     "metadata": {},
     "output_type": "execute_result"
    },
    {
     "data": {
      "text/html": [
       "<ol class=list-inline>\n",
       "</ol>\n"
      ],
      "text/latex": [
       "\\begin{enumerate*}\n",
       "\\end{enumerate*}\n"
      ],
      "text/markdown": [
       "\n",
       "\n"
      ],
      "text/plain": [
       "logical(0)"
      ]
     },
     "execution_count": 7,
     "metadata": {},
     "output_type": "execute_result"
    }
   ],
   "source": [
    "discern_levels(cleansed_data_patient_info)\n",
    "discern_levels(cleansed_data_disorder_info)\n",
    "discern_levels(cleansed_data_survey_info)\n",
    "discern_levels(cleansed_data_RCBF_raw_info)\n",
    "discern_levels(cleansed_data_RCBF_scaled_info)"
   ]
  }
 ],
 "metadata": {
  "kernelspec": {
   "display_name": "R",
   "language": "R",
   "name": "ir"
  },
  "language_info": {
   "codemirror_mode": "r",
   "file_extension": ".r",
   "mimetype": "text/x-r-source",
   "name": "R",
   "pygments_lexer": "r",
   "version": "3.2.3"
  }
 },
 "nbformat": 4,
 "nbformat_minor": 0
}
