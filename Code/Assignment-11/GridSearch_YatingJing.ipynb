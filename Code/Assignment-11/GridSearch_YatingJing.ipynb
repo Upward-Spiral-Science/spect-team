{
 "cells": [
  {
   "cell_type": "markdown",
   "metadata": {},
   "source": [
    "## Grid Search for Hyperparameters - by Yating Jing\n",
    "\n",
    "From previous experiments, LLE pipelined with QDA in a gender-distinguished manner gave the best prediction result on the task of separating ADHD and Bipolar disorders. \n",
    "\n",
    "This notebook focuses on selecting the best hyperparameters for LLE, SVM and Random Forest using Grid Search method."
   ]
  },
  {
   "cell_type": "code",
   "execution_count": 1,
   "metadata": {
    "collapsed": false
   },
   "outputs": [
    {
     "name": "stdout",
     "output_type": "stream",
     "text": [
      "Number of ADHD patients (without Bipolar) is 1484\n",
      "Number of Bipolar patients (without ADHD) is 471\n",
      "Chance before gender separation is 0.759079283887\n"
     ]
    }
   ],
   "source": [
    "import pandas as pd\n",
    "import numpy as np\n",
    "\n",
    "df_adhd = pd.read_csv('ADHD_Gender_rCBF.csv')\n",
    "df_bipolar = pd.read_csv('Bipolar_Gender_rCBF.csv')\n",
    "\n",
    "n1, n2 = df_adhd.shape[0], df_bipolar.shape[0]\n",
    "\n",
    "print 'Number of ADHD patients (without Bipolar) is', n1\n",
    "print 'Number of Bipolar patients (without ADHD) is', n2\n",
    "print 'Chance before gender separation is', float(n1) / (n1 + n2)"
   ]
  },
  {
   "cell_type": "code",
   "execution_count": 2,
   "metadata": {
    "collapsed": false
   },
   "outputs": [
    {
     "name": "stdout",
     "output_type": "stream",
     "text": [
      "Number of Gender 1 ADHD patients (without Bipolar) is 1017\n",
      "Number of Gender 2 ADHD patients (without Bipolar) is 467\n",
      "Number of Gender 1 Bipolar patients (without ADHD) is 242\n",
      "Number of Gender 2 Bipolar patients (without ADHD) is 228\n"
     ]
    }
   ],
   "source": [
    "# Separate the genders\n",
    "adhd1_id, adhd2_id = list(), list()\n",
    "bipolar1_id, bipolar2_id = list(), list()\n",
    "\n",
    "for i, g in df_adhd[['Patient_ID', 'Gender_id']].values:\n",
    "    if g == 1:\n",
    "        adhd1_id.append(i)\n",
    "    elif g == 2:\n",
    "        adhd2_id.append(i)\n",
    "        \n",
    "for i, g in df_bipolar[['Patient_ID', 'Gender_id']].values:\n",
    "    if g == 1:\n",
    "        bipolar1_id.append(i)\n",
    "    elif g == 2:\n",
    "        bipolar2_id.append(i)\n",
    "        \n",
    "print 'Number of Gender 1 ADHD patients (without Bipolar) is', len(adhd1_id)\n",
    "print 'Number of Gender 2 ADHD patients (without Bipolar) is', len(adhd2_id)\n",
    "print 'Number of Gender 1 Bipolar patients (without ADHD) is', len(bipolar1_id)\n",
    "print 'Number of Gender 2 Bipolar patients (without ADHD) is', len(bipolar2_id)"
   ]
  },
  {
   "cell_type": "code",
   "execution_count": 3,
   "metadata": {
    "collapsed": false
   },
   "outputs": [
    {
     "name": "stdout",
     "output_type": "stream",
     "text": [
      "Shape check:\n",
      "ADHD: (1017, 256) (467, 256)\n",
      "Bipolar: (242, 256) (228, 256)\n",
      "\n",
      "Double shape check:\n",
      "Gender 1: (1259, 256) 1259\n",
      "Gender 2: (695, 256) 695\n",
      "Chance for gender 1 is 0.80778395552\n",
      "Chance for gender 2 is 0.671942446043\n"
     ]
    }
   ],
   "source": [
    "# Separate ADHD data gender-wise\n",
    "df_adhd1 = df_adhd.loc[df_adhd['Patient_ID'].isin(adhd1_id)].drop(['Patient_ID', 'Gender_id'], axis=1)\n",
    "df_adhd2 = df_adhd.loc[df_adhd['Patient_ID'].isin(adhd2_id)].drop(['Patient_ID', 'Gender_id'], axis=1)\n",
    "# Separate Bipolar data gender-wise\n",
    "df_bipolar1 = df_bipolar.loc[df_bipolar['Patient_ID'].isin(bipolar1_id)].drop(['Patient_ID', 'Gender_id'], axis=1)\n",
    "df_bipolar2 = df_bipolar.loc[df_bipolar['Patient_ID'].isin(bipolar2_id)].drop(['Patient_ID', 'Gender_id'], axis=1)\n",
    "\n",
    "# Create disorder labels for classification\n",
    "# ADHD: 0, Bipolar: 1\n",
    "n1_adhd, n1_bipolar = len(adhd1_id), len(bipolar1_id)\n",
    "n2_adhd, n2_bipolar = len(adhd2_id), len(bipolar2_id)\n",
    "# Labels for gender 1\n",
    "y1 = [0] * n1_adhd + [1] * n1_bipolar  \n",
    "# Labels for gender 2\n",
    "y2 = [0] * n2_adhd + [1] * n2_bipolar \n",
    "\n",
    "print 'Shape check:'\n",
    "print 'ADHD:', df_adhd1.shape, df_adhd2.shape\n",
    "print 'Bipolar:', df_bipolar1.shape, df_bipolar2.shape\n",
    "\n",
    "# Gender1 data\n",
    "df1_all = pd.concat([df_adhd1, df_bipolar1], axis=0)\n",
    "# Gender2 data\n",
    "df2_all = pd.concat([df_adhd2, df_bipolar2], axis=0)\n",
    "\n",
    "print '\\nDouble shape check:'\n",
    "print 'Gender 1:', df1_all.shape, len(y1)\n",
    "print 'Gender 2:', df2_all.shape, len(y2)\n",
    "\n",
    "# Compute chances \n",
    "chance1 = float(n1_adhd)/(n1_adhd + n1_bipolar)\n",
    "chance2 = float(n2_adhd)/(n2_adhd + n2_bipolar)\n",
    "print 'Chance for gender 1 is', chance1\n",
    "print 'Chance for gender 2 is', chance2"
   ]
  },
  {
   "cell_type": "markdown",
   "metadata": {},
   "source": [
    "### Dimensionality Reduction - Classification Pipeline"
   ]
  },
  {
   "cell_type": "code",
   "execution_count": 4,
   "metadata": {
    "collapsed": false
   },
   "outputs": [],
   "source": [
    "%matplotlib inline\n",
    "import matplotlib.pyplot as plt\n",
    "\n",
    "from sklearn.pipeline import Pipeline\n",
    "from sklearn import preprocessing\n",
    "from sklearn.manifold import LocallyLinearEmbedding\n",
    "from sklearn.grid_search import GridSearchCV\n",
    "from sklearn.qda import QDA\n",
    "from sklearn import svm\n",
    "from sklearn.ensemble import RandomForestClassifier\n",
    "from sklearn.cross_validation import KFold\n",
    "\n",
    "def lle_clf_pipe(X, y, gender, n_feats, k=10):\n",
    "    '''\n",
    "    Train and test an LLE - Classifier Pipeline\n",
    "    Args:\n",
    "        X: training data (2D numpy matrix)\n",
    "        y: labels (1D vector)\n",
    "        gender: current gender genre (for plotting)\n",
    "        n_feats: number of features used in classification\n",
    "        k: number of folds (default=10)\n",
    "    '''\n",
    "    \n",
    "    lle = LocallyLinearEmbedding(n_components=n_feats)\n",
    "    qda = QDA()\n",
    "    svc = svm.SVC()\n",
    "    rf = RandomForestClassifier() \n",
    "    \n",
    "    pipe_qda = Pipeline(steps=[('lle', lle), ('qda', qda)])\n",
    "    pipe_svc = Pipeline(steps=[('lle', lle), ('svc', svc)])\n",
    "    pipe_rf = Pipeline(steps=[('lle', lle), ('rf', rf)])\n",
    "    \n",
    "    X_all, y_all = np.array(X), np.array(y)\n",
    "    kf = KFold(len(X), n_folds=k)\n",
    "    scores_qda, scores_svm, scores_rf = [], [], []\n",
    "\n",
    "    for i, (train_index, test_index) in enumerate(kf):\n",
    "        print 'Fold ' + str(i) + ':',\n",
    "        \n",
    "        # Train test split\n",
    "        X_train, X_test = X_all[train_index], X_all[test_index]\n",
    "        y_train, y_test = y_all[train_index], y_all[test_index]\n",
    "        \n",
    "        \n",
    "        ############################ QDA ############################\n",
    "        \n",
    "        grid_qda = GridSearchCV(pipe_qda,\n",
    "                                dict(lle__n_neighbors=[25, 30],\n",
    "                                     lle__method=['ltsa']))\n",
    "        grid_qda.fit(X_train, y_train)\n",
    "        best_est_qda = grid_qda.best_estimator_\n",
    "        \n",
    "        score_qda = best_est_qda.score(X_test, y_test)\n",
    "        scores_qda.append(score_qda)\n",
    "        \n",
    "        print 'QDA accuracy is', score_qda\n",
    "        \n",
    "        \n",
    "        ############################ SVM ############################\n",
    "        \n",
    "        grid_svm = GridSearchCV(pipe_svc,\n",
    "                                dict(lle__n_neighbors=[25, 30],\n",
    "                                     lle__method=['modified', 'ltsa'],\n",
    "                                     svc__kernel=('linear', 'rbf'),\n",
    "                                     svc__C=[1, 5, 10]))\n",
    "        \n",
    "        grid_svm.fit(X_train, y_train)\n",
    "        best_est_svm = grid_svm.best_estimator_\n",
    "        \n",
    "        score_svm = best_est_svm.score(X_test, y_test)\n",
    "        scores_svm.append(score_svm)\n",
    "        \n",
    "        print '        SVM accuracy is', score_svm\n",
    "        \n",
    "        \n",
    "        ############################ Random Forest ############################\n",
    "        \n",
    "        # grid_search_estimator = GridSearchCV(pipe,\n",
    "        #                          dict(lle__n_neighbors=[20, 25, 30],\n",
    "        #                               lle__eigen_solver=['auto', 'arpack', 'dense'],\n",
    "        #                               lle__method=['standard', 'hessian', 'modified', 'ltsa'],\n",
    "        #                               lle__neighbors_algorithm=['kd_tree', 'ball_tree'],\n",
    "        #                               rf__criterion=('gini', 'entropy'),\n",
    "        #                               rf__max_features=['sqrt', 'log2', None],\n",
    "        #                               rf__min_samples_leaf=[1, 3, 5],\n",
    "        #                               rf__bootstrap=[True, False]))\n",
    "        \n",
    "        grid_rf = GridSearchCV(pipe_rf,\n",
    "                               dict(lle__n_neighbors=[25, 30],\n",
    "                                    lle__method=['modified', 'ltsa'],\n",
    "                                    rf__criterion=('gini', 'entropy'),\n",
    "                                    rf__max_features=['sqrt', 'log2', None],\n",
    "                                    rf__bootstrap=[True, False]))\n",
    "\n",
    "        grid_rf.fit(X_train, y_train)\n",
    "        best_est_rf = grid_rf.best_estimator_\n",
    "        \n",
    "        score_rf = best_est_rf.score(X_test, y_test)\n",
    "        scores_rf.append(score_rf)\n",
    "        \n",
    "        print '        Random Forest accuracy is', score_rf\n",
    "        \n",
    "        \n",
    "    scores_qda = np.array(scores_qda)\n",
    "    scores_svm = np.array(scores_svm)\n",
    "    scores_rf = np.array(scores_rf)\n",
    "    scores = [scores_qda, scores_svm, scores_rf]\n",
    "    \n",
    "    clf_names = ['QDA', 'SVM', 'Random Forest']\n",
    "    accs = []\n",
    "    \n",
    "    print '\\n'\n",
    "    for clf_name, scores in zip(clf_names, scores):\n",
    "        acc, acc_std = scores.mean(), scores.std()\n",
    "        accs.append(acc)\n",
    "        print clf_name + ' accuracy is %0.4f (+/- %0.3f)' % (acc, acc_std)\n",
    "        \n",
    "    # Visualize classifier performance\n",
    "    x = range(len(accs))\n",
    "    width = 0.1/0.3\n",
    "    plt.bar(x, accs, width)\n",
    "    \n",
    "    # Compute chance\n",
    "    n0, n1 = y.count(0), y.count(1)\n",
    "    chance = max(n0, n1) / float(n0 + n1)\n",
    "    print 'Chance is', chance\n",
    "    \n",
    "    fig_title = gender + ' Classifier Performance on ' + 'LLE features'\n",
    "    plt.title(fig_title, y=1.08)\n",
    "    plt.xticks(x, clf_names, rotation=50)\n",
    "    plt.xlabel('Classifier')\n",
    "    plt.gca().xaxis.set_label_coords(1.1, -0.025)\n",
    "    plt.ylabel('Accuracy')\n",
    "    plt.axhline(chance, color='red', linestyle='--', label='chance') # plot chance\n",
    "    plt.legend(loc='center left', bbox_to_anchor=(1, 0.85))"
   ]
  },
  {
   "cell_type": "markdown",
   "metadata": {},
   "source": [
    "## Gender 1 ADHD v.s. Bipolar Analysis"
   ]
  },
  {
   "cell_type": "code",
   "execution_count": 5,
   "metadata": {
    "collapsed": false,
    "scrolled": true
   },
   "outputs": [
    {
     "name": "stdout",
     "output_type": "stream",
     "text": [
      "Gender 1 Analysis using LLE features:\n",
      "\n",
      "Fold 0: QDA accuracy is 0.00793650793651\n",
      "        SVM accuracy is 1.0\n",
      "        Random Forest accuracy is 0.97619047619\n",
      "Fold 1: QDA accuracy is 0.992063492063\n",
      "        SVM accuracy is 1.0\n",
      "        Random Forest accuracy is 0.97619047619\n",
      "Fold 2: QDA accuracy is 1.0\n",
      "        SVM accuracy is 1.0\n",
      "        Random Forest accuracy is 0.984126984127\n",
      "Fold 3: QDA accuracy is 1.0\n",
      "        SVM accuracy is 1.0\n",
      "        Random Forest accuracy is 0.97619047619\n",
      "Fold 4: QDA accuracy is 0.992063492063\n",
      "        SVM accuracy is 1.0\n",
      "        Random Forest accuracy is 0.968253968254\n",
      "Fold 5: QDA accuracy is 1.0\n",
      "        SVM accuracy is 1.0\n",
      "        Random Forest accuracy is 0.968253968254\n",
      "Fold 6: QDA accuracy is 0.992063492063\n",
      "        SVM accuracy is 1.0\n",
      "        Random Forest accuracy is 0.968253968254\n",
      "Fold 7: QDA accuracy is 1.0\n",
      "        SVM accuracy is 1.0\n",
      "        Random Forest accuracy is 0.984126984127\n",
      "Fold 8: QDA accuracy is 0.920634920635\n",
      "        SVM accuracy is 0.0714285714286\n",
      "        Random Forest accuracy is 0.0714285714286\n",
      "Fold 9: QDA accuracy is 0.968\n",
      "        SVM accuracy is 0.0\n",
      "        Random Forest accuracy is 0.0\n",
      "\n",
      "\n",
      "QDA accuracy is 0.8873 (+/- 0.294)\n",
      "SVM accuracy is 0.8071 (+/- 0.386)\n",
      "Random Forest accuracy is 0.7873 (+/- 0.376)\n",
      "Chance is 0.80778395552\n"
     ]
    },
    {
     "name": "stderr",
     "output_type": "stream",
     "text": [
      "/Library/Python/2.7/site-packages/sklearn/qda.py:124: UserWarning: Variables are collinear\n",
      "  warnings.warn(\"Variables are collinear\")\n"
     ]
    },
    {
     "data": {
      "image/png": "[encoded data removed]",
      "text/plain": [
       "<matplotlib.figure.Figure at 0x10fac4590>"
      ]
     },
     "metadata": {},
     "output_type": "display_data"
    }
   ],
   "source": [
    "print 'Gender 1 Analysis using LLE features:\\n'\n",
    "X1 = df1_all.values\n",
    "lle_clf_pipe(X1, y1, 'Gender 1', 15, k=10)"
   ]
  },
  {
   "cell_type": "markdown",
   "metadata": {},
   "source": [
    "## Gender 2 ADHD v.s. Bipolar Analysis"
   ]
  },
  {
   "cell_type": "code",
   "execution_count": 6,
   "metadata": {
    "collapsed": false
   },
   "outputs": [
    {
     "name": "stdout",
     "output_type": "stream",
     "text": [
      "Gender 2 Analysis using LLE features:\n",
      "\n",
      "Fold 0: QDA accuracy is 1.0\n",
      "        SVM accuracy is 1.0\n",
      "        Random Forest accuracy is 0.828571428571\n",
      "Fold 1: QDA accuracy is 1.0\n",
      "        SVM accuracy is 1.0\n",
      "        Random Forest accuracy is 0.785714285714\n",
      "Fold 2: QDA accuracy is 1.0\n",
      "        SVM accuracy is 1.0\n",
      "        Random Forest accuracy is 0.8\n",
      "Fold 3: QDA accuracy is 1.0\n",
      "        SVM accuracy is 1.0\n",
      "        Random Forest accuracy is 0.742857142857\n",
      "Fold 4: QDA accuracy is 1.0\n",
      "        SVM accuracy is 1.0\n",
      "        Random Forest accuracy is 0.742857142857\n",
      "Fold 5: QDA accuracy is 1.0\n",
      "        SVM accuracy is 1.0\n",
      "        Random Forest accuracy is 0.811594202899\n",
      "Fold 6: QDA accuracy is 0.695652173913\n",
      "        SVM accuracy is 0.695652173913\n",
      "        Random Forest accuracy is 0.652173913043\n",
      "Fold 7: QDA accuracy is 0.0289855072464\n",
      "        SVM accuracy is 0.0\n",
      "        Random Forest accuracy is 0.0579710144928\n",
      "Fold 8: QDA accuracy is 0.0144927536232\n",
      "        SVM accuracy is 0.0\n",
      "        Random Forest accuracy is 0.101449275362\n",
      "Fold 9: QDA accuracy is 0.797101449275\n",
      "        SVM accuracy is 0.0\n",
      "        Random Forest accuracy is 0.0289855072464\n",
      "\n",
      "\n",
      "QDA accuracy is 0.7536 (+/- 0.380)\n",
      "SVM accuracy is 0.6696 (+/- 0.447)\n",
      "Random Forest accuracy is 0.5552 (+/- 0.326)\n",
      "Chance is 0.671942446043\n"
     ]
    },
    {
     "data": {
      "image/png": "[encoded data removed]",
      "text/plain": [
       "<matplotlib.figure.Figure at 0x11338bc50>"
      ]
     },
     "metadata": {},
     "output_type": "display_data"
    }
   ],
   "source": [
    "print 'Gender 2 Analysis using LLE features:\\n'\n",
    "X2 = df2_all.values\n",
    "lle_clf_pipe(X2, y2, 'Gender 2', 15, k=10)"
   ]
  },
  {
   "cell_type": "markdown",
   "metadata": {},
   "source": [
    "### Conclusion\n",
    "\n",
    "Using grid search to select the best hyperparameters fails to improve the performance of SVM and Random Forest (still not better than chance). Moreover, for QDA, tuning LLE hyperparameters in each fold does not do better than fixing the hyperparameters then train and test the LLE-QDA pipeline directly, as shown in the [previous analysis](https://github.com/Upward-Spiral-Science/spect-team/blob/master/Code/Assignment-10/GenderDistinguished_ADHD_Bipolar_Fix&Tune_YatingJing.ipynb)."
   ]
  }
 ],
 "metadata": {
  "kernelspec": {
   "display_name": "Python 2",
   "language": "python",
   "name": "python2"
  },
  "language_info": {
   "codemirror_mode": {
    "name": "ipython",
    "version": 2
   },
   "file_extension": ".py",
   "mimetype": "text/x-python",
   "name": "python",
   "nbconvert_exporter": "python",
   "pygments_lexer": "ipython2",
   "version": "2.7.11"
  }
 },
 "nbformat": 4,
 "nbformat_minor": 0
}
