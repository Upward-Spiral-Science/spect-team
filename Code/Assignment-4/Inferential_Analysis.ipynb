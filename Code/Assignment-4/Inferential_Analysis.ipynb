{
 "cells": [
  {
   "cell_type": "code",
   "execution_count": 76,
   "metadata": {
    "collapsed": false
   },
   "outputs": [],
   "source": [
    "# Let's read the data_file into memory\n",
    "spect_data = data.frame(read.csv(\"/home/srinivas/Git-Projects/spect-team/Data/Data_Adults_1.csv\"))\n",
    "\n",
    "# Drop NAs\n",
    "spect_data = na.omit(spect_data)\n",
    "\n",
    "# Extract the baseline and Concentration Values\n",
    "interesting_baseline_column_start = which(colnames(spect_data) == \"Baseline_Amygdala_L\")\n",
    "interesting_baseline_column_end = which(colnames(spect_data) == \"Baseline_Vermis_9\")\n",
    "interesting_concentration_column_start = which(colnames(spect_data) == \"Concentration_Amygdala_L\")\n",
    "interesting_concentration_column_end = which(colnames(spect_data) == \"Concentration_Vermis_9\")\n",
    "baseline_values = spect_data[interesting_baseline_column_start : interesting_baseline_column_end]\n",
    "concentration_values = spect_data[interesting_concentration_column_start : interesting_concentration_column_end]\n",
    "\n",
    "# Prefix the Patient Id to make them uniquely recongizable\n",
    "b_vals = cbind(spect_data[\"Patient_ID\"], baseline_values)\n",
    "c_vals = cbind(spect_data[\"Patient_ID\"], concentration_values)\n",
    "\n",
    "# Let us also compute the deltas in the blood flow\n",
    "delta_values = concentration_values - baseline_values\n",
    "deltas = cbind(spect_data[\"Patient_ID\"], delta_values)\n",
    "\n",
    "#deltas[1:4, 1:4]"
   ]
  },
  {
   "cell_type": "markdown",
   "metadata": {
    "collapsed": true
   },
   "source": [
    "Now that we have the the RCBF value let us read in 2 lists, a list of healthy patients and a list of people who have anxiety disorders\n",
    "\n",
    "** EDIT THE FILE PATHS TO POINT TO A FILE ON YOUR PC **"
   ]
  },
  {
   "cell_type": "code",
   "execution_count": 77,
   "metadata": {
    "collapsed": false
   },
   "outputs": [],
   "source": [
    "healthy_patients = data.frame(read.csv(\"/home/srinivas/Git-Projects/spect-team/Data/healthy_IDs.csv\"))\n",
    "anxious_patients = data.frame(read.csv(\"/home/srinivas/Git-Projects/spect-team/Data/AnxietyDisorder_IDs.csv\"))\n",
    "print(nrow(healthy_patients))\n",
    "print(nrow(anxious_patients))"
   ]
  },
  {
   "cell_type": "markdown",
   "metadata": {
    "collapsed": true
   },
   "source": [
    "We have 50 healthy people and 15 people with Anxiety Disorder, let us now get the RCBF values for these individuals"
   ]
  },
  {
   "cell_type": "code",
   "execution_count": 78,
   "metadata": {
    "collapsed": false
   },
   "outputs": [],
   "source": [
    "# Let us perform a cartesian join of the two data frames\n",
    "healthy = deltas[deltas$Patient_ID %in% healthy_patients$Patient_ID,]\n",
    "anxious = deltas[deltas$Patient_ID %in% anxious_patients$Patient_ID,]"
   ]
  },
  {
   "cell_type": "markdown",
   "metadata": {},
   "source": [
    "Now we don't know which rcbf delta corresponds is an indicator that a person suffers from a certain disorder,\n",
    "We propose running a series of Wilcoxon-Mann-Whitney rank sum test on all the columns"
   ]
  },
  {
   "cell_type": "code",
   "execution_count": 80,
   "metadata": {
    "collapsed": false
   },
   "outputs": [],
   "source": [
    "p_vector = 0\n",
    "# Lets loop over the columns\n",
    "for (i in names(healthy[-1])) {\n",
    "    col1 = as.vector(healthy[,i])\n",
    "    col2 = as.vector(anxious[,i])\n",
    "    ans = wilcox.test(col1, col2, alternative=\"two.sided\")\n",
    "    p_vector = cbind(p_vector, ans[3])\n",
    "}\n",
    "names(p_vector) = names(healthy)\n",
    "write.csv(healthy, \"healthy.csv\")\n",
    "write.csv(anxious, \"anxious.csv\")\n",
    "write.csv(rbind(names(healthy),p_vector), \"pvals.csv\")"
   ]
  },
  {
   "cell_type": "markdown",
   "metadata": {
    "collapsed": true
   },
   "source": [
    "Based, on analysisng the generated p-values it would seem that that\"Cerebelum_7b_L\" can be used as a differentiator to separate people with anxiety disorder from healthy people. This [Article](http://www.amenclinics.com/the-science/spect-gallery/anxiety/) says that people with anxiety have abnormal blood flow in the basal ganglia, which along with certain portions of the cerebellum, is responsible for movement and coordination"
   ]
  },
  {
   "cell_type": "code",
   "execution_count": null,
   "metadata": {
    "collapsed": true
   },
   "outputs": [],
   "source": []
  }
 ],
 "metadata": {
  "kernelspec": {
   "display_name": "R",
   "language": "R",
   "name": "ir"
  },
  "language_info": {
   "codemirror_mode": "r",
   "file_extension": ".r",
   "mimetype": "text/x-r-source",
   "name": "R",
   "pygments_lexer": "r",
   "version": "3.2.3"
  }
 },
 "nbformat": 4,
 "nbformat_minor": 0
}
