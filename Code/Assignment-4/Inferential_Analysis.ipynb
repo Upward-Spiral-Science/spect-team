{
 "cells": [
  {
   "cell_type": "code",
   "execution_count": 28,
   "metadata": {
    "collapsed": false
   },
   "outputs": [],
   "source": [
    "# Let's read the data_file into memory\n",
    "spect_data = data.frame(read.csv(\"/home/srinivas/Git-Projects/spect-team/Data/Data_Adults_1.csv\"))\n",
    "\n",
    "# Drop NAs\n",
    "spect_data = na.omit(spect_data)\n",
    "\n",
    "# Extract the baseline and Concentration Values\n",
    "interesting_baseline_column_start = which(colnames(spect_data) == \"Baseline_Amygdala_L\")\n",
    "interesting_baseline_column_end = which(colnames(spect_data) == \"Baseline_Vermis_9\")\n",
    "interesting_concentration_column_start = which(colnames(spect_data) == \"Concentration_Amygdala_L\")\n",
    "interesting_concentration_column_end = which(colnames(spect_data) == \"Concentration_Vermis_9\")\n",
    "baseline_values = spect_data[interesting_baseline_column_start : interesting_baseline_column_end]\n",
    "concentration_values = spect_data[interesting_concentration_column_start : interesting_concentration_column_end]\n",
    "\n",
    "# Prefix the Patient Id to make them uniquely recongizable\n",
    "b_vals = cbind(spect_data[\"Patient_ID\"], baseline_values)\n",
    "c_vals = cbind(spect_data[\"Patient_ID\"], concentration_values)\n",
    "\n",
    "# Let us also compute the deltas in the blood flow\n",
    "delta_values = concentration_values - baseline_values\n",
    "deltas = cbind(spect_data[\"Patient_ID\"], delta_values)\n",
    "\n",
    "#deltas[1:4, 1:4]"
   ]
  },
  {
   "cell_type": "markdown",
   "metadata": {
    "collapsed": true
   },
   "source": [
    "Now that we have the the RCBF value let us read in 2 lists, a list of healthy patients and a list of people who have brain trauma\n",
    "\n",
    "** EDIT THE FILE PATHS TO POINT TO A FILE ON YOUR PC **"
   ]
  },
  {
   "cell_type": "code",
   "execution_count": 43,
   "metadata": {
    "collapsed": false
   },
   "outputs": [],
   "source": [
    "healthy_patients = data.frame(read.csv(\"/home/srinivas/Git-Projects/spect-team/Data/healthy_IDs.csv\"))\n",
    "anxious_patients = data.frame(read.csv(\"/home/srinivas/Git-Projects/spect-team/Data/AnxietyDisorder_IDs.csv\"))\n"
   ]
  },
  {
   "cell_type": "markdown",
   "metadata": {
    "collapsed": true
   },
   "source": [
    "We have 50 healthy people and 15 people with Anxiety Disorder, let us now get the RCBF values for these individuals"
   ]
  },
  {
   "cell_type": "code",
   "execution_count": 46,
   "metadata": {
    "collapsed": false
   },
   "outputs": [],
   "source": [
    "# Let us perform a cartesian join of the two data frames\n",
    "healthy = deltas[deltas$Patient_ID %in% healthy_patients$Patient_ID,]\n",
    "anxious = deltas[deltas$Patient_ID %in% anxious_patients$Patient_ID,]"
   ]
  },
  {
   "cell_type": "markdown",
   "metadata": {},
   "source": [
    "Now we don't know which rcbf delta corresponds is an indicator that a person suffers from a certain disorder,\n",
    "We propose running a series of Wilcoxon-Mann-Whitney rank sum test on all the columns"
   ]
  },
  {
   "cell_type": "code",
   "execution_count": 74,
   "metadata": {
    "collapsed": false
   },
   "outputs": [
    {
     "name": "stdout",
     "output_type": "stream",
     "text": [
      "        p_vector                                                            \n",
      "p.value 0        0.4408765 0.5911541 0.6348694 0.8456867 0.6572274 0.8092957\n",
      "                                                                             \n",
      "p.value 0.5911541 0.9565409 0.5181795 0.7614215 0.8092957 0.5911541 0.7972524\n",
      "                                                                              \n",
      "p.value 0.7852571 0.5283125 0.7733126 0.02758404 0.3790198 0.1498043 0.4982194\n",
      "                                                                            \n",
      "p.value 0.1140261 0.8947116 0.9070385 0.944142 0.5283125 0.5385454 0.9813671\n",
      "                                                                              \n",
      "p.value 0.6348694 0.9689502 0.9565409 0.08821071 0.7144438 0.9565409 0.5804454\n",
      "                                                                             \n",
      "p.value 0.9070385 0.9689502 0.9689502 0.9317567 0.7028586 0.9317567 0.6128396\n",
      "                                                                             \n",
      "p.value 0.4883949 0.8456867 0.9689502 0.5488767 0.6798964 0.9070385 0.7378103\n",
      "                                                                           \n",
      "p.value 0.8701368 0.5385454 0.8335157 0.88241 0.8456867 0.7378103 0.8092957\n",
      "                                                                             \n",
      "p.value 0.7260952 0.7028586 0.5283125 0.9689502 0.7852571 0.8947116 0.6798964\n",
      "                                                                             \n",
      "p.value 0.6019528 0.6460084 0.8335157 0.6348694 0.9317567 0.1831123 0.5081481\n",
      "                                                                             \n",
      "p.value 0.4786758 0.7733126 0.7028586 0.6238124 0.4883949 0.5181795 0.7028586\n",
      "                                                                             \n",
      "p.value 0.7972524 0.9193878 0.8947116 0.8947116 0.4883949 0.6798964 0.9689502\n",
      "                                                                              \n",
      "p.value 0.8578947 1 0.9937885 0.4982194 0.5181795 0.4408765 0.396124 0.9937885\n",
      "                                                                             \n",
      "p.value 0.6798964 0.5488767 0.9565409 0.9070385 0.7144438 0.6685241 0.5385454\n",
      "                                                                             \n",
      "p.value 0.7495866 0.5804454 0.3382879 0.5698284 0.7495866 0.7144438 0.4501626\n",
      "                                                                         \n",
      "p.value 0.6128396 0.88241 0.691342 0.6238124 0.7972524 0.3790198 0.691342\n",
      "                                                                            \n",
      "p.value 0.8701368 0.7852571 0.9937885 0.7852548 0.944142 0.8092957 0.6685241\n",
      "                                                                            \n",
      "p.value 0.7733126 0.7733126 0.944142 0.8092957 0.5283125 0.8701368 0.2100662\n",
      "                         \n",
      "p.value 0.322813 0.944142\n"
     ]
    }
   ],
   "source": [
    "p_vector = 0\n",
    "# Lets loop over the columns\n",
    "for (i in names(healthy[-1])) {\n",
    "    col1 = as.vector(healthy[,i])\n",
    "    col2 = as.vector(anxious[,i])\n",
    "    ans = wilcox.test(col1, col2, alternative=\"two.sided\")\n",
    "    p_vector = cbind(p_vector, ans[3])\n",
    "}\n",
    "names(p_vector) = names(healthy)\n",
    "write.csv(healthy, \"healthy.csv\")\n",
    "write.csv(anxious, \"anxious.csv\")\n",
    "write.csv(p_vector, \"pvals.csv\")"
   ]
  },
  {
   "cell_type": "code",
   "execution_count": null,
   "metadata": {
    "collapsed": true
   },
   "outputs": [],
   "source": []
  }
 ],
 "metadata": {
  "kernelspec": {
   "display_name": "R",
   "language": "R",
   "name": "ir"
  },
  "language_info": {
   "codemirror_mode": "r",
   "file_extension": ".r",
   "mimetype": "text/x-r-source",
   "name": "R",
   "pygments_lexer": "r",
   "version": "3.2.3"
  }
 },
 "nbformat": 4,
 "nbformat_minor": 0
}
