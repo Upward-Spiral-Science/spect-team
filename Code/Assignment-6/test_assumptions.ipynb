{
 "cells": [
  {
   "cell_type": "code",
   "execution_count": 1,
   "metadata": {
    "collapsed": false
   },
   "outputs": [],
   "source": [
    "import pandas as pd\n",
    "import numpy as np\n",
    "\n",
    "'''\n",
    "Reduced features\n",
    "'''\n",
    "df_feats = pd.read_csv('reduced_data.csv')\n",
    "df_labels = pd.read_csv('disorders.csv')['Depressed']\n",
    "\n",
    "df_red = pd.concat([df_feats, df_labels], axis=1)\n",
    "df_red_depr = df_red.loc[df_red['Depressed'] == 1].drop(['Depressed'], axis=1, inplace=False) # depressed \n",
    "df_red_not_depr = df_red.loc[df_red['Depressed'] == 0].drop(['Depressed'], axis=1, inplace=False) # not depressed \n",
    "\n",
    "# Get reduced features\n",
    "red_depr = df_red_depr.get_values()\n",
    "red_not_depr = df_red_not_depr.get_values()"
   ]
  },
  {
   "cell_type": "code",
   "execution_count": 2,
   "metadata": {
    "collapsed": false
   },
   "outputs": [],
   "source": [
    "'''\n",
    "Original features\n",
    "'''\n",
    "df_patient = pd.read_csv('patient_info.csv')\n",
    "df_disorders = pd.read_csv('disorders.csv')\n",
    "df_questionnaire = pd.read_csv('questionnaire.csv')\n",
    "df_base_concen = pd.read_csv('base_concen.csv')\n",
    "\n",
    "df_patient = df_patient[['Age', 'Gender_id', 'race_id', 'location_id']]\n",
    "df_disorders.drop(['Patient_ID', 'ADHD_Type'], axis=1, inplace=True)\n",
    "df_questionnaire.drop(['Patient_ID', 'BSC_Respondent', 'GSC_Respondent', 'LDS_Respondent'], axis=1, inplace=True)\n",
    "df_base_concen.drop(['Patient_ID', 'Baseline_header_id', 'Concentration_header_id'], axis=1, inplace=True)\n",
    "\n",
    "df = pd.concat([df_patient, df_disorders, df_questionnaire, df_base_concen], axis=1)\n",
    "\n",
    "df_depr = df.loc[df['Depressed'] == 1].drop(['Depressed'], axis=1, inplace=False) # depressed \n",
    "df_not_depr = df.loc[df['Depressed'] == 0].drop(['Depressed'], axis=1, inplace=False) # not depressed \n",
    "\n",
    "# Get original features\n",
    "depr = df_depr.get_values()\n",
    "not_depr = df_not_depr.get_values()"
   ]
  },
  {
   "cell_type": "markdown",
   "metadata": {},
   "source": [
    "## Step 1: State assumptions\n",
    "\n",
    "- There are n samples, each sample has m features.\n",
    "\n",
    "\n",
    "- We assume that depressed samples are sampled according to: \n",
    "   \n",
    "   - depressed samples: X<sub>i</sub> ∼<sup>iid</sup> F<sub>D</sub> \n",
    "   \n",
    "   - non-depressed samples: X<sub>i</sub> ∼<sup>iid</sup> F<sub>ND</sub> \n",
    "    \n",
    "  which is both an independent and identical assumption.\n",
    "\n",
    "\n",
    "- We assume the features are not sampled from an identical distribution:\n",
    "    \n",
    "   - depressed features: X<sub>ij</sub> ∼ F<sub>D<sub>j</sub></sub>  \n",
    "    \n",
    "   - non-depressed features: X<sub>ij</sub> ∼ F<sub>ND<sub>j</sub></sub>"
   ]
  },
  {
   "cell_type": "markdown",
   "metadata": {},
   "source": [
    "## Step 2: Check assumptions\n",
    "\n",
    "For independent samples, check matrix rank of a set of randomly selected samples.\n",
    "\n",
    "- X<sub>i</sub> ∼<sup>iid</sup> F\n",
    "\n",
    "- (X<sub>1</sub>, X<sub>2</sub>,..., X<sub>n</sub>) ∼ F = ∏<sub>i=1,...,n</sub>F<sub>i</sub>\n",
    "\n",
    "- F<sub>i</sub> = F<sub>j</sub>, ∀i, j\n",
    "\n",
    "\n",
    "For identical samples, check the optimal number of clusters and see if that is 1.\n",
    "\n",
    "- F = ∏<sub>i=1,...,n</sub> F<sub>i</sub>\n",
    "\n",
    "- ∏<sub>i=1,...,n</sub> w<sub>i</sub> F<sub>i</sub>(θ) \n",
    "\n",
    "For identical features, check the optimal number of clusters and see if that is larger than 1.\n",
    "\n",
    "- F<sub>i</sub> = ∏<sub>j=1,...,m</sub> F<sub>ij</sub>\n",
    "\n",
    "- ∏<sub>j=1,...,m</sub> w<sub>j</sub> F<sub>ij</sub>(θ)"
   ]
  },
  {
   "cell_type": "markdown",
   "metadata": {
    "collapsed": true
   },
   "source": [
    "### Independent Samples Assumption"
   ]
  },
  {
   "cell_type": "markdown",
   "metadata": {},
   "source": [
    "First let's try and determine if the matrix of reduced depressed people is independent"
   ]
  },
  {
   "cell_type": "code",
   "execution_count": 3,
   "metadata": {
    "collapsed": false
   },
   "outputs": [
    {
     "name": "stdout",
     "output_type": "stream",
     "text": [
      "Shape of reduced features: (1205, 27)\n",
      "likely lower bound on dependent patients 36\n"
     ]
    }
   ],
   "source": [
    "import numpy as np\n",
    "\n",
    "# We don't want to ensure reproducibility, we want the sampling to be random everytime, this is because only then\n",
    "# will iterative coverage of the rows of the large matrix be max\n",
    "\n",
    "# Before we perform any identical-ness determination let's have a look at the shape of the matix\n",
    "print \"Shape of reduced features: \" + str(red_depr.shape)\n",
    "\n",
    "# variable to hold dependent count\n",
    "dep_count = 0\n",
    "\n",
    "for loop in range(0,100):\n",
    "\n",
    "    # The number of entries far outnumber the number of reduced features. This almost guarantees linear dependence\n",
    "    # To combat the let us random sample 27 values\n",
    "    randrows = np.random.randint(1205,size=27)\n",
    "    double_red_depr = red_depr[randrows]\n",
    "    # print \"Shape of double reduced features: \" + str(double_red_depr.shape)\n",
    "\n",
    "    # Now, let's calculate the rank of these matrix, if the rank is less than 27, then there are atleast 2 rows\n",
    "    # that are dependent    \n",
    "    rank = np.linalg.matrix_rank(double_red_depr)    \n",
    "    if rank != 27:\n",
    "        # print \"Interdependent lines with matrank: \" + str(rank)\n",
    "        dep_count += 1\n",
    "print \"likely lower bound on dependent patients \" + str(dep_count)"
   ]
  },
  {
   "cell_type": "markdown",
   "metadata": {},
   "source": [
    "Over here our reasoning is this, the probability for 2 lines to be selected twice in 2 differrent sets of 27 from 1205 candidates is pretty low. But when repeated 100 times there is a high chance for double counting. Allowing for this double counting if the number is still less than 5% of the total number of patients we can safely say that our data is mostly independent"
   ]
  },
  {
   "cell_type": "markdown",
   "metadata": {},
   "source": [
    "Following a similar technique for the set of reduced not depressed people"
   ]
  },
  {
   "cell_type": "code",
   "execution_count": 4,
   "metadata": {
    "collapsed": false
   },
   "outputs": [
    {
     "name": "stdout",
     "output_type": "stream",
     "text": [
      "Shape of reduced features: (1591, 27)\n",
      "likely lower bound on dependent patients 61\n"
     ]
    }
   ],
   "source": [
    "import numpy as np\n",
    "\n",
    "# We don't want to ensure reproducibility, we want the sampling to be random everytime, this is because only then\n",
    "# will iterative coverage of the rows of the large matrix be max\n",
    "\n",
    "# Before we perform any identical-ness determination let's have a look at the shape of the matix\n",
    "print \"Shape of reduced features: \" + str(red_not_depr.shape)\n",
    "\n",
    "# variable to hold dependent count\n",
    "dep_count = 0\n",
    "\n",
    "for loop in range(0,100):\n",
    "\n",
    "    # The number of entries far outnumber the number of reduced features. This almost guarantees linear dependence\n",
    "    # To combat the let us random sample 27 values\n",
    "    randrows = np.random.randint(1205,size=27)\n",
    "    double_red_not_depr = red_not_depr[randrows]\n",
    "    # print \"Shape of double reduced features: \" + str(double_red_depr.shape)\n",
    "\n",
    "    # Now, let's calculate the rank of these matrix, if the rank is less than 27, then there are atleast 2 rows\n",
    "    # that are dependent    \n",
    "    rank = np.linalg.matrix_rank(double_red_not_depr)    \n",
    "    if rank != 27:\n",
    "        # print \"Interdependent lines with matrank: \" + str(rank)\n",
    "        dep_count += 1\n",
    "print \"likely lower bound on dependent patients \" + str(dep_count)"
   ]
  },
  {
   "cell_type": "markdown",
   "metadata": {},
   "source": [
    "**Likely number of dependent entries for depressed set: **34/1205<br/>\n",
    "**Likely number of dependent entries for not depressed set: **64/1591<br/>\n",
    "\n",
    "Given this info, it might be safe to say that the data entries are by and large independent"
   ]
  },
  {
   "cell_type": "markdown",
   "metadata": {},
   "source": [
    "### Indentical Samples Assumption\n",
    "\n",
    "- Gaussian Mixture Model for samples with reduced features"
   ]
  },
  {
   "cell_type": "code",
   "execution_count": 5,
   "metadata": {
    "collapsed": false
   },
   "outputs": [],
   "source": [
    "import itertools\n",
    "import matplotlib as mpl\n",
    "from scipy import linalg\n",
    "from sklearn.mixture import GMM\n",
    "\n",
    "%matplotlib inline\n",
    "import matplotlib.pyplot as plt\n",
    "\n",
    "def plot_BIS(X, title):\n",
    "    lowest_bic = np.infty\n",
    "    bic = []\n",
    "    n_components_range = range(1, 6)\n",
    "    cv_types = ['spherical', 'tied', 'diag', 'full']\n",
    "    for cv_type in cv_types:\n",
    "        for n_components in n_components_range:\n",
    "            # Fit a mixture of Gaussians with EM\n",
    "            gmm = GMM(n_components=n_components, covariance_type=cv_type)\n",
    "            gmm.fit(X)\n",
    "            bic.append(gmm.bic(X))\n",
    "            if bic[-1] < lowest_bic:\n",
    "                lowest_bic = bic[-1]\n",
    "                best_gmm = gmm\n",
    "\n",
    "    bic = np.array(bic)\n",
    "    color_iter = itertools.cycle(['k', 'r', 'g', 'b', 'c', 'm', 'y'])\n",
    "    clf = best_gmm\n",
    "    bars = []\n",
    "\n",
    "    # Plot the BIC scores\n",
    "    fig = plt.figure()\n",
    "    fig.suptitle(title, fontsize=14)\n",
    "    fig.set_size_inches(12, 4)\n",
    "    plt.subplots_adjust(top=0.85)\n",
    "    spl = plt.subplot(2, 1, 1)\n",
    "    \n",
    "    for i, (cv_type, color) in enumerate(zip(cv_types, color_iter)):\n",
    "        xpos = np.array(n_components_range) + .2 * (i - 2)\n",
    "        bars.append(plt.bar(xpos, bic[i * len(n_components_range):\n",
    "                                      (i + 1) * len(n_components_range)],\n",
    "                            width=.2, color=color))\n",
    "    plt.xticks(n_components_range)\n",
    "    plt.ylim([bic.min() * 1.01 - .01 * bic.max(), bic.max()])\n",
    "    plt.title('BIC score per model')\n",
    "    xpos = np.mod(bic.argmin(), len(n_components_range)) + .65 +\\\n",
    "        .2 * np.floor(bic.argmin() / len(n_components_range))\n",
    "    plt.text(xpos, bic.min() * 0.97 + .03 * bic.max(), '*', fontsize=14)\n",
    "    spl.set_xlabel('Number of components')\n",
    "    spl.legend([b[0] for b in bars], cv_types, loc='best', prop={'size':10})"
   ]
  },
  {
   "cell_type": "code",
   "execution_count": 6,
   "metadata": {
    "collapsed": false
   },
   "outputs": [
    {
     "data": {
      "image/png": "[encoded data removed]",
      "text/plain": [
       "<matplotlib.figure.Figure at 0x104427fd0>"
      ]
     },
     "metadata": {},
     "output_type": "display_data"
    },
    {
     "data": {
      "image/png": "[encoded data removed]",
      "text/plain": [
       "<matplotlib.figure.Figure at 0x102aef850>"
      ]
     },
     "metadata": {},
     "output_type": "display_data"
    }
   ],
   "source": [
    "# Reduced Feature BIC\n",
    "plot_BIS(red_depr, 'Reduced Depressed Features')\n",
    "plot_BIS(red_not_depr, 'Reduced Non-Depressed Features')"
   ]
  },
  {
   "cell_type": "markdown",
   "metadata": {},
   "source": [
    "Plot BIC (Bayesian information criterion) scores to decide which covariance type to use.\n",
    "\n",
    "The model with the lowest negation of the BIC (highest BIC score above) is preferred, therefore spherical covariance type is selected. \n",
    "\n",
    "The definition on wiki leads to some confusion, the explanation can be found here: http://forum.hugin.com/index.php?topic=188.0.\n",
    "\n",
    "#### Estimate clusters based on Greg's code."
   ]
  },
  {
   "cell_type": "code",
   "execution_count": 7,
   "metadata": {
    "collapsed": false
   },
   "outputs": [],
   "source": [
    "def evaluate_clusters(X):\n",
    "    i = np.linspace(1, 16, 16, dtype='int')\n",
    "    bic = np.array(())\n",
    "\n",
    "    for idx in i:\n",
    "        print \"Fitting and evaluating model with \" + str(idx) + \" clusters.\"\n",
    "        gmm = GMM(n_components=idx, n_iter=1000, covariance_type='spherical')\n",
    "        gmm.fit(X)\n",
    "        bic = np.append(bic, gmm.bic(X))\n",
    "    plt.figure(figsize=(7, 7))\n",
    "    plt.plot(i, 1.0/bic)\n",
    "    plt.title('BIC')\n",
    "    plt.ylabel('score')\n",
    "    plt.xlabel('number of clusters')\n",
    "    plt.show()\n",
    "\n",
    "    print bic"
   ]
  },
  {
   "cell_type": "code",
   "execution_count": 8,
   "metadata": {
    "collapsed": false
   },
   "outputs": [
    {
     "name": "stdout",
     "output_type": "stream",
     "text": [
      "Fitting and evaluating model with 1 clusters.\n",
      "Fitting and evaluating model with 2 clusters.\n",
      "Fitting and evaluating model with 3 clusters.\n",
      "Fitting and evaluating model with 4 clusters.\n",
      "Fitting and evaluating model with 5 clusters.\n",
      "Fitting and evaluating model with 6 clusters.\n",
      "Fitting and evaluating model with 7 clusters.\n",
      "Fitting and evaluating model with 8 clusters.\n",
      "Fitting and evaluating model with 9 clusters.\n",
      "Fitting and evaluating model with 10 clusters.\n",
      "Fitting and evaluating model with 11 clusters.\n",
      "Fitting and evaluating model with 12 clusters.\n",
      "Fitting and evaluating model with 13 clusters.\n",
      "Fitting and evaluating model with 14 clusters.\n",
      "Fitting and evaluating model with 15 clusters.\n",
      "Fitting and evaluating model with 16 clusters.\n"
     ]
    },
    {
     "data": {
      "image/png": "[encoded data removed]",
      "text/plain": [
       "<matplotlib.figure.Figure at 0x10d8e8950>"
      ]
     },
     "metadata": {},
     "output_type": "display_data"
    },
    {
     "name": "stdout",
     "output_type": "stream",
     "text": [
      "[ 665943.15874087  614389.54776157  586703.66916061  574587.88104984\n",
      "  557631.5563946   538431.3846077   530905.8772439   522480.72269556\n",
      "  517437.2493301   507864.89482362  506742.16434092  500322.96407375\n",
      "  497804.31279593  497747.50498443  494209.27237663  495871.68858237]\n"
     ]
    }
   ],
   "source": [
    "evaluate_clusters(red_depr)"
   ]
  },
  {
   "cell_type": "code",
   "execution_count": 9,
   "metadata": {
    "collapsed": false
   },
   "outputs": [
    {
     "name": "stdout",
     "output_type": "stream",
     "text": [
      "Fitting and evaluating model with 1 clusters.\n",
      "Fitting and evaluating model with 2 clusters.\n",
      "Fitting and evaluating model with 3 clusters.\n",
      "Fitting and evaluating model with 4 clusters.\n",
      "Fitting and evaluating model with 5 clusters.\n",
      "Fitting and evaluating model with 6 clusters.\n",
      "Fitting and evaluating model with 7 clusters.\n",
      "Fitting and evaluating model with 8 clusters.\n",
      "Fitting and evaluating model with 9 clusters.\n",
      "Fitting and evaluating model with 10 clusters.\n",
      "Fitting and evaluating model with 11 clusters.\n",
      "Fitting and evaluating model with 12 clusters.\n",
      "Fitting and evaluating model with 13 clusters.\n",
      "Fitting and evaluating model with 14 clusters.\n",
      "Fitting and evaluating model with 15 clusters.\n",
      "Fitting and evaluating model with 16 clusters.\n"
     ]
    },
    {
     "data": {
      "image/png": "[encoded data removed]",
      "text/plain": [
       "<matplotlib.figure.Figure at 0x10685a3d0>"
      ]
     },
     "metadata": {},
     "output_type": "display_data"
    },
    {
     "name": "stdout",
     "output_type": "stream",
     "text": [
      "[ 877772.00392833  816371.00697729  778938.90339726  766543.86127108\n",
      "  742307.29224827  731985.10462978  706929.49944019  698053.96058957\n",
      "  688104.07379333  686417.13259729  675248.11718123  666522.64300224\n",
      "  663630.18663852  663415.9541398   662990.92787574  658933.90818964]\n"
     ]
    }
   ],
   "source": [
    "evaluate_clusters(red_not_depr)"
   ]
  },
  {
   "cell_type": "markdown",
   "metadata": {},
   "source": [
    "From the two figures above, we can see that the optimal numbers of clusters are 16 and 15 (at least), so our data may not have been sampled identically from one distribution. Here using Gaussian Mixture Model method we proved once again that the identical samples assumption is false."
   ]
  },
  {
   "cell_type": "markdown",
   "metadata": {},
   "source": [
    "### Not Identical Features Assumption\n",
    "\n",
    "- K-Means Clustering"
   ]
  },
  {
   "cell_type": "code",
   "execution_count": 10,
   "metadata": {
    "collapsed": false
   },
   "outputs": [],
   "source": [
    "from sklearn.cluster import KMeans\n",
    "from mpl_toolkits.axes_grid1 import Grid\n",
    "\n",
    "def cluster_feats(X, k, title, feat_names):\n",
    "    # Visualize the clustering result\n",
    "    fig = plt.figure()\n",
    "    fig.suptitle(title, fontsize=14, fontweight='bold')\n",
    "    fig.set_size_inches(10, 4)\n",
    "    plt.subplots_adjust(top=0.85)\n",
    "\n",
    "    grid = Grid(fig, rect=111, nrows_ncols=(1, 2),\n",
    "                axes_pad=0.5, label_mode='L',\n",
    "                )\n",
    "    \n",
    "    for i, ax in enumerate(grid):\n",
    "        # Fit the data\n",
    "        data = X[i].T\n",
    "        kmeans = KMeans(n_clusters=k)\n",
    "        kmeans.fit(data)\n",
    "        \n",
    "        # Get cluster labels and centroids\n",
    "        labels = kmeans.labels_\n",
    "        centroids = kmeans.cluster_centers_\n",
    "        \n",
    "        # Plot clusters\n",
    "        for j in range(k):\n",
    "            # Extract observations within each cluster\n",
    "            ds = data[np.where(labels==j)]\n",
    "            \n",
    "            # Plot the observations with symbol o\n",
    "            ax.plot(ds[:,0], ds[:,1], 'o')\n",
    "            \n",
    "            # Plot the centroids with simbol x\n",
    "            lines = ax.plot(centroids[j,0], centroids[j,1], 'x')\n",
    "            plt.setp(lines, ms=8.0)\n",
    "            plt.setp(lines, mew=2.0)\n",
    "            \n",
    "            ax.set_title(feat_names[i])"
   ]
  },
  {
   "cell_type": "code",
   "execution_count": 11,
   "metadata": {
    "collapsed": false
   },
   "outputs": [
    {
     "data": {
      "image/png": "[encoded data removed]",
      "text/plain": [
       "<matplotlib.figure.Figure at 0x1069cf050>"
      ]
     },
     "metadata": {},
     "output_type": "display_data"
    },
    {
     "data": {
      "image/png": "[encoded data removed]",
      "text/plain": [
       "<matplotlib.figure.Figure at 0x105d67a10>"
      ]
     },
     "metadata": {},
     "output_type": "display_data"
    }
   ],
   "source": [
    "# Reduced Feature Clustering\n",
    "red_feats = [red_depr, red_not_depr]\n",
    "k = 4 # number of clusters\n",
    "cluster_feats(red_feats, k, 'Reduced Features', ['Depressed', 'Not Depressed'])\n",
    "\n",
    "# Original Feature Clustering\n",
    "feats = [depr, not_depr]\n",
    "k = 3 # number of clusters\n",
    "cluster_feats(feats, k, 'Original Features', ['Depressed', 'Not Depressed'])"
   ]
  },
  {
   "cell_type": "markdown",
   "metadata": {
    "collapsed": true
   },
   "source": [
    "As shown in the figures above, the reduced depressed features and non-depressed features are not identical and both fall into four clusters, while the original depressed features fall into two groups and original non-depressed fall into three groups. Note that the reduced feature vector size is 27 and the original feature vector size is 737.\n",
    "\n",
    "From above, we can conclude that our not identical features assumption is true."
   ]
  }
 ],
 "metadata": {
  "kernelspec": {
   "display_name": "Python 2",
   "language": "python",
   "name": "python2"
  },
  "language_info": {
   "codemirror_mode": {
    "name": "ipython",
    "version": 2
   },
   "file_extension": ".py",
   "mimetype": "text/x-python",
   "name": "python",
   "nbconvert_exporter": "python",
   "pygments_lexer": "ipython2",
   "version": "2.7.11"
  }
 },
 "nbformat": 4,
 "nbformat_minor": 0
}
