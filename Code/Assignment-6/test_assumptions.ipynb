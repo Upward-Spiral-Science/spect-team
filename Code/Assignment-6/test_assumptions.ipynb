{
 "cells": [
  {
   "cell_type": "code",
   "execution_count": 1,
   "metadata": {
    "collapsed": false
   },
   "outputs": [],
   "source": [
    "import pandas as pd\n",
    "import numpy as np\n",
    "\n",
    "'''\n",
    "Reduced features\n",
    "'''\n",
    "df_feats = pd.read_csv('reduced_data.csv')\n",
    "df_labels = pd.read_csv('disorders.csv')['Depressed']\n",
    "\n",
    "df_red = pd.concat([df_feats, df_labels], axis=1)\n",
    "df_red_depr = df_red.loc[df_red['Depressed'] == 1].drop(['Depressed'], axis=1, inplace=False) # depressed \n",
    "df_red_not_depr = df_red.loc[df_red['Depressed'] == 0].drop(['Depressed'], axis=1, inplace=False) # not depressed \n",
    "\n",
    "red_depr = df_red_depr.get_values()\n",
    "red_not_depr = df_red_not_depr.get_values()"
   ]
  },
  {
   "cell_type": "code",
   "execution_count": 2,
   "metadata": {
    "collapsed": false
   },
   "outputs": [],
   "source": [
    "'''\n",
    "Original features\n",
    "'''\n",
    "df_patient = pd.read_csv('patient_info.csv')\n",
    "df_disorders = pd.read_csv('disorders.csv')\n",
    "df_questionnaire = pd.read_csv('questionnaire.csv')\n",
    "df_base_concen = pd.read_csv('base_concen.csv')\n",
    "\n",
    "df_patient = df_patient[['Age', 'Gender_id', 'race_id', 'location_id']]\n",
    "df_disorders.drop(['Patient_ID', 'ADHD_Type'], axis=1, inplace=True)\n",
    "df_questionnaire.drop(['Patient_ID', 'BSC_Respondent', 'GSC_Respondent', 'LDS_Respondent'], axis=1, inplace=True)\n",
    "df_base_concen.drop(['Patient_ID', 'Baseline_header_id', 'Concentration_header_id'], axis=1, inplace=True)\n",
    "\n",
    "df = pd.concat([df_patient, df_disorders, df_questionnaire, df_base_concen], axis=1)\n",
    "\n",
    "df_depr = df.loc[df['Depressed'] == 1].drop(['Depressed'], axis=1, inplace=False) # depressed \n",
    "df_not_depr = df.loc[df['Depressed'] == 0].drop(['Depressed'], axis=1, inplace=False) # not depressed \n",
    "\n",
    "depr = df_depr.get_values()\n",
    "not_depr = df_not_depr.get_values()"
   ]
  },
  {
   "cell_type": "markdown",
   "metadata": {},
   "source": [
    "## Step 1: State assumptions\n",
    "\n",
    "- We assume that depressed features are sampled according to: X<sub>i</sub> ∼<sup>iid</sup> F<sub>D</sub>, and not depressed features are sampled according to: X<sub>i</sub> ∼<sup>iid</sup> F<sub>ND</sub>, which is both an independent and identical assumption."
   ]
  },
  {
   "cell_type": "markdown",
   "metadata": {},
   "source": [
    "## Step 2: Check assumptions\n",
    "\n",
    "For independent features, check that off diagonal covariance is approximately 0.\n",
    "\n",
    "\n",
    "For identical features, check the optimal number of clusters and see if that is 1."
   ]
  },
  {
   "cell_type": "markdown",
   "metadata": {
    "collapsed": true
   },
   "source": [
    "### Independent Features Assumption"
   ]
  },
  {
   "cell_type": "code",
   "execution_count": 3,
   "metadata": {
    "collapsed": true
   },
   "outputs": [],
   "source": [
    "%matplotlib inline\n",
    "import matplotlib.pyplot as plt"
   ]
  },
  {
   "cell_type": "markdown",
   "metadata": {},
   "source": [
    "###  Identical Features Assumption"
   ]
  },
  {
   "cell_type": "code",
   "execution_count": 4,
   "metadata": {
    "collapsed": false
   },
   "outputs": [],
   "source": [
    "from sklearn.cluster import KMeans\n",
    "from mpl_toolkits.axes_grid1 import Grid\n",
    "\n",
    "def cluster_feats(X, k, title, feat_names):\n",
    "    # Visualize the clustering result\n",
    "    fig = plt.figure()\n",
    "    fig.suptitle(title, fontsize=14, fontweight='bold')\n",
    "    fig.set_size_inches(10, 4)\n",
    "    plt.subplots_adjust(top=0.85)\n",
    "\n",
    "    grid = Grid(fig, rect=111, nrows_ncols=(1, 2),\n",
    "                axes_pad=0.5, label_mode='L',\n",
    "                )\n",
    "    \n",
    "    for i, ax in enumerate(grid):\n",
    "        # Fit the data\n",
    "        data = X[i].T\n",
    "        kmeans = KMeans(n_clusters=k)\n",
    "        kmeans.fit(data)\n",
    "        \n",
    "        # Get cluster labels and centroids\n",
    "        labels = kmeans.labels_\n",
    "        centroids = kmeans.cluster_centers_\n",
    "        \n",
    "        # Plot clusters\n",
    "        for j in range(k):\n",
    "            # Extract observations within each cluster\n",
    "            ds = data[np.where(labels==j)]\n",
    "            \n",
    "            # Plot the observations with symbol o\n",
    "            ax.plot(ds[:,0], ds[:,1], 'o')\n",
    "            \n",
    "            # Plot the centroids with simbol x\n",
    "            lines = ax.plot(centroids[j,0], centroids[j,1], 'x')\n",
    "            plt.setp(lines, ms=8.0)\n",
    "            plt.setp(lines, mew=2.0)\n",
    "            \n",
    "            ax.set_title(feat_names[i])"
   ]
  },
  {
   "cell_type": "code",
   "execution_count": 5,
   "metadata": {
    "collapsed": false
   },
   "outputs": [
    {
     "data": {
      "image/png": "[encoded data removed]",
      "text/plain": [
       "<matplotlib.figure.Figure at 0x106e3a9d0>"
      ]
     },
     "metadata": {},
     "output_type": "display_data"
    },
    {
     "data": {
      "image/png": "[encoded data removed]",
      "text/plain": [
       "<matplotlib.figure.Figure at 0x106e3ac90>"
      ]
     },
     "metadata": {},
     "output_type": "display_data"
    }
   ],
   "source": [
    "# Reduced Feature Clustering\n",
    "red_feats = [red_depr, red_not_depr]\n",
    "k = 4 # number of clusters\n",
    "cluster_feats(red_feats, k, 'Reduced Features', ['Depressed', 'Not Depressed'])\n",
    "\n",
    "# Original Feature Clustering\n",
    "feats = [depr, not_depr]\n",
    "k = 3 # number of clusters\n",
    "cluster_feats(feats, k, 'Original Features', ['Depressed', 'Not Depressed'])"
   ]
  },
  {
   "cell_type": "markdown",
   "metadata": {
    "collapsed": true
   },
   "source": [
    "As shown in the figures above, the reduced depressed features and not depressed features are not identical and both fall into four clusters, while the original depressed features fall into two groups and original not depressed fall into three groups. Note that the reduced feature vector size is 27 and the original feature vector size is 737.\n",
    "\n",
    "From above, we can conclude that our identical assumption is false."
   ]
  }
 ],
 "metadata": {
  "kernelspec": {
   "display_name": "Python 2",
   "language": "python",
   "name": "python2"
  },
  "language_info": {
   "codemirror_mode": {
    "name": "ipython",
    "version": 2
   },
   "file_extension": ".py",
   "mimetype": "text/x-python",
   "name": "python",
   "nbconvert_exporter": "python",
   "pygments_lexer": "ipython2",
   "version": "2.7.11"
  }
 },
 "nbformat": 4,
 "nbformat_minor": 0
}
