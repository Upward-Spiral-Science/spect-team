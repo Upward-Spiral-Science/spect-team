{
 "cells": [
  {
   "cell_type": "markdown",
   "metadata": {},
   "source": [
    "## Feature Selection Experiments - Srinivas"
   ]
  },
  {
   "cell_type": "code",
   "execution_count": 46,
   "metadata": {
    "collapsed": false
   },
   "outputs": [
    {
     "name": "stdout",
     "output_type": "stream",
     "text": [
      "(3926, 268)\n",
      "(3926, 262)\n",
      "(2341, 262)\n",
      "(2675, 262)\n"
     ]
    }
   ],
   "source": [
    "# Standard\n",
    "import pandas as pd\n",
    "import numpy as np\n",
    "%matplotlib inline\n",
    "import matplotlib.pyplot as plt\n",
    "\n",
    "# Dimensionality reduction and Clustering\n",
    "from sklearn.decomposition import PCA\n",
    "from sklearn.cluster import KMeans\n",
    "from sklearn import manifold, datasets\n",
    "from itertools import cycle\n",
    "\n",
    "# Plotting tools and classifiers\n",
    "from matplotlib.colors import ListedColormap\n",
    "from sklearn.cross_validation import train_test_split\n",
    "from sklearn import preprocessing\n",
    "from sklearn.datasets import make_moons, make_circles, make_classification\n",
    "from sklearn.ensemble import RandomForestClassifier\n",
    "from sklearn.naive_bayes import GaussianNB\n",
    "from sklearn.discriminant_analysis import LinearDiscriminantAnalysis as LDA\n",
    "from sklearn.discriminant_analysis import QuadraticDiscriminantAnalysis as QDA\n",
    "from sklearn import cross_validation\n",
    "from sklearn.cross_validation import LeaveOneOut\n",
    "\n",
    "# Let's read the data in and clean it\n",
    "\n",
    "def get_NaNs(df):\n",
    "    columns = list(df.columns.get_values()) \n",
    "    row_metrics = df.isnull().sum(axis=1)\n",
    "    rows_with_na = []\n",
    "    for i, x in enumerate(row_metrics):\n",
    "        if x > 0: rows_with_na.append(i)\n",
    "    return rows_with_na\n",
    "\n",
    "def remove_NaNs(df):\n",
    "    rows_with_na = get_NaNs(df)\n",
    "    cleansed_df = df.drop(df.index[rows_with_na], inplace=False)     \n",
    "    return cleansed_df\n",
    "\n",
    "initial_data = pd.DataFrame.from_csv('Data_Adults_1_reduced_inv4.csv')\n",
    "cleansed_df = remove_NaNs(initial_data)\n",
    "\n",
    "# Let's also get rid of nominal data\n",
    "numerics = ['int16', 'int32', 'int64', 'float16', 'float32', 'float64']\n",
    "X = cleansed_df.select_dtypes(include=numerics)\n",
    "print X.shape\n",
    "\n",
    "# Let's now clean columns getting rid of certain columns that might not be important to our analysis\n",
    "\n",
    "cols2drop = ['GROUP_ID', 'doa', 'Baseline_header_id', 'Concentration_header_id', 'Baseline_Reading_id',\n",
    "             'Concentration_Reading_id']\n",
    "X = X.drop(cols2drop, axis=1, inplace=False)\n",
    "print X.shape\n",
    "\n",
    "# For our studies children skew the data, it would be cleaner to just analyse adults\n",
    "X = X.loc[X['Age'] >= 18]\n",
    "Y = X.loc[X['race_id'] == 1]\n",
    "X  = X.loc[X['Gender_id'] == 1]\n",
    "\n",
    "print X.shape\n",
    "print Y.shape"
   ]
  },
  {
   "cell_type": "code",
   "execution_count": 47,
   "metadata": {
    "collapsed": false
   },
   "outputs": [
    {
     "name": "stdout",
     "output_type": "stream",
     "text": [
      "(946, 262)\n",
      "(223, 262)\n",
      "(992, 262)\n",
      "(287, 262)\n"
     ]
    }
   ],
   "source": [
    "# Let's extract ADHd and Bipolar patients (mutually exclusive)\n",
    "\n",
    "ADHD_men = X.loc[X['ADHD'] == 1]\n",
    "ADHD_men = ADHD_men.loc[ADHD_men['Bipolar'] == 0]\n",
    "\n",
    "BP_men = X.loc[X['Bipolar'] == 1]\n",
    "BP_men = BP_men.loc[BP_men['ADHD'] == 0]\n",
    "\n",
    "ADHD_cauc = Y.loc[Y['ADHD'] == 1]\n",
    "ADHD_cauc = ADHD_cauc.loc[ADHD_cauc['Bipolar'] == 0]\n",
    "\n",
    "BP_cauc = Y.loc[Y['Bipolar'] == 1]\n",
    "BP_cauc = BP_cauc.loc[BP_cauc['ADHD'] == 0]\n",
    "\n",
    "print ADHD_men.shape\n",
    "print BP_men.shape\n",
    "\n",
    "print ADHD_cauc.shape\n",
    "print BP_cauc.shape\n",
    "\n",
    "# Keeping a backup of the data frame object because numpy arrays don't play well with certain scikit functions\n",
    "ADHD_men = pd.DataFrame(ADHD_men.drop(['Patient_ID', 'Gender_id', 'ADHD', 'Bipolar', 'Age', 'race_id']\n",
    "                                      , axis = 1, inplace = False))\n",
    "BP_men = pd.DataFrame(BP_men.drop(['Patient_ID', 'Gender_id', 'ADHD', 'Bipolar', 'Age', 'race_id']\n",
    "                                  , axis = 1, inplace = False))\n",
    "\n",
    "ADHD_cauc = pd.DataFrame(ADHD_cauc.drop(['Patient_ID', 'race_id', 'ADHD', 'Bipolar', 'Age', 'Gender_id']\n",
    "                                        , axis = 1, inplace = False))\n",
    "BP_cauc = pd.DataFrame(BP_cauc.drop(['Patient_ID', 'race_id', 'ADHD', 'Bipolar', 'Age', 'Gender_id']\n",
    "                                    , axis = 1, inplace = False))"
   ]
  },
  {
   "cell_type": "markdown",
   "metadata": {},
   "source": [
    "### Feature Selection"
   ]
  },
  {
   "cell_type": "code",
   "execution_count": 48,
   "metadata": {
    "collapsed": false
   },
   "outputs": [
    {
     "name": "stdout",
     "output_type": "stream",
     "text": [
      "(1169, 256)\n",
      "(1279, 256)\n"
     ]
    }
   ],
   "source": [
    "from sklearn.feature_selection import SelectKBest\n",
    "from sklearn.feature_selection import chi2\n",
    "from sklearn.feature_selection import f_classif\n",
    "\n",
    "combined1 = pd.concat([ADHD_men, BP_men])\n",
    "combined2 = pd.concat([ADHD_cauc, BP_cauc])\n",
    "\n",
    "print combined1.shape\n",
    "print combined2.shape\n",
    "\n",
    "combined1_scaled = pd.DataFrame(preprocessing.scale(combined1))\n",
    "combined2_scaled = pd.DataFrame(preprocessing.scale(combined2))\n"
   ]
  },
  {
   "cell_type": "code",
   "execution_count": 49,
   "metadata": {
    "collapsed": false
   },
   "outputs": [],
   "source": [
    "clabels1 = [1] * 946 + [0] * 223\n",
    "clabels2 = [1] * 992 + [0] * 287\n",
    "\n",
    "combined1_reduced = pd.DataFrame(SelectKBest(f_classif, k=5).fit_transform(combined1, clabels1))\n",
    "combined2_reduced = pd.DataFrame(SelectKBest(f_classif, k=5).fit_transform(combined2, clabels2))\n",
    "combined1_scaled_reduced = pd.DataFrame(SelectKBest(f_classif, k=5).fit_transform(combined1_scaled, clabels1))\n",
    "combined2_scaled_reduced = pd.DataFrame(SelectKBest(f_classif, k=5).fit_transform(combined2_scaled, clabels2))\n",
    "combined1_reduced_scaled = pd.DataFrame(preprocessing.scale(combined1_reduced))\n",
    "combined2_reduced_scaled = pd.DataFrame(preprocessing.scale(combined2_reduced))"
   ]
  },
  {
   "cell_type": "code",
   "execution_count": 58,
   "metadata": {
    "collapsed": false
   },
   "outputs": [
    {
     "data": {
      "text/html": [
       "<div>\n",
       "<table border=\"1\" class=\"dataframe\">\n",
       "  <thead>\n",
       "    <tr style=\"text-align: right;\">\n",
       "      <th></th>\n",
       "      <th>0</th>\n",
       "      <th>1</th>\n",
       "      <th>2</th>\n",
       "      <th>3</th>\n",
       "      <th>4</th>\n",
       "    </tr>\n",
       "  </thead>\n",
       "  <tbody>\n",
       "    <tr>\n",
       "      <th>0</th>\n",
       "      <td>331.640</td>\n",
       "      <td>411.586</td>\n",
       "      <td>356.212</td>\n",
       "      <td>402.042</td>\n",
       "      <td>364.597</td>\n",
       "    </tr>\n",
       "    <tr>\n",
       "      <th>1</th>\n",
       "      <td>246.828</td>\n",
       "      <td>354.039</td>\n",
       "      <td>294.013</td>\n",
       "      <td>184.752</td>\n",
       "      <td>293.547</td>\n",
       "    </tr>\n",
       "    <tr>\n",
       "      <th>2</th>\n",
       "      <td>362.868</td>\n",
       "      <td>438.202</td>\n",
       "      <td>367.171</td>\n",
       "      <td>359.592</td>\n",
       "      <td>379.418</td>\n",
       "    </tr>\n",
       "    <tr>\n",
       "      <th>3</th>\n",
       "      <td>288.224</td>\n",
       "      <td>352.568</td>\n",
       "      <td>312.076</td>\n",
       "      <td>307.301</td>\n",
       "      <td>326.313</td>\n",
       "    </tr>\n",
       "    <tr>\n",
       "      <th>4</th>\n",
       "      <td>312.770</td>\n",
       "      <td>292.112</td>\n",
       "      <td>279.135</td>\n",
       "      <td>416.521</td>\n",
       "      <td>373.754</td>\n",
       "    </tr>\n",
       "  </tbody>\n",
       "</table>\n",
       "</div>"
      ],
      "text/plain": [
       "         0        1        2        3        4\n",
       "0  331.640  411.586  356.212  402.042  364.597\n",
       "1  246.828  354.039  294.013  184.752  293.547\n",
       "2  362.868  438.202  367.171  359.592  379.418\n",
       "3  288.224  352.568  312.076  307.301  326.313\n",
       "4  312.770  292.112  279.135  416.521  373.754"
      ]
     },
     "execution_count": 58,
     "metadata": {},
     "output_type": "execute_result"
    }
   ],
   "source": [
    "combined2_reduced.head()"
   ]
  },
  {
   "cell_type": "markdown",
   "metadata": {},
   "source": [
    "### Classifiers"
   ]
  },
  {
   "cell_type": "code",
   "execution_count": 51,
   "metadata": {
    "collapsed": true
   },
   "outputs": [],
   "source": [
    "# Leave one Out cross validation\n",
    "def leave_one_out(classifier, values, labels):\n",
    "    leave_one_out_validator = LeaveOneOut(len(values))\n",
    "    classifier_metrics = cross_validation.cross_val_score(classifier, values, labels, cv=leave_one_out_validator)\n",
    "    accuracy = classifier_metrics.mean()\n",
    "    deviation = classifier_metrics.std()\n",
    "    return accuracy, deviation"
   ]
  },
  {
   "cell_type": "code",
   "execution_count": 52,
   "metadata": {
    "collapsed": false
   },
   "outputs": [
    {
     "name": "stdout",
     "output_type": "stream",
     "text": [
      "Random Forest accuracy is 0.7750 (+/- 0.418)\n",
      "LDA accuracy is 0.8092 (+/- 0.393)\n",
      "QDA accuracy is 0.8007 (+/- 0.399)\n",
      "Gaussian NB accuracy is 0.8092 (+/- 0.393)\n"
     ]
    }
   ],
   "source": [
    "rf = RandomForestClassifier(n_estimators = 22) \n",
    "qda = QDA()\n",
    "lda = LDA()\n",
    "gnb = GaussianNB()\n",
    "classifier_accuracy_list = []\n",
    "classifiers = [(rf, \"Random Forest\"), (lda, \"LDA\"), (qda, \"QDA\"), (gnb, \"Gaussian NB\")]\n",
    "for classifier, name in classifiers:\n",
    "    accuracy, deviation = leave_one_out(classifier, combined1_reduced, clabels1)\n",
    "    print '%s accuracy is %0.4f (+/- %0.3f)' % (name, accuracy, deviation)\n",
    "    classifier_accuracy_list.append((name, accuracy))"
   ]
  },
  {
   "cell_type": "code",
   "execution_count": 53,
   "metadata": {
    "collapsed": false
   },
   "outputs": [
    {
     "name": "stdout",
     "output_type": "stream",
     "text": [
      "Random Forest accuracy is 0.7836 (+/- 0.412)\n",
      "LDA accuracy is 0.8092 (+/- 0.393)\n",
      "QDA accuracy is 0.8007 (+/- 0.399)\n",
      "Gaussian NB accuracy is 0.8092 (+/- 0.393)\n"
     ]
    }
   ],
   "source": [
    "for classifier, name in classifiers:\n",
    "    accuracy, deviation = leave_one_out(classifier, combined1_scaled_reduced, clabels1)\n",
    "    print '%s accuracy is %0.4f (+/- %0.3f)' % (name, accuracy, deviation)\n",
    "    classifier_accuracy_list.append((name, accuracy))"
   ]
  },
  {
   "cell_type": "code",
   "execution_count": 54,
   "metadata": {
    "collapsed": false
   },
   "outputs": [
    {
     "name": "stdout",
     "output_type": "stream",
     "text": [
      "Random Forest accuracy is 0.7896 (+/- 0.408)\n",
      "LDA accuracy is 0.8092 (+/- 0.393)\n",
      "QDA accuracy is 0.8007 (+/- 0.399)\n",
      "Gaussian NB accuracy is 0.8092 (+/- 0.393)\n"
     ]
    }
   ],
   "source": [
    "for classifier, name in classifiers:\n",
    "    accuracy, deviation = leave_one_out(classifier, combined1_reduced_scaled, clabels1)\n",
    "    print '%s accuracy is %0.4f (+/- %0.3f)' % (name, accuracy, deviation)\n",
    "    classifier_accuracy_list.append((name, accuracy))"
   ]
  },
  {
   "cell_type": "code",
   "execution_count": 55,
   "metadata": {
    "collapsed": false
   },
   "outputs": [
    {
     "name": "stdout",
     "output_type": "stream",
     "text": [
      "Random Forest accuracy is 0.7295 (+/- 0.444)\n",
      "LDA accuracy is 0.7756 (+/- 0.417)\n",
      "QDA accuracy is 0.7733 (+/- 0.419)\n",
      "Gaussian NB accuracy is 0.7185 (+/- 0.450)\n"
     ]
    }
   ],
   "source": [
    "for classifier, name in classifiers:\n",
    "    accuracy, deviation = leave_one_out(classifier, combined2_reduced, clabels2)\n",
    "    print '%s accuracy is %0.4f (+/- %0.3f)' % (name, accuracy, deviation)\n",
    "    classifier_accuracy_list.append((name, accuracy))"
   ]
  },
  {
   "cell_type": "code",
   "execution_count": 56,
   "metadata": {
    "collapsed": false
   },
   "outputs": [
    {
     "name": "stdout",
     "output_type": "stream",
     "text": [
      "Random Forest accuracy is 0.7396 (+/- 0.439)\n",
      "LDA accuracy is 0.7756 (+/- 0.417)\n",
      "QDA accuracy is 0.7733 (+/- 0.419)\n",
      "Gaussian NB accuracy is 0.7185 (+/- 0.450)\n"
     ]
    }
   ],
   "source": [
    "for classifier, name in classifiers:\n",
    "    accuracy, deviation = leave_one_out(classifier, combined2_scaled_reduced, clabels2)\n",
    "    print '%s accuracy is %0.4f (+/- %0.3f)' % (name, accuracy, deviation)\n",
    "    classifier_accuracy_list.append((name, accuracy))"
   ]
  },
  {
   "cell_type": "code",
   "execution_count": 57,
   "metadata": {
    "collapsed": false
   },
   "outputs": [
    {
     "name": "stdout",
     "output_type": "stream",
     "text": [
      "Random Forest accuracy is 0.7287 (+/- 0.445)\n",
      "LDA accuracy is 0.7756 (+/- 0.417)\n",
      "QDA accuracy is 0.7733 (+/- 0.419)\n",
      "Gaussian NB accuracy is 0.7185 (+/- 0.450)\n"
     ]
    }
   ],
   "source": [
    "for classifier, name in classifiers:\n",
    "    accuracy, deviation = leave_one_out(classifier, combined2_reduced_scaled, clabels2)\n",
    "    print '%s accuracy is %0.4f (+/- %0.3f)' % (name, accuracy, deviation)\n",
    "    classifier_accuracy_list.append((name, accuracy))"
   ]
  },
  {
   "cell_type": "code",
   "execution_count": null,
   "metadata": {
    "collapsed": true
   },
   "outputs": [],
   "source": []
  }
 ],
 "metadata": {
  "kernelspec": {
   "display_name": "Python 2",
   "language": "python",
   "name": "python2"
  },
  "language_info": {
   "codemirror_mode": {
    "name": "ipython",
    "version": 2
   },
   "file_extension": ".py",
   "mimetype": "text/x-python",
   "name": "python",
   "nbconvert_exporter": "python",
   "pygments_lexer": "ipython2",
   "version": "2.7.6"
  }
 },
 "nbformat": 4,
 "nbformat_minor": 0
}
