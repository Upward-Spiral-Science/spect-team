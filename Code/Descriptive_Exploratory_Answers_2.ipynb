{
 "cells": [
  {
   "cell_type": "code",
   "execution_count": 172,
   "metadata": {
    "collapsed": false
   },
   "outputs": [],
   "source": [
    "import pandas as pd\n",
    "import numpy as np\n",
    "\n",
    "# The columns of disorders are extracted using the split.py in /utils folder. There are 2796 rows left.\n",
    "# All rows that has NaNs are dropped. This file contains only disoders along with corresponding patient ID.\n",
    "# The rows of the dataframe extracted from the disorders.csv are indexed by the Patient_IDs.\n",
    "df_disorders = pd.DataFrame.from_csv('disorders.csv')\n",
    "\n",
    "# Extract patient IDs\n",
    "patient_ids = df_disorders.index.tolist()"
   ]
  },
  {
   "cell_type": "markdown",
   "metadata": {},
   "source": [
    "### Descriptive\n",
    "- What kind of labels are we going to extract? What will be yi?"
   ]
  },
  {
   "cell_type": "markdown",
   "metadata": {},
   "source": [
    "For starters, a simple learning goal would be to separate healthy participants from the unhealthy ones.\n",
    "Here we identify those who are diagnosed with no disorders as the healty partipants, and assign such patient records with label of value 1, the remaining records are assigned label 0.\n",
    "\n",
    "Therefore to answer the question above, our labels at the initial stage are binary, indicating whether a participant is healthy (has no disorders) or not."
   ]
  },
  {
   "cell_type": "code",
   "execution_count": 117,
   "metadata": {
    "collapsed": false
   },
   "outputs": [
    {
     "name": "stdout",
     "output_type": "stream",
     "text": [
      "There are 50 healthy participants.\n",
      "\n",
      "Their Patient_IDs are [792951749, 1352837869, 351767390, 385736291, 1073135719, 2147375616, 1063681694, 1740434093, 643203234, 1412312752, 787197016, 1397640254, 2006204394, 882339396, 1733021018, 2141528074, 2147375576, 898779271, 457650554, 1089994190, 874166793, 921301480, 708633347, 132445998, 1392520338, 523669933, 95466200, 2147375992, 1899420078, 1154083442, 1136199638, 2147375509, 704315387, 261535778, 1733338065, 2146819728, 416826989, 1274042226, 1931808785, 605252192, 1192925290, 1886482913, 230205983, 54081174, 2024686590, 2147375794, 90309090, 1627824129, 1201846788, 129776326]\n",
      "\n",
      "For the records above, label y_i=1 (healthy), for all the other records, y_i=0 (mentally disordered).\n"
     ]
    }
   ],
   "source": [
    "# Ignore different types of ADHD for now\n",
    "df_disorder_results = df_disorders.drop('ADHD_Type', inplace=False, axis=1)\n",
    "\n",
    "# Find records that has zero values across all the columns (disorders)\n",
    "# Extract a list of Patient_IDs corresponding to healthy participants\n",
    "healthy_ids = df_disorder_results[(df_disorder_results.T==0).all()].index.tolist()\n",
    "\n",
    "print 'There are %d healthy participants.\\n' % len(healthy_ids)\n",
    "print 'Their Patient_IDs are', healthy_ids\n",
    "print '\\nFor the records above, label y_i=1 (healthy), for all the other records, y_i=0 (mentally disordered).'"
   ]
  },
  {
   "cell_type": "code",
   "execution_count": 118,
   "metadata": {
    "collapsed": false
   },
   "outputs": [
    {
     "name": "stdout",
     "output_type": "stream",
     "text": [
      "Finish constructing label vector for healthy/unhealthy.\n"
     ]
    }
   ],
   "source": [
    "# Now constuct the label vector y \n",
    "y = pd.Series([0] * len(df_disorders), index=patient_ids) \n",
    "y[healthy_ids] = 1 \n",
    "\n",
    "print 'Finish constructing label vector for healthy/unhealthy.'"
   ]
  },
  {
   "cell_type": "markdown",
   "metadata": {},
   "source": [
    "\n",
    "### Exploratory\n",
    "\n",
    "- What is the sole metric that can be used to separate healthy people from unhealthy people?"
   ]
  },
  {
   "cell_type": "markdown",
   "metadata": {},
   "source": [
    "As shown in the label construction procedure above, our sole metric for identifying a person as healthy is: the record (row) for such person has 0 values for all disorders (across all disorder columns)."
   ]
  },
  {
   "cell_type": "markdown",
   "metadata": {},
   "source": [
    "- What is the range of values nominal features can take?"
   ]
  },
  {
   "cell_type": "code",
   "execution_count": 176,
   "metadata": {
    "collapsed": false
   },
   "outputs": [
    {
     "name": "stdout",
     "output_type": "stream",
     "text": [
      "Nominal features are ['RaceName', 'Age_Group', 'STUDY_NAME', 'BSC_Respondent', 'ADHD_Type', 'locationname', 'LDS_Respondent', 'GSC_Respondent', 'group_name', 'Gendername']\n"
     ]
    }
   ],
   "source": [
    "# Read full dataset\n",
    "df_all = pd.DataFrame.from_csv('Data_Adults_1.csv')\n",
    "\n",
    "# Extract non-numerical features\n",
    "non_num_keys = [key for key in dict(df_all.dtypes) if dict(df_all.dtypes)[key] not in ['float', 'int']]\n",
    "\n",
    "print 'Nominal features are', non_num_keys"
   ]
  },
  {
   "cell_type": "code",
   "execution_count": 184,
   "metadata": {
    "collapsed": false
   },
   "outputs": [
    {
     "name": "stdout",
     "output_type": "stream",
     "text": [
      "Unique values for the nominal features:\n",
      "\n",
      "['African American          ' 'Arab/Middle Eastern       '\n",
      " 'Asian                     ' 'Asian/Caucasian           '\n",
      " 'Caucasian                 ' 'Caucasian/African American'\n",
      " 'Caucasian/Hispanic        ' 'Caucasian/Native American '\n",
      " 'Declined                  ' 'Hispanic                  '\n",
      " 'Hispanic/African American ' 'Hispanic/Native American  '\n",
      " 'Indian                    ' 'Native American/Eskimo    '\n",
      " 'Other                     ' 'Unknown                   ']\n",
      "['Adult    ' 'Geriatric' 'Pediatric']\n",
      "['BigLove']\n",
      "['      ' 'Other ' 'Parent' 'Self  ' 'Spouse']\n",
      "['                  ' 'Asymptomatic      ' 'Combined Type     '\n",
      " 'Hyperactive       ' 'Inattentive       ' 'Mostly Impulsive  '\n",
      " 'Mostly Inattentive' 'Undetermined      ']\n",
      "['Atlanta      ' 'Bellevue     ' 'Brisbane     ' 'Fairfield    '\n",
      " 'Mind Matters ' 'New York     ' 'Newport Beach' 'Not Specified'\n",
      " 'Reston       ' 'Sierra Tucson' 'Tacoma       ']\n",
      "['      ' 'Mother' 'Other ' 'Parent' 'Self  ' 'Spouse']\n",
      "['      ' 'Mother' 'Other ' 'Parent' 'Self  ' 'Spouse']\n",
      "['Adults        ' 'Healthy Brains']\n",
      "['Female ' 'Male   ' 'Unknown']\n"
     ]
    }
   ],
   "source": [
    "print 'Unique values for the nominal features:\\n'\n",
    "print np.unique(df_all['RaceName'])\n",
    "print np.unique(df_all['Age_Group'])\n",
    "print np.unique(df_all['STUDY_NAME'])\n",
    "print np.unique(df_all['BSC_Respondent'])\n",
    "print np.unique(df_all['ADHD_Type'])\n",
    "print np.unique(df_all['locationname'])\n",
    "print np.unique(df_all['LDS_Respondent'])\n",
    "print np.unique(df_all['GSC_Respondent'])\n",
    "print np.unique(df_all['group_name'])\n",
    "print np.unique(df_all['Gendername'])"
   ]
  },
  {
   "cell_type": "markdown",
   "metadata": {},
   "source": [
    "In order not to comfuse our future model, here for certain types of features, we avoid using one value to denote different categories a variable can take, instead, we want to encode them into small one-hot vectors.\n",
    "\n",
    "Note that we do not take null values into consideration for now.\n",
    "\n",
    "Range of values for the nominal features:\n",
    "\n",
    "1) RaceName: This can be encoded into a one-hot vector of length 16. For example, 'African American' will be encoded into [1]+[0]*15 (python grammar), with the value at index 0 set to 1, the rest of 15 elements of the vector are 0. 'Asian' takes value of 1 at index 2, 'Unknown' takes value of 1 at index 15, etc.\n",
    "\n",
    "\n",
    "2) Age_Group: This can be represented by scales, where Adult=2, Geriatric=3, Pediatric=1.\n",
    "\n",
    "\n",
    "3) STUDY_NAME: Only one name, can be removed from the dataset.\n",
    "\n",
    "\n",
    "4) BSC_Respondent, ADHD_Type, locationname, LDS_Respondent, GSC_Respondent can be encoded in the same way as RaceName, except that their vector lengths will be 4, 7, 11, 4, 4 respectively.\n",
    "\n",
    "\n",
    "5) group_name: We are not sure if this is just random group names or control group versus experimental group, this has to be decided after we get to look at data documentation. For the former case, it can be ignored. For the latter case, we will represent it using a binary indicator (0-1).\n",
    "\n",
    "\n",
    "6) Gender: Female=0, Male=1, Unknown=0.5 (maybe)."
   ]
  },
  {
   "cell_type": "markdown",
   "metadata": {},
   "source": [
    "- Are the features correlated?"
   ]
  },
  {
   "cell_type": "markdown",
   "metadata": {},
   "source": [
    "For feature correlation, since we do not have complete information about all column headers at this point, only correlation within baseline values and concentration values are analyzed."
   ]
  },
  {
   "cell_type": "code",
   "execution_count": 131,
   "metadata": {
    "collapsed": false
   },
   "outputs": [],
   "source": [
    "# Get baseline and concenctration data\n",
    "df_base = pd.DataFrame.from_csv('baseline.csv')\n",
    "df_concen = pd.DataFrame.from_csv('concentration.csv')\n",
    "\n",
    "# Use numpy matrix format (numerical)\n",
    "df_base_vals = df_base.values\n",
    "df_concen_vals = df_concen.values"
   ]
  },
  {
   "cell_type": "code",
   "execution_count": 169,
   "metadata": {
    "collapsed": false,
    "scrolled": true
   },
   "outputs": [
    {
     "name": "stdout",
     "output_type": "stream",
     "text": [
      "Perfect correlation exists in baselines? False\n",
      "Perfect correlation exists in concentrations? False\n"
     ]
    }
   ],
   "source": [
    "def check_perfect_corr(coeff):\n",
    "    # Fill diagonal with 0 (not comparing to oneself)\n",
    "    np.fill_diagonal(coeff, 0)\n",
    "    # Perfect correlation: 1 or -1\n",
    "    return coeff.max()==1 or coeff.min()==-1\n",
    "\n",
    "# Compute Pearson product-moment correlation coefficients\n",
    "# Check for perfect correlation row-wise and column-wise\n",
    "def pearson_corr_test(x):\n",
    "    # rowvar = 1: row-wise\n",
    "    # rowvar = 0: column-wise\n",
    "    row_coeff = np.corrcoef(x, y=None, rowvar=1)\n",
    "    col_coeff = np.corrcoef(x, y=None, rowvar=0)\n",
    "    \n",
    "    # Check for perfect correlation row-wise\n",
    "    row_corr = check_perfect_corr(row_coeff)\n",
    "    # Check for perfect correlation column-wise\n",
    "    col_corr = check_perfect_corr(col_coeff)\n",
    "    \n",
    "    return row_corr and col_corr \n",
    "    \n",
    "print 'Perfect correlation exists in baselines?', pearson_corr_test(df_base_vals)\n",
    "print 'Perfect correlation exists in concentrations?', pearson_corr_test(df_concen_vals)"
   ]
  },
  {
   "cell_type": "markdown",
   "metadata": {},
   "source": [
    "Therefore, within baseline data and concentration data, perfect correlation does not exist."
   ]
  },
  {
   "cell_type": "markdown",
   "metadata": {},
   "source": [
    "-  Are we able to identify outliers at this point?\n",
    "\n",
    "Currently we are unable to identify outliers for the following reasons:\n",
    "  1. We do not have the documentation to understand all the column headers (feature names).\n",
    "  2. We do not have enough information about the null values, especially when more than half of our samples and most of the columns contain null values."
   ]
  }
 ],
 "metadata": {
  "kernelspec": {
   "display_name": "Python 2",
   "language": "python",
   "name": "python2"
  },
  "language_info": {
   "codemirror_mode": {
    "name": "ipython",
    "version": 2
   },
   "file_extension": ".py",
   "mimetype": "text/x-python",
   "name": "python",
   "nbconvert_exporter": "python",
   "pygments_lexer": "ipython2",
   "version": "2.7.11"
  }
 },
 "nbformat": 4,
 "nbformat_minor": 0
}
