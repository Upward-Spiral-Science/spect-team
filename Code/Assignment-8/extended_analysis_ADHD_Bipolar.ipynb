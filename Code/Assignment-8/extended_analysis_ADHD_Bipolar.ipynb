{
 "cells": [
  {
   "cell_type": "code",
   "execution_count": 1,
   "metadata": {
    "collapsed": true
   },
   "outputs": [],
   "source": [
    "import pandas as pd\n",
    "import numpy as np\n",
    "\n",
    "df_patient = pd.read_csv('patient_info.csv')\n",
    "df_disorders = pd.read_csv('disorders.csv')\n",
    "df_questionnaire = pd.read_csv('questionnaire.csv')\n",
    "df_base_concen = pd.read_csv('base_concen.csv')"
   ]
  },
  {
   "cell_type": "markdown",
   "metadata": {},
   "source": [
    "### How many mutually exclusive ADHD samples and Bipolar samples do we have?"
   ]
  },
  {
   "cell_type": "code",
   "execution_count": 2,
   "metadata": {
    "collapsed": false
   },
   "outputs": [
    {
     "name": "stdout",
     "output_type": "stream",
     "text": [
      "Number of ADHD patients (without Bipolar) is 1040\n",
      "Number of Bipolar patients (without ADHD) is 307\n"
     ]
    }
   ],
   "source": [
    "c1, c2 = 0, 0\n",
    "adhd_id, bipolar_id = list(), list()\n",
    "\n",
    "for i, a, b in df_disorders[['Patient_ID', 'ADHD', 'Bipolar']].values:\n",
    "    if a == 1 and b == 0:\n",
    "        c1 += 1\n",
    "        adhd_id.append(i)\n",
    "    elif a == 0 and b == 1:\n",
    "        c2 += 1\n",
    "        bipolar_id.append(i)\n",
    "        \n",
    "print 'Number of ADHD patients (without Bipolar) is', c1\n",
    "print 'Number of Bipolar patients (without ADHD) is', c2"
   ]
  },
  {
   "cell_type": "code",
   "execution_count": 3,
   "metadata": {
    "collapsed": false
   },
   "outputs": [],
   "source": [
    "# Extract Learning Disablity Screening Questionnair data\n",
    "df_questionnaire.drop(['Patient_ID', 'LDS_Respondent'], axis=1, inplace=True)\n",
    "LDS_names = list()\n",
    "for col in df_questionnaire.columns:\n",
    "    if 'LDS' in col:\n",
    "        LDS_names.append(col)\n",
    "df_questionnaire = df_questionnaire[LDS_names]"
   ]
  },
  {
   "cell_type": "code",
   "execution_count": 4,
   "metadata": {
    "collapsed": false
   },
   "outputs": [],
   "source": [
    "# Get basic personal info and rCBF values\n",
    "df_patient = df_patient[['Age', 'Gender_id', 'race_id', 'location_id']]\n",
    "df_base_concen.drop(['Baseline_header_id', 'Concentration_header_id'], axis=1, inplace=True)\n",
    "df = pd.concat([df_patient, df_questionnaire, df_base_concen], axis=1)"
   ]
  },
  {
   "cell_type": "code",
   "execution_count": 5,
   "metadata": {
    "collapsed": false
   },
   "outputs": [
    {
     "data": {
      "text/plain": [
       "((1040, 457), (307, 457))"
      ]
     },
     "execution_count": 5,
     "metadata": {},
     "output_type": "execute_result"
    }
   ],
   "source": [
    "df_adhd = df.loc[df['Patient_ID'].isin(adhd_id)].drop(['Patient_ID'], axis=1)\n",
    "df_bipolar = df.loc[df['Patient_ID'].isin(bipolar_id)].drop(['Patient_ID'], axis=1)\n",
    "\n",
    "df_adhd.shape, df_bipolar.shape"
   ]
  }
 ],
 "metadata": {
  "kernelspec": {
   "display_name": "Python 2",
   "language": "python",
   "name": "python2"
  },
  "language_info": {
   "codemirror_mode": {
    "name": "ipython",
    "version": 2
   },
   "file_extension": ".py",
   "mimetype": "text/x-python",
   "name": "python",
   "nbconvert_exporter": "python",
   "pygments_lexer": "ipython2",
   "version": "2.7.11"
  }
 },
 "nbformat": 4,
 "nbformat_minor": 0
}
