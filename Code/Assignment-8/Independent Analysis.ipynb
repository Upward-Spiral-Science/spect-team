{
 "cells": [
  {
   "cell_type": "markdown",
   "metadata": {},
   "source": [
    "## Independent Analysis - Srinivas (handle: thewickedaxe)\n",
    "** PLEASE SCROLL TO THE BOTTOM OF THE NOTEBOOK TO FIND THE QUESTIONS AND THEIR ANSWERS**"
   ]
  },
  {
   "cell_type": "markdown",
   "metadata": {},
   "source": [
    "### Initial Data Cleaning"
   ]
  },
  {
   "cell_type": "code",
   "execution_count": 3,
   "metadata": {
    "collapsed": false,
    "scrolled": true
   },
   "outputs": [
    {
     "name": "stdout",
     "output_type": "stream",
     "text": [
      "Is there any NaNs in the clean records? False\n",
      "(3007, 624)\n"
     ]
    }
   ],
   "source": [
    "# Standard\n",
    "import pandas as pd\n",
    "import numpy as np\n",
    "%matplotlib inline\n",
    "import matplotlib.pyplot as plt\n",
    "\n",
    "# Dimensionality reduction and Clustering\n",
    "from sklearn.decomposition import PCA\n",
    "from sklearn.cluster import KMeans\n",
    "from sklearn.cluster import MeanShift, estimate_bandwidth\n",
    "from itertools import cycle\n",
    "\n",
    "# Plotting tools and classifiers\n",
    "from matplotlib.colors import ListedColormap\n",
    "from sklearn.linear_model import LogisticRegression\n",
    "from sklearn.cross_validation import train_test_split\n",
    "from sklearn.preprocessing import StandardScaler\n",
    "from sklearn.datasets import make_moons, make_circles, make_classification\n",
    "from sklearn.neighbors import KNeighborsClassifier\n",
    "from sklearn.svm import SVC\n",
    "from sklearn.tree import DecisionTreeClassifier\n",
    "from sklearn.ensemble import RandomForestClassifier, AdaBoostClassifier\n",
    "from sklearn.naive_bayes import GaussianNB\n",
    "from sklearn.discriminant_analysis import LinearDiscriminantAnalysis as LDA\n",
    "from sklearn.discriminant_analysis import QuadraticDiscriminantAnalysis as QDA\n",
    "from sklearn import cross_validation\n",
    "from sklearn.cross_validation import LeaveOneOut\n",
    "\n",
    "\n",
    "# Let's read the data in and clean it\n",
    "\n",
    "def row_summary(df):\n",
    "    featNames = list(df.columns.get_values()) \n",
    "    row_summary = df.isnull().sum(axis=1)\n",
    "    nan_row_inds = list()\n",
    "    for i, x in enumerate(row_summary):\n",
    "        if x > 0: nan_row_inds.append(i)\n",
    "    return nan_row_inds\n",
    "\n",
    "def clean_records(df):\n",
    "    nan_row_inds = row_summary(df)\n",
    "    clean_df = df.drop(df.index[nan_row_inds], inplace=False)     \n",
    "    print 'Is there any NaNs in the clean records?', clean_df.isnull().values.any()    \n",
    "    return clean_df\n",
    "\n",
    "df = pd.DataFrame.from_csv('Data_Adults_1_reduced.csv')\n",
    "clean_df = clean_records(df)\n",
    "\n",
    "# Let's also get rid of nominal data\n",
    "numerics = ['int16', 'int32', 'int64', 'float16', 'float32', 'float64']\n",
    "X = clean_df.select_dtypes(include=numerics)\n",
    "print X.shape"
   ]
  },
  {
   "cell_type": "markdown",
   "metadata": {},
   "source": [
    "By throwing out GSC responses we salvaged around 200 records,\n",
    "The rationale behind this I examined the GSC, BSC and LDS questions and realized most of what GSC looks at is and is relevant is caught in the other 2 surveys."
   ]
  },
  {
   "cell_type": "code",
   "execution_count": 4,
   "metadata": {
    "collapsed": false
   },
   "outputs": [
    {
     "name": "stdout",
     "output_type": "stream",
     "text": [
      "(3007, 618)\n",
      "(2976, 618)\n"
     ]
    }
   ],
   "source": [
    "# Let's now clean columns getting rid of certain columns that might not be important to our analysis\n",
    "\n",
    "cols2drop = ['GROUP_ID', 'doa', 'Baseline_header_id', 'Concentration_header_id',\n",
    "             'Baseline_Reading_id', 'Concentration_Reading_id']\n",
    "X = X.drop(cols2drop, axis=1, inplace=False)\n",
    "print X.shape\n",
    "\n",
    "# For our studies children skew the data, it would be cleaner to just analyse adults\n",
    "X = X.loc[X['Age'] >= 18]\n",
    "\n",
    "print X.shape"
   ]
  },
  {
   "cell_type": "markdown",
   "metadata": {},
   "source": [
    "we've now dropped the last of the discrete numerical inexplicable data, and removed children from the mix"
   ]
  },
  {
   "cell_type": "markdown",
   "metadata": {},
   "source": [
    "### Extracting the samples we are interested in"
   ]
  },
  {
   "cell_type": "code",
   "execution_count": 5,
   "metadata": {
    "collapsed": false
   },
   "outputs": [],
   "source": [
    "# Let's extract ADHd and Bipolar patients (mutually exclusive)\n",
    "\n",
    "ADHD = X.loc[X['ADHD'] == 1]\n",
    "ADHD = ADHD.loc[ADHD['Bipolar'] == 0]\n",
    "\n",
    "BP = X.loc[X['Bipolar'] == 1]\n",
    "BP = BP.loc[BP['ADHD'] == 0]\n",
    "\n",
    "# Keeping a backup of the data frame object because numpy arrays don't play well with certain scikit functions\n",
    "ADHD_df = ADHD\n",
    "BP_df = BP\n",
    "ADHD = ADHD.drop(['Patient_ID'], axis = 1, inplace = False)\n",
    "BP = BP.drop(['Patient_ID'], axis = 1, inplace = False)"
   ]
  },
  {
   "cell_type": "markdown",
   "metadata": {},
   "source": [
    "we see here that there 1110 people who have ADHD but are not Bipolar and 329 people who are Bipolar but do not have ADHD"
   ]
  },
  {
   "cell_type": "markdown",
   "metadata": {},
   "source": [
    "### Dimensionality reduction"
   ]
  },
  {
   "cell_type": "code",
   "execution_count": 6,
   "metadata": {
    "collapsed": false
   },
   "outputs": [
    {
     "name": "stdout",
     "output_type": "stream",
     "text": [
      "0.947804202921\n",
      "0.945813229464\n",
      "(1101, 24)\n",
      "(329, 24)\n",
      "(1101, 25)\n",
      "(329, 25)\n"
     ]
    }
   ],
   "source": [
    "pca = PCA(n_components = 24, whiten = \"True\").fit(ADHD)\n",
    "ADHD = pca.transform(ADHD)\n",
    "print sum(pca.explained_variance_ratio_)\n",
    "\n",
    "pca = PCA(n_components = 24, whiten = \"True\").fit(BP)\n",
    "BP = pca.transform(BP)\n",
    "print sum(pca.explained_variance_ratio_)\n",
    "\n",
    "print ADHD.shape\n",
    "print BP.shape\n",
    "\n",
    "ADHD_reduced_df = pd.DataFrame(ADHD)\n",
    "\n",
    "BP_reduced_df = pd.DataFrame(BP)\n",
    "\n",
    "ADHD_reduced_df['Patient_ID'] = 123\n",
    "BP_reduced_df['Patient_ID'] = 123\n",
    "\n",
    "print ADHD_reduced_df.shape\n",
    "print BP_reduced_df.shape\n",
    "\n",
    "# resorting to some hacky crap, that I am ashamed to write, but pandas is refusing to cooperate\n",
    "z = []\n",
    "for x in BP_df['Patient_ID']:\n",
    "    z.append(x)\n",
    "BP_reduced_df['Patient_ID'] = z\n",
    "\n",
    "z = []\n",
    "for x in ADHD_df['Patient_ID']:\n",
    "    z.append(x)\n",
    "ADHD_reduced_df['Patient_ID'] = z"
   ]
  },
  {
   "cell_type": "markdown",
   "metadata": {},
   "source": [
    "We see here that most of the variance is preserved with just 24 features. "
   ]
  },
  {
   "cell_type": "markdown",
   "metadata": {},
   "source": [
    "### Clustering and other grouping experiments"
   ]
  },
  {
   "cell_type": "markdown",
   "metadata": {},
   "source": [
    "#### Mean-Shift"
   ]
  },
  {
   "cell_type": "code",
   "execution_count": 7,
   "metadata": {
    "collapsed": false
   },
   "outputs": [],
   "source": [
    "ADHD_clust = pd.DataFrame(ADHD)\n",
    "BP_clust = pd.DataFrame(BP)\n",
    "\n",
    "# This is a consequence of how we dropped columns, I apologize for the hacky code \n",
    "data = pd.concat([ADHD_clust, BP_clust])\n",
    "\n",
    "# Let's see what happens with Mean Shift clustering\n",
    "bandwidth = estimate_bandwidth(data.get_values(), quantile=0.9, n_samples=1430) * 1.1\n",
    "ms = MeanShift(bandwidth=bandwidth)\n",
    "ms.fit(data.get_values())\n",
    "labels = ms.labels_"
   ]
  },
  {
   "cell_type": "code",
   "execution_count": 8,
   "metadata": {
    "collapsed": false
   },
   "outputs": [
    {
     "name": "stdout",
     "output_type": "stream",
     "text": [
      "Estimated number of clusters: 2\n"
     ]
    }
   ],
   "source": [
    "cluster_centers = ms.cluster_centers_\n",
    "labels_unique = np.unique(labels)\n",
    "n_clusters_ = len(labels_unique)\n",
    "print('Estimated number of clusters: %d' % n_clusters_)"
   ]
  },
  {
   "cell_type": "code",
   "execution_count": 9,
   "metadata": {
    "collapsed": false
   },
   "outputs": [
    {
     "data": {
      "image/png": "[encoded data removed]",
      "text/plain": [
       "<matplotlib.figure.Figure at 0x7f7ac0f78790>"
      ]
     },
     "metadata": {},
     "output_type": "display_data"
    }
   ],
   "source": [
    "for i in range(n_clusters_):\n",
    "    # Extract observations within each cluster\n",
    "    ds = data.get_values()[np.where(labels==i)]\n",
    "    # Plot the observations with symbol o\n",
    "    plt.plot(ds[:,0], ds[:,1], 'o')\n",
    "    # Plot the centroids with simbol x\n",
    "    lines = plt.plot(cluster_centers[i,0], cluster_centers[i,1], 'x')\n",
    "    plt.setp(lines, ms=8.0)\n",
    "    plt.setp(lines, mew=2.0)"
   ]
  },
  {
   "cell_type": "markdown",
   "metadata": {},
   "source": [
    "Though I'm not sure how to tweak the hyper-parameters of the bandwidth estimation function, there doesn't seem to be much difference. Minute variations to the bandwidth result in large cluster differences. Perhaps the data isn't very suitable for a contrived clustering technique like Mean-Shift. Therefore let us attempt something more naive and simplistic like K-Means"
   ]
  },
  {
   "cell_type": "markdown",
   "metadata": {},
   "source": [
    "#### K-Means clustering"
   ]
  },
  {
   "cell_type": "code",
   "execution_count": 10,
   "metadata": {
    "collapsed": false
   },
   "outputs": [
    {
     "name": "stdout",
     "output_type": "stream",
     "text": [
      "Estimated number of clusters: 2\n",
      "(1430, 24)\n"
     ]
    }
   ],
   "source": [
    "kmeans = KMeans(n_clusters=2)\n",
    "kmeans.fit(data.get_values())\n",
    "labels = kmeans.labels_\n",
    "centroids = kmeans.cluster_centers_\n",
    "print('Estimated number of clusters: %d' % len(centroids))\n",
    "print data.shape"
   ]
  },
  {
   "cell_type": "code",
   "execution_count": 11,
   "metadata": {
    "collapsed": false
   },
   "outputs": [
    {
     "data": {
      "image/png": "[encoded data removed]",
      "text/plain": [
       "<matplotlib.figure.Figure at 0x7f7ac0df3a10>"
      ]
     },
     "metadata": {},
     "output_type": "display_data"
    }
   ],
   "source": [
    "for i in range(2):\n",
    "    # Extract observations within each cluster\n",
    "    ds = data.get_values()[np.where(labels==i)]\n",
    "    # Plot the observations with symbol o\n",
    "    plt.plot(ds[:,0], ds[:,1], 'o')\n",
    "    # Plot the centroids with simbol x\n",
    "    lines = plt.plot(centroids[i,0], centroids[i,1], 'x')\n",
    "    plt.setp(lines, ms=8.0)\n",
    "    plt.setp(lines, mew=2.0)"
   ]
  },
  {
   "cell_type": "markdown",
   "metadata": {},
   "source": [
    "As is evident from the above 2 experiments, no clear clustering is apparent.But there is some significant overlap and there 2 clear groups"
   ]
  },
  {
   "cell_type": "markdown",
   "metadata": {},
   "source": [
    "### Classification Experiments"
   ]
  },
  {
   "cell_type": "markdown",
   "metadata": {},
   "source": [
    "Let's experiment with a bunch of classifiers"
   ]
  },
  {
   "cell_type": "code",
   "execution_count": 12,
   "metadata": {
    "collapsed": true
   },
   "outputs": [],
   "source": [
    "# support methods\n",
    "# Train the given classifier\n",
    "def train_clf(clf, train_feats, train_labels):\n",
    "    # Supervised training\n",
    "    clf.fit(train_feats, train_labels)\n",
    "    \n",
    "# Test the given classifier anc calculate accuracy\n",
    "def test_clf(clf, test_feats, test_labels):\n",
    "    # Predict using test set\n",
    "    predicted = clf.predict(test_feats)\n",
    "    # Compute accuracy\n",
    "    acc = np.mean(predicted == test_labels)\n",
    "    return predicted, acc\n",
    "\n",
    "# Compute accuracy of a model trained with a specific number (n) of samples \n",
    "def compute_acc(clf, n):\n",
    "    train_clf(clf, train_X[:n], train_y[:n])\n",
    "    predict_y, acc = test_clf(clf, test_X, test_y)\n",
    "    return acc\n",
    "\n",
    "# Leave one out cross validation\n",
    "def loo_cv(clf, X, y):\n",
    "    loo = LeaveOneOut(len(X))\n",
    "    scores = cross_validation.cross_val_score(clf, X, y, cv=loo)\n",
    "    return scores.mean(), scores.std()"
   ]
  },
  {
   "cell_type": "code",
   "execution_count": 14,
   "metadata": {
    "collapsed": false
   },
   "outputs": [
    {
     "name": "stdout",
     "output_type": "stream",
     "text": [
      "(1430, 25)\n"
     ]
    }
   ],
   "source": [
    "BP_reduced_df['ADHD-Bipolar'] = 0\n",
    "ADHD_reduced_df['ADHD-Bipolar'] = 1\n",
    "\n",
    "data = pd.concat([ADHD_reduced_df, BP_reduced_df])\n",
    "class_labels = data['ADHD-Bipolar']\n",
    "data = data.drop(['ADHD-Bipolar'], axis = 1, inplace = False)\n",
    "print data.shape\n",
    "data = data.get_values()"
   ]
  },
  {
   "cell_type": "code",
   "execution_count": 15,
   "metadata": {
    "collapsed": false
   },
   "outputs": [],
   "source": [
    "# Logistic Regression\n",
    "lg = LogisticRegression(penalty='l2')\n",
    "acc_lg, acc_std_lg = loo_cv(lg, data, class_labels)\n",
    "\n",
    "# K Nearest Neighbors\n",
    "knn = KNeighborsClassifier(n_neighbors=7)\n",
    "acc_knn, acc_std_knn = loo_cv(knn, data, class_labels)\n",
    "\n",
    "# Support Vector Machine\n",
    "svc = SVC(gamma=2, C=1)\n",
    "acc_svm, acc_std_svm = loo_cv(svc, data, class_labels)\n",
    "\n",
    "# Random Forest\n",
    "rf = RandomForestClassifier(n_estimators=20) \n",
    "acc_rf, acc_std_rf = loo_cv(rf, data, class_labels)\n",
    "\n",
    "# Random Forest\n",
    "dt = DecisionTreeClassifier(max_depth = 20) \n",
    "acc_dt, acc_std_dt = loo_cv(dt, data, class_labels)\n",
    "\n",
    "# Quadratic Discriminant Analysis\n",
    "qda = QDA()\n",
    "acc_qda, acc_std_qda = loo_cv(qda, data, class_labels)\n",
    "\n",
    "# Gaussian Naive Bayes\n",
    "gnb = GaussianNB()\n",
    "acc_gnb, acc_std_gnb = loo_cv(gnb, data, class_labels)"
   ]
  },
  {
   "cell_type": "code",
   "execution_count": 16,
   "metadata": {
    "collapsed": false
   },
   "outputs": [
    {
     "name": "stdout",
     "output_type": "stream",
     "text": [
      "Logistic Regression accuracy is 0.7699 (+/- 0.421)\n",
      "K Nearest Neighbors accuracy is 0.7364 (+/- 0.441)\n",
      "Support Vector Machine accuracy is 0.7699 (+/- 0.421)\n",
      "Random Forest accuracy is 0.7559 (+/- 0.430)\n",
      "Decision tree accuracy is 0.6531 (+/- 0.476)\n",
      "Quadratic Discriminant Analysis accuracy is 0.7119 (+/- 0.453)\n",
      "Gaussian NB accuracy is 0.7699 (+/- 0.421)\n"
     ]
    }
   ],
   "source": [
    "print 'Logistic Regression accuracy is %0.4f (+/- %0.3f)' % (acc_lg, acc_std_lg)\n",
    "print 'K Nearest Neighbors accuracy is %0.4f (+/- %0.3f)' % (acc_knn, acc_std_knn)\n",
    "print 'Support Vector Machine accuracy is %0.4f (+/- %0.3f)' % (acc_svm, acc_std_svm)\n",
    "print 'Random Forest accuracy is %0.4f (+/- %0.3f)' % (acc_rf, acc_std_rf)\n",
    "print 'Decision tree accuracy is %0.4f (+/- %0.3f)' % (acc_dt, acc_std_dt)\n",
    "print 'Quadratic Discriminant Analysis accuracy is %0.4f (+/- %0.3f)' % (acc_qda, acc_std_qda)\n",
    "print 'Gaussian NB accuracy is %0.4f (+/- %0.3f)' % (acc_gnb, acc_std_gnb)"
   ]
  },
  {
   "cell_type": "code",
   "execution_count": 18,
   "metadata": {
    "collapsed": false
   },
   "outputs": [
    {
     "data": {
      "text/plain": [
       "<matplotlib.text.Text at 0x7f7af0230910>"
      ]
     },
     "execution_count": 18,
     "metadata": {},
     "output_type": "execute_result"
    },
    {
     "data": {
      "image/png": "[encoded data removed]",
      "text/plain": [
       "<matplotlib.figure.Figure at 0x7f7ac0d38f50>"
      ]
     },
     "metadata": {},
     "output_type": "display_data"
    }
   ],
   "source": [
    "from __future__ import division\n",
    "\n",
    "# Visualize classifier performance\n",
    "acc = [acc_lg, acc_knn, acc_svm, acc_rf, acc_dt, acc_qda, acc_gnb]\n",
    "clf_names = ['Logistic Regression', 'KNN', 'SVM', 'Random Forest', 'Decision Tree', \\\n",
    "             'QDA', 'GaussianNB']\n",
    "x = range(len(acc))\n",
    "\n",
    "width = 0.6/1.5\n",
    "plt.bar(x, acc, width)\n",
    "\n",
    "plt.title('Classifier Performance')\n",
    "plt.xticks(x, clf_names, rotation=50)\n",
    "plt.ylabel('Accuracy')"
   ]
  },
  {
   "cell_type": "markdown",
   "metadata": {},
   "source": [
    "### Questions and Answers"
   ]
  },
  {
   "cell_type": "markdown",
   "metadata": {},
   "source": [
    "Q1) *What preliminary manual cleaning did you carry out to reduce dimensionality and variance?*<br/>\n",
    "A1) Examining the contents of the surveys I found that almost all the questions in GSC were captured in LDS and BSC, so I threw GSC out and reduced dimensionality by close to 100 features and salvaged 200 record from NaN rejection"
   ]
  },
  {
   "cell_type": "markdown",
   "metadata": {},
   "source": [
    "Q2) *After dropping Nans and children how many actionable records do we have?*<br/>\n",
    "A2) We have 2976 record"
   ]
  },
  {
   "cell_type": "markdown",
   "metadata": {},
   "source": [
    "Q3) *What is the shape and size of the new sets of data we are interested in?*<br/>\n",
    "A3) There are 1101 people who have ADHD but are not Bipolar and 329 people who are Bipolar but do not have ADHD"
   ]
  },
  {
   "cell_type": "markdown",
   "metadata": {},
   "source": [
    "Q4) *What was the consequence of carrying out dimensionality reduction on them?*<br/>\n",
    "A4) I experimented with regular PCA and SVD. SVD captured 81% of all the variance with just 3 features but did not capture significantly more by increasing feature count. PCA captured close to 95% of the variance with 24 features."
   ]
  },
  {
   "cell_type": "markdown",
   "metadata": {},
   "source": [
    "Q5) *Did you try mean-shift clustering on the data?*<br/>\n",
    "A5) Yes, but it was inconclusive, data did not cluster well"
   ]
  },
  {
   "cell_type": "markdown",
   "metadata": {},
   "source": [
    "Q6) *Did you try KMeans clustering on the data?*<br/>\n",
    "A6) This was incconclusive as well, the data will have to be subject to other supervised learning techniques"
   ]
  },
  {
   "cell_type": "markdown",
   "metadata": {},
   "source": [
    "Q7) through Q)13 *Did you attempt a cross validated train test with a classifier? what were the results?*<br/>\n",
    "A7) through A)13<br/>\n",
    "**Logistic Regression accuracy is 0.7699 (+/- 0.421)<br/>\n",
    "K Nearest Neighbors accuracy is 0.7364 (+/- 0.441)<br/>\n",
    "Support Vector Machine accuracy is 0.7699 (+/- 0.421)<br/>\n",
    "Random Forest accuracy is 0.7559 (+/- 0.430)<br/>\n",
    "Decision tree accuracy is 0.6531 (+/- 0.476)<br/>\n",
    "Quadratic Discriminant Analysis accuracy is 0.7119 (+/- 0.453)<br/>\n",
    "Gaussian NB accuracy is 0.7699 (+/- 0.421)<br/>**"
   ]
  },
  {
   "cell_type": "code",
   "execution_count": null,
   "metadata": {
    "collapsed": true
   },
   "outputs": [],
   "source": []
  }
 ],
 "metadata": {
  "kernelspec": {
   "display_name": "Python 2",
   "language": "python",
   "name": "python2"
  },
  "language_info": {
   "codemirror_mode": {
    "name": "ipython",
    "version": 2
   },
   "file_extension": ".py",
   "mimetype": "text/x-python",
   "name": "python",
   "nbconvert_exporter": "python",
   "pygments_lexer": "ipython2",
   "version": "2.7.6"
  }
 },
 "nbformat": 4,
 "nbformat_minor": 0
}
